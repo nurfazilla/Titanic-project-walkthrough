{
 "cells": [
  {
   "cell_type": "markdown",
   "metadata": {
    "papermill": {
     "duration": 0.091282,
     "end_time": "2021-09-21T09:14:18.222158",
     "exception": false,
     "start_time": "2021-09-21T09:14:18.130876",
     "status": "completed"
    },
    "tags": []
   },
   "source": [
    "# 1. Load relevant libraries"
   ]
  },
  {
   "cell_type": "code",
   "execution_count": 1,
   "metadata": {},
   "outputs": [
    {
     "name": "stdout",
     "output_type": "stream",
     "text": [
      "Requirement already satisfied: xgboost in c:\\users\\nurfazilla\\anaconda3\\lib\\site-packages (1.4.2)Note: you may need to restart the kernel to use updated packages.\n",
      "Requirement already satisfied: numpy in c:\\users\\nurfazilla\\anaconda3\\lib\\site-packages (from xgboost) (1.19.2)\n",
      "Requirement already satisfied: scipy in c:\\users\\nurfazilla\\anaconda3\\lib\\site-packages (from xgboost) (1.5.2)\n",
      "\n"
     ]
    }
   ],
   "source": [
    "pip install xgboost"
   ]
  },
  {
   "cell_type": "code",
   "execution_count": 2,
   "metadata": {
    "_cell_guid": "b1076dfc-b9ad-4769-8c92-a6c4dae69d19",
    "_uuid": "8f2839f25d086af736a60e9eeb907d3b93b6e0e5",
    "execution": {
     "iopub.execute_input": "2021-09-21T09:14:18.409639Z",
     "iopub.status.busy": "2021-09-21T09:14:18.408020Z",
     "iopub.status.idle": "2021-09-21T09:14:20.020241Z",
     "shell.execute_reply": "2021-09-21T09:14:20.019221Z",
     "shell.execute_reply.started": "2021-09-21T09:07:37.445388Z"
    },
    "papermill": {
     "duration": 1.70663,
     "end_time": "2021-09-21T09:14:20.020397",
     "exception": false,
     "start_time": "2021-09-21T09:14:18.313767",
     "status": "completed"
    },
    "tags": []
   },
   "outputs": [],
   "source": [
    "# Linear algebra\n",
    "import numpy as np\n",
    "\n",
    "# Data processing\n",
    "import pandas as pd\n",
    "\n",
    "# Data visualization\n",
    "import matplotlib.pyplot as plt\n",
    "import seaborn as sns\n",
    "%matplotlib inline\n",
    "\n",
    "# Statisical analysis\n",
    "import scipy.stats as stats\n",
    "\n",
    "# Preprocessing\n",
    "from sklearn.preprocessing import OneHotEncoder, LabelEncoder, label_binarize, RobustScaler, OrdinalEncoder\n",
    "from sklearn.impute import SimpleImputer\n",
    "\n",
    "# Machine Learning\n",
    "from sklearn.metrics import confusion_matrix, accuracy_score\n",
    "from sklearn.model_selection import train_test_split, cross_val_score, cross_val_predict, GridSearchCV, RandomizedSearchCV\n",
    "from sklearn import model_selection, tree, preprocessing, metrics, linear_model\n",
    "from sklearn.svm import SVC\n",
    "from sklearn.ensemble import GradientBoostingClassifier, RandomForestClassifier\n",
    "from sklearn.neighbors import KNeighborsClassifier\n",
    "from sklearn.naive_bayes import GaussianNB\n",
    "from sklearn.linear_model import LogisticRegression\n",
    "from sklearn.tree import DecisionTreeClassifier\n",
    "from catboost import CatBoostClassifier, Pool, cv\n",
    "from xgboost import XGBClassifier"
   ]
  },
  {
   "cell_type": "markdown",
   "metadata": {
    "papermill": {
     "duration": 0.089523,
     "end_time": "2021-09-21T09:14:20.201588",
     "exception": false,
     "start_time": "2021-09-21T09:14:20.112065",
     "status": "completed"
    },
    "tags": []
   },
   "source": [
    "# 2. Load dataset"
   ]
  },
  {
   "cell_type": "code",
   "execution_count": 3,
   "metadata": {
    "execution": {
     "iopub.execute_input": "2021-09-21T09:14:20.387343Z",
     "iopub.status.busy": "2021-09-21T09:14:20.386641Z",
     "iopub.status.idle": "2021-09-21T09:14:20.423502Z",
     "shell.execute_reply": "2021-09-21T09:14:20.422950Z",
     "shell.execute_reply.started": "2021-09-21T09:07:39.237590Z"
    },
    "papermill": {
     "duration": 0.131165,
     "end_time": "2021-09-21T09:14:20.423708",
     "exception": false,
     "start_time": "2021-09-21T09:14:20.292543",
     "status": "completed"
    },
    "tags": []
   },
   "outputs": [],
   "source": [
    "# Getting the data\n",
    "# First, we need to import the data. We will be working with the training dataset, while the testing dataset will be used for prediction purposes only.\n",
    "\n",
    "training = pd.read_csv(r'C:\\Users\\nurfazilla\\Desktop\\Kaggle\\1. Titanic\\train.csv')\n",
    "test = pd.read_csv(r'C:\\Users\\nurfazilla\\Desktop\\Kaggle\\1. Titanic\\test.csv')\n",
    "gender = pd.read_csv(r'C:\\Users\\nurfazilla\\Desktop\\Kaggle\\1. Titanic\\gender_submission.csv')"
   ]
  },
  {
   "cell_type": "markdown",
   "metadata": {
    "papermill": {
     "duration": 0.089773,
     "end_time": "2021-09-21T09:14:20.603544",
     "exception": false,
     "start_time": "2021-09-21T09:14:20.513771",
     "status": "completed"
    },
    "tags": []
   },
   "source": [
    "# 3. Preliminary Analysis"
   ]
  },
  {
   "cell_type": "markdown",
   "metadata": {
    "papermill": {
     "duration": 0.090077,
     "end_time": "2021-09-21T09:14:20.783472",
     "exception": false,
     "start_time": "2021-09-21T09:14:20.693395",
     "status": "completed"
    },
    "tags": []
   },
   "source": [
    "## 3a. Data exploration"
   ]
  },
  {
   "cell_type": "code",
   "execution_count": 4,
   "metadata": {
    "execution": {
     "iopub.execute_input": "2021-09-21T09:14:20.968909Z",
     "iopub.status.busy": "2021-09-21T09:14:20.968200Z",
     "iopub.status.idle": "2021-09-21T09:14:20.970178Z",
     "shell.execute_reply": "2021-09-21T09:14:20.969549Z",
     "shell.execute_reply.started": "2021-09-21T09:07:39.280126Z"
    },
    "papermill": {
     "duration": 0.096824,
     "end_time": "2021-09-21T09:14:20.970319",
     "exception": false,
     "start_time": "2021-09-21T09:14:20.873495",
     "status": "completed"
    },
    "tags": []
   },
   "outputs": [],
   "source": [
    "#to display all columns in the dataset. By default, usually Python will only display maximum of 20 columns\n",
    "pd.pandas.set_option('display.max_columns', None)"
   ]
  },
  {
   "cell_type": "code",
   "execution_count": 5,
   "metadata": {
    "execution": {
     "iopub.execute_input": "2021-09-21T09:14:21.154305Z",
     "iopub.status.busy": "2021-09-21T09:14:21.153645Z",
     "iopub.status.idle": "2021-09-21T09:14:21.183391Z",
     "shell.execute_reply": "2021-09-21T09:14:21.183932Z",
     "shell.execute_reply.started": "2021-09-21T09:07:39.286967Z"
    },
    "papermill": {
     "duration": 0.123406,
     "end_time": "2021-09-21T09:14:21.184094",
     "exception": false,
     "start_time": "2021-09-21T09:14:21.060688",
     "status": "completed"
    },
    "tags": []
   },
   "outputs": [
    {
     "data": {
      "text/html": [
       "<div>\n",
       "<style scoped>\n",
       "    .dataframe tbody tr th:only-of-type {\n",
       "        vertical-align: middle;\n",
       "    }\n",
       "\n",
       "    .dataframe tbody tr th {\n",
       "        vertical-align: top;\n",
       "    }\n",
       "\n",
       "    .dataframe thead th {\n",
       "        text-align: right;\n",
       "    }\n",
       "</style>\n",
       "<table border=\"1\" class=\"dataframe\">\n",
       "  <thead>\n",
       "    <tr style=\"text-align: right;\">\n",
       "      <th></th>\n",
       "      <th>PassengerId</th>\n",
       "      <th>Survived</th>\n",
       "      <th>Pclass</th>\n",
       "      <th>Name</th>\n",
       "      <th>Sex</th>\n",
       "      <th>Age</th>\n",
       "      <th>SibSp</th>\n",
       "      <th>Parch</th>\n",
       "      <th>Ticket</th>\n",
       "      <th>Fare</th>\n",
       "      <th>Cabin</th>\n",
       "      <th>Embarked</th>\n",
       "    </tr>\n",
       "  </thead>\n",
       "  <tbody>\n",
       "    <tr>\n",
       "      <th>0</th>\n",
       "      <td>1</td>\n",
       "      <td>0</td>\n",
       "      <td>3</td>\n",
       "      <td>Braund, Mr. Owen Harris</td>\n",
       "      <td>male</td>\n",
       "      <td>22.0</td>\n",
       "      <td>1</td>\n",
       "      <td>0</td>\n",
       "      <td>A/5 21171</td>\n",
       "      <td>7.2500</td>\n",
       "      <td>NaN</td>\n",
       "      <td>S</td>\n",
       "    </tr>\n",
       "    <tr>\n",
       "      <th>1</th>\n",
       "      <td>2</td>\n",
       "      <td>1</td>\n",
       "      <td>1</td>\n",
       "      <td>Cumings, Mrs. John Bradley (Florence Briggs Th...</td>\n",
       "      <td>female</td>\n",
       "      <td>38.0</td>\n",
       "      <td>1</td>\n",
       "      <td>0</td>\n",
       "      <td>PC 17599</td>\n",
       "      <td>71.2833</td>\n",
       "      <td>C85</td>\n",
       "      <td>C</td>\n",
       "    </tr>\n",
       "    <tr>\n",
       "      <th>2</th>\n",
       "      <td>3</td>\n",
       "      <td>1</td>\n",
       "      <td>3</td>\n",
       "      <td>Heikkinen, Miss. Laina</td>\n",
       "      <td>female</td>\n",
       "      <td>26.0</td>\n",
       "      <td>0</td>\n",
       "      <td>0</td>\n",
       "      <td>STON/O2. 3101282</td>\n",
       "      <td>7.9250</td>\n",
       "      <td>NaN</td>\n",
       "      <td>S</td>\n",
       "    </tr>\n",
       "    <tr>\n",
       "      <th>3</th>\n",
       "      <td>4</td>\n",
       "      <td>1</td>\n",
       "      <td>1</td>\n",
       "      <td>Futrelle, Mrs. Jacques Heath (Lily May Peel)</td>\n",
       "      <td>female</td>\n",
       "      <td>35.0</td>\n",
       "      <td>1</td>\n",
       "      <td>0</td>\n",
       "      <td>113803</td>\n",
       "      <td>53.1000</td>\n",
       "      <td>C123</td>\n",
       "      <td>S</td>\n",
       "    </tr>\n",
       "    <tr>\n",
       "      <th>4</th>\n",
       "      <td>5</td>\n",
       "      <td>0</td>\n",
       "      <td>3</td>\n",
       "      <td>Allen, Mr. William Henry</td>\n",
       "      <td>male</td>\n",
       "      <td>35.0</td>\n",
       "      <td>0</td>\n",
       "      <td>0</td>\n",
       "      <td>373450</td>\n",
       "      <td>8.0500</td>\n",
       "      <td>NaN</td>\n",
       "      <td>S</td>\n",
       "    </tr>\n",
       "  </tbody>\n",
       "</table>\n",
       "</div>"
      ],
      "text/plain": [
       "   PassengerId  Survived  Pclass  \\\n",
       "0            1         0       3   \n",
       "1            2         1       1   \n",
       "2            3         1       3   \n",
       "3            4         1       1   \n",
       "4            5         0       3   \n",
       "\n",
       "                                                Name     Sex   Age  SibSp  \\\n",
       "0                            Braund, Mr. Owen Harris    male  22.0      1   \n",
       "1  Cumings, Mrs. John Bradley (Florence Briggs Th...  female  38.0      1   \n",
       "2                             Heikkinen, Miss. Laina  female  26.0      0   \n",
       "3       Futrelle, Mrs. Jacques Heath (Lily May Peel)  female  35.0      1   \n",
       "4                           Allen, Mr. William Henry    male  35.0      0   \n",
       "\n",
       "   Parch            Ticket     Fare Cabin Embarked  \n",
       "0      0         A/5 21171   7.2500   NaN        S  \n",
       "1      0          PC 17599  71.2833   C85        C  \n",
       "2      0  STON/O2. 3101282   7.9250   NaN        S  \n",
       "3      0            113803  53.1000  C123        S  \n",
       "4      0            373450   8.0500   NaN        S  "
      ]
     },
     "execution_count": 5,
     "metadata": {},
     "output_type": "execute_result"
    }
   ],
   "source": [
    "# to display the first 5 rows of the training dataset\n",
    "training.head()"
   ]
  },
  {
   "cell_type": "code",
   "execution_count": 6,
   "metadata": {
    "execution": {
     "iopub.execute_input": "2021-09-21T09:14:21.368949Z",
     "iopub.status.busy": "2021-09-21T09:14:21.367698Z",
     "iopub.status.idle": "2021-09-21T09:14:21.383042Z",
     "shell.execute_reply": "2021-09-21T09:14:21.382498Z",
     "shell.execute_reply.started": "2021-09-21T09:07:39.333627Z"
    },
    "papermill": {
     "duration": 0.107793,
     "end_time": "2021-09-21T09:14:21.383178",
     "exception": false,
     "start_time": "2021-09-21T09:14:21.275385",
     "status": "completed"
    },
    "tags": []
   },
   "outputs": [
    {
     "data": {
      "text/html": [
       "<div>\n",
       "<style scoped>\n",
       "    .dataframe tbody tr th:only-of-type {\n",
       "        vertical-align: middle;\n",
       "    }\n",
       "\n",
       "    .dataframe tbody tr th {\n",
       "        vertical-align: top;\n",
       "    }\n",
       "\n",
       "    .dataframe thead th {\n",
       "        text-align: right;\n",
       "    }\n",
       "</style>\n",
       "<table border=\"1\" class=\"dataframe\">\n",
       "  <thead>\n",
       "    <tr style=\"text-align: right;\">\n",
       "      <th></th>\n",
       "      <th>PassengerId</th>\n",
       "      <th>Pclass</th>\n",
       "      <th>Name</th>\n",
       "      <th>Sex</th>\n",
       "      <th>Age</th>\n",
       "      <th>SibSp</th>\n",
       "      <th>Parch</th>\n",
       "      <th>Ticket</th>\n",
       "      <th>Fare</th>\n",
       "      <th>Cabin</th>\n",
       "      <th>Embarked</th>\n",
       "    </tr>\n",
       "  </thead>\n",
       "  <tbody>\n",
       "    <tr>\n",
       "      <th>0</th>\n",
       "      <td>892</td>\n",
       "      <td>3</td>\n",
       "      <td>Kelly, Mr. James</td>\n",
       "      <td>male</td>\n",
       "      <td>34.5</td>\n",
       "      <td>0</td>\n",
       "      <td>0</td>\n",
       "      <td>330911</td>\n",
       "      <td>7.8292</td>\n",
       "      <td>NaN</td>\n",
       "      <td>Q</td>\n",
       "    </tr>\n",
       "    <tr>\n",
       "      <th>1</th>\n",
       "      <td>893</td>\n",
       "      <td>3</td>\n",
       "      <td>Wilkes, Mrs. James (Ellen Needs)</td>\n",
       "      <td>female</td>\n",
       "      <td>47.0</td>\n",
       "      <td>1</td>\n",
       "      <td>0</td>\n",
       "      <td>363272</td>\n",
       "      <td>7.0000</td>\n",
       "      <td>NaN</td>\n",
       "      <td>S</td>\n",
       "    </tr>\n",
       "    <tr>\n",
       "      <th>2</th>\n",
       "      <td>894</td>\n",
       "      <td>2</td>\n",
       "      <td>Myles, Mr. Thomas Francis</td>\n",
       "      <td>male</td>\n",
       "      <td>62.0</td>\n",
       "      <td>0</td>\n",
       "      <td>0</td>\n",
       "      <td>240276</td>\n",
       "      <td>9.6875</td>\n",
       "      <td>NaN</td>\n",
       "      <td>Q</td>\n",
       "    </tr>\n",
       "    <tr>\n",
       "      <th>3</th>\n",
       "      <td>895</td>\n",
       "      <td>3</td>\n",
       "      <td>Wirz, Mr. Albert</td>\n",
       "      <td>male</td>\n",
       "      <td>27.0</td>\n",
       "      <td>0</td>\n",
       "      <td>0</td>\n",
       "      <td>315154</td>\n",
       "      <td>8.6625</td>\n",
       "      <td>NaN</td>\n",
       "      <td>S</td>\n",
       "    </tr>\n",
       "    <tr>\n",
       "      <th>4</th>\n",
       "      <td>896</td>\n",
       "      <td>3</td>\n",
       "      <td>Hirvonen, Mrs. Alexander (Helga E Lindqvist)</td>\n",
       "      <td>female</td>\n",
       "      <td>22.0</td>\n",
       "      <td>1</td>\n",
       "      <td>1</td>\n",
       "      <td>3101298</td>\n",
       "      <td>12.2875</td>\n",
       "      <td>NaN</td>\n",
       "      <td>S</td>\n",
       "    </tr>\n",
       "  </tbody>\n",
       "</table>\n",
       "</div>"
      ],
      "text/plain": [
       "   PassengerId  Pclass                                          Name     Sex  \\\n",
       "0          892       3                              Kelly, Mr. James    male   \n",
       "1          893       3              Wilkes, Mrs. James (Ellen Needs)  female   \n",
       "2          894       2                     Myles, Mr. Thomas Francis    male   \n",
       "3          895       3                              Wirz, Mr. Albert    male   \n",
       "4          896       3  Hirvonen, Mrs. Alexander (Helga E Lindqvist)  female   \n",
       "\n",
       "    Age  SibSp  Parch   Ticket     Fare Cabin Embarked  \n",
       "0  34.5      0      0   330911   7.8292   NaN        Q  \n",
       "1  47.0      1      0   363272   7.0000   NaN        S  \n",
       "2  62.0      0      0   240276   9.6875   NaN        Q  \n",
       "3  27.0      0      0   315154   8.6625   NaN        S  \n",
       "4  22.0      1      1  3101298  12.2875   NaN        S  "
      ]
     },
     "execution_count": 6,
     "metadata": {},
     "output_type": "execute_result"
    }
   ],
   "source": [
    "# to display the first 5 rows of the testing dataset\n",
    "test.head()"
   ]
  },
  {
   "cell_type": "code",
   "execution_count": 7,
   "metadata": {
    "execution": {
     "iopub.execute_input": "2021-09-21T09:14:21.575192Z",
     "iopub.status.busy": "2021-09-21T09:14:21.574564Z",
     "iopub.status.idle": "2021-09-21T09:14:21.577341Z",
     "shell.execute_reply": "2021-09-21T09:14:21.577832Z",
     "shell.execute_reply.started": "2021-09-21T09:07:39.351893Z"
    },
    "papermill": {
     "duration": 0.10216,
     "end_time": "2021-09-21T09:14:21.577973",
     "exception": false,
     "start_time": "2021-09-21T09:14:21.475813",
     "status": "completed"
    },
    "tags": []
   },
   "outputs": [
    {
     "data": {
      "text/html": [
       "<div>\n",
       "<style scoped>\n",
       "    .dataframe tbody tr th:only-of-type {\n",
       "        vertical-align: middle;\n",
       "    }\n",
       "\n",
       "    .dataframe tbody tr th {\n",
       "        vertical-align: top;\n",
       "    }\n",
       "\n",
       "    .dataframe thead th {\n",
       "        text-align: right;\n",
       "    }\n",
       "</style>\n",
       "<table border=\"1\" class=\"dataframe\">\n",
       "  <thead>\n",
       "    <tr style=\"text-align: right;\">\n",
       "      <th></th>\n",
       "      <th>PassengerId</th>\n",
       "      <th>Survived</th>\n",
       "    </tr>\n",
       "  </thead>\n",
       "  <tbody>\n",
       "    <tr>\n",
       "      <th>0</th>\n",
       "      <td>892</td>\n",
       "      <td>0</td>\n",
       "    </tr>\n",
       "    <tr>\n",
       "      <th>1</th>\n",
       "      <td>893</td>\n",
       "      <td>1</td>\n",
       "    </tr>\n",
       "    <tr>\n",
       "      <th>2</th>\n",
       "      <td>894</td>\n",
       "      <td>0</td>\n",
       "    </tr>\n",
       "    <tr>\n",
       "      <th>3</th>\n",
       "      <td>895</td>\n",
       "      <td>0</td>\n",
       "    </tr>\n",
       "    <tr>\n",
       "      <th>4</th>\n",
       "      <td>896</td>\n",
       "      <td>1</td>\n",
       "    </tr>\n",
       "  </tbody>\n",
       "</table>\n",
       "</div>"
      ],
      "text/plain": [
       "   PassengerId  Survived\n",
       "0          892         0\n",
       "1          893         1\n",
       "2          894         0\n",
       "3          895         0\n",
       "4          896         1"
      ]
     },
     "execution_count": 7,
     "metadata": {},
     "output_type": "execute_result"
    }
   ],
   "source": [
    "# to display the first 5 rows of example of the submission\n",
    "gender.head()"
   ]
  },
  {
   "cell_type": "code",
   "execution_count": 8,
   "metadata": {
    "execution": {
     "iopub.execute_input": "2021-09-21T09:14:21.702708Z",
     "iopub.status.busy": "2021-09-21T09:14:21.702206Z",
     "iopub.status.idle": "2021-09-21T09:14:21.705432Z",
     "shell.execute_reply": "2021-09-21T09:14:21.705910Z",
     "shell.execute_reply.started": "2021-09-21T09:07:39.368430Z"
    },
    "papermill": {
     "duration": 0.067859,
     "end_time": "2021-09-21T09:14:21.706047",
     "exception": false,
     "start_time": "2021-09-21T09:14:21.638188",
     "status": "completed"
    },
    "tags": []
   },
   "outputs": [
    {
     "data": {
      "text/plain": [
       "(891, 12)"
      ]
     },
     "execution_count": 8,
     "metadata": {},
     "output_type": "execute_result"
    }
   ],
   "source": [
    "#print shape of training dataset with rows and columns.\n",
    "training.shape"
   ]
  },
  {
   "cell_type": "code",
   "execution_count": 9,
   "metadata": {
    "execution": {
     "iopub.execute_input": "2021-09-21T09:14:21.831818Z",
     "iopub.status.busy": "2021-09-21T09:14:21.831272Z",
     "iopub.status.idle": "2021-09-21T09:14:21.839017Z",
     "shell.execute_reply": "2021-09-21T09:14:21.838379Z",
     "shell.execute_reply.started": "2021-09-21T09:07:39.383681Z"
    },
    "papermill": {
     "duration": 0.071509,
     "end_time": "2021-09-21T09:14:21.839167",
     "exception": false,
     "start_time": "2021-09-21T09:14:21.767658",
     "status": "completed"
    },
    "tags": []
   },
   "outputs": [
    {
     "data": {
      "text/plain": [
       "(418, 11)"
      ]
     },
     "execution_count": 9,
     "metadata": {},
     "output_type": "execute_result"
    }
   ],
   "source": [
    "#print shape of testing dataset with rows and columns.\n",
    "test.shape"
   ]
  },
  {
   "cell_type": "code",
   "execution_count": 10,
   "metadata": {
    "execution": {
     "iopub.execute_input": "2021-09-21T09:14:22.029418Z",
     "iopub.status.busy": "2021-09-21T09:14:22.028777Z",
     "iopub.status.idle": "2021-09-21T09:14:22.034941Z",
     "shell.execute_reply": "2021-09-21T09:14:22.035480Z",
     "shell.execute_reply.started": "2021-09-21T09:07:39.397087Z"
    },
    "papermill": {
     "duration": 0.103465,
     "end_time": "2021-09-21T09:14:22.035678",
     "exception": false,
     "start_time": "2021-09-21T09:14:21.932213",
     "status": "completed"
    },
    "tags": []
   },
   "outputs": [
    {
     "data": {
      "text/plain": [
       "(418, 2)"
      ]
     },
     "execution_count": 10,
     "metadata": {},
     "output_type": "execute_result"
    }
   ],
   "source": [
    "#print shape of gender dataset with rows and columns.\n",
    "gender.shape"
   ]
  },
  {
   "cell_type": "markdown",
   "metadata": {
    "papermill": {
     "duration": 0.09415,
     "end_time": "2021-09-21T09:14:22.225531",
     "exception": false,
     "start_time": "2021-09-21T09:14:22.131381",
     "status": "completed"
    },
    "tags": []
   },
   "source": [
    "## 3b. Feature Exploration"
   ]
  },
  {
   "cell_type": "code",
   "execution_count": 11,
   "metadata": {
    "execution": {
     "iopub.execute_input": "2021-09-21T09:14:22.415233Z",
     "iopub.status.busy": "2021-09-21T09:14:22.414641Z",
     "iopub.status.idle": "2021-09-21T09:14:22.438990Z",
     "shell.execute_reply": "2021-09-21T09:14:22.438058Z",
     "shell.execute_reply.started": "2021-09-21T09:07:39.411425Z"
    },
    "papermill": {
     "duration": 0.119604,
     "end_time": "2021-09-21T09:14:22.439167",
     "exception": false,
     "start_time": "2021-09-21T09:14:22.319563",
     "status": "completed"
    },
    "tags": []
   },
   "outputs": [
    {
     "name": "stdout",
     "output_type": "stream",
     "text": [
      "<class 'pandas.core.frame.DataFrame'>\n",
      "RangeIndex: 891 entries, 0 to 890\n",
      "Data columns (total 12 columns):\n",
      " #   Column       Non-Null Count  Dtype  \n",
      "---  ------       --------------  -----  \n",
      " 0   PassengerId  891 non-null    int64  \n",
      " 1   Survived     891 non-null    int64  \n",
      " 2   Pclass       891 non-null    int64  \n",
      " 3   Name         891 non-null    object \n",
      " 4   Sex          891 non-null    object \n",
      " 5   Age          714 non-null    float64\n",
      " 6   SibSp        891 non-null    int64  \n",
      " 7   Parch        891 non-null    int64  \n",
      " 8   Ticket       891 non-null    object \n",
      " 9   Fare         891 non-null    float64\n",
      " 10  Cabin        204 non-null    object \n",
      " 11  Embarked     889 non-null    object \n",
      "dtypes: float64(2), int64(5), object(5)\n",
      "memory usage: 83.7+ KB\n"
     ]
    }
   ],
   "source": [
    "#to display the type and sample size for each features\n",
    "training.info()"
   ]
  },
  {
   "cell_type": "code",
   "execution_count": 12,
   "metadata": {
    "execution": {
     "iopub.execute_input": "2021-09-21T09:14:22.633768Z",
     "iopub.status.busy": "2021-09-21T09:14:22.633264Z",
     "iopub.status.idle": "2021-09-21T09:14:22.658351Z",
     "shell.execute_reply": "2021-09-21T09:14:22.657841Z",
     "shell.execute_reply.started": "2021-09-21T09:07:39.444738Z"
    },
    "papermill": {
     "duration": 0.123961,
     "end_time": "2021-09-21T09:14:22.658461",
     "exception": false,
     "start_time": "2021-09-21T09:14:22.534500",
     "status": "completed"
    },
    "tags": []
   },
   "outputs": [
    {
     "data": {
      "text/html": [
       "<div>\n",
       "<style scoped>\n",
       "    .dataframe tbody tr th:only-of-type {\n",
       "        vertical-align: middle;\n",
       "    }\n",
       "\n",
       "    .dataframe tbody tr th {\n",
       "        vertical-align: top;\n",
       "    }\n",
       "\n",
       "    .dataframe thead th {\n",
       "        text-align: right;\n",
       "    }\n",
       "</style>\n",
       "<table border=\"1\" class=\"dataframe\">\n",
       "  <thead>\n",
       "    <tr style=\"text-align: right;\">\n",
       "      <th></th>\n",
       "      <th>PassengerId</th>\n",
       "      <th>Survived</th>\n",
       "      <th>Pclass</th>\n",
       "      <th>Age</th>\n",
       "      <th>SibSp</th>\n",
       "      <th>Parch</th>\n",
       "      <th>Fare</th>\n",
       "    </tr>\n",
       "  </thead>\n",
       "  <tbody>\n",
       "    <tr>\n",
       "      <th>count</th>\n",
       "      <td>891.000000</td>\n",
       "      <td>891.000000</td>\n",
       "      <td>891.000000</td>\n",
       "      <td>714.000000</td>\n",
       "      <td>891.000000</td>\n",
       "      <td>891.000000</td>\n",
       "      <td>891.000000</td>\n",
       "    </tr>\n",
       "    <tr>\n",
       "      <th>mean</th>\n",
       "      <td>446.000000</td>\n",
       "      <td>0.383838</td>\n",
       "      <td>2.308642</td>\n",
       "      <td>29.699118</td>\n",
       "      <td>0.523008</td>\n",
       "      <td>0.381594</td>\n",
       "      <td>32.204208</td>\n",
       "    </tr>\n",
       "    <tr>\n",
       "      <th>std</th>\n",
       "      <td>257.353842</td>\n",
       "      <td>0.486592</td>\n",
       "      <td>0.836071</td>\n",
       "      <td>14.526497</td>\n",
       "      <td>1.102743</td>\n",
       "      <td>0.806057</td>\n",
       "      <td>49.693429</td>\n",
       "    </tr>\n",
       "    <tr>\n",
       "      <th>min</th>\n",
       "      <td>1.000000</td>\n",
       "      <td>0.000000</td>\n",
       "      <td>1.000000</td>\n",
       "      <td>0.420000</td>\n",
       "      <td>0.000000</td>\n",
       "      <td>0.000000</td>\n",
       "      <td>0.000000</td>\n",
       "    </tr>\n",
       "    <tr>\n",
       "      <th>25%</th>\n",
       "      <td>223.500000</td>\n",
       "      <td>0.000000</td>\n",
       "      <td>2.000000</td>\n",
       "      <td>20.125000</td>\n",
       "      <td>0.000000</td>\n",
       "      <td>0.000000</td>\n",
       "      <td>7.910400</td>\n",
       "    </tr>\n",
       "    <tr>\n",
       "      <th>50%</th>\n",
       "      <td>446.000000</td>\n",
       "      <td>0.000000</td>\n",
       "      <td>3.000000</td>\n",
       "      <td>28.000000</td>\n",
       "      <td>0.000000</td>\n",
       "      <td>0.000000</td>\n",
       "      <td>14.454200</td>\n",
       "    </tr>\n",
       "    <tr>\n",
       "      <th>75%</th>\n",
       "      <td>668.500000</td>\n",
       "      <td>1.000000</td>\n",
       "      <td>3.000000</td>\n",
       "      <td>38.000000</td>\n",
       "      <td>1.000000</td>\n",
       "      <td>0.000000</td>\n",
       "      <td>31.000000</td>\n",
       "    </tr>\n",
       "    <tr>\n",
       "      <th>max</th>\n",
       "      <td>891.000000</td>\n",
       "      <td>1.000000</td>\n",
       "      <td>3.000000</td>\n",
       "      <td>80.000000</td>\n",
       "      <td>8.000000</td>\n",
       "      <td>6.000000</td>\n",
       "      <td>512.329200</td>\n",
       "    </tr>\n",
       "  </tbody>\n",
       "</table>\n",
       "</div>"
      ],
      "text/plain": [
       "       PassengerId    Survived      Pclass         Age       SibSp  \\\n",
       "count   891.000000  891.000000  891.000000  714.000000  891.000000   \n",
       "mean    446.000000    0.383838    2.308642   29.699118    0.523008   \n",
       "std     257.353842    0.486592    0.836071   14.526497    1.102743   \n",
       "min       1.000000    0.000000    1.000000    0.420000    0.000000   \n",
       "25%     223.500000    0.000000    2.000000   20.125000    0.000000   \n",
       "50%     446.000000    0.000000    3.000000   28.000000    0.000000   \n",
       "75%     668.500000    1.000000    3.000000   38.000000    1.000000   \n",
       "max     891.000000    1.000000    3.000000   80.000000    8.000000   \n",
       "\n",
       "            Parch        Fare  \n",
       "count  891.000000  891.000000  \n",
       "mean     0.381594   32.204208  \n",
       "std      0.806057   49.693429  \n",
       "min      0.000000    0.000000  \n",
       "25%      0.000000    7.910400  \n",
       "50%      0.000000   14.454200  \n",
       "75%      0.000000   31.000000  \n",
       "max      6.000000  512.329200  "
      ]
     },
     "execution_count": 12,
     "metadata": {},
     "output_type": "execute_result"
    }
   ],
   "source": [
    "# Basic statistical measure for numerical features\n",
    "training.describe()"
   ]
  },
  {
   "cell_type": "code",
   "execution_count": 13,
   "metadata": {
    "execution": {
     "iopub.execute_input": "2021-09-21T09:14:22.949826Z",
     "iopub.status.busy": "2021-09-21T09:14:22.949199Z",
     "iopub.status.idle": "2021-09-21T09:14:22.982801Z",
     "shell.execute_reply": "2021-09-21T09:14:22.982222Z",
     "shell.execute_reply.started": "2021-09-21T09:07:39.516915Z"
    },
    "papermill": {
     "duration": 0.103213,
     "end_time": "2021-09-21T09:14:22.982948",
     "exception": false,
     "start_time": "2021-09-21T09:14:22.879735",
     "status": "completed"
    },
    "tags": []
   },
   "outputs": [
    {
     "data": {
      "text/html": [
       "<div>\n",
       "<style scoped>\n",
       "    .dataframe tbody tr th:only-of-type {\n",
       "        vertical-align: middle;\n",
       "    }\n",
       "\n",
       "    .dataframe tbody tr th {\n",
       "        vertical-align: top;\n",
       "    }\n",
       "\n",
       "    .dataframe thead th {\n",
       "        text-align: right;\n",
       "    }\n",
       "</style>\n",
       "<table border=\"1\" class=\"dataframe\">\n",
       "  <thead>\n",
       "    <tr style=\"text-align: right;\">\n",
       "      <th></th>\n",
       "      <th>Name</th>\n",
       "      <th>Sex</th>\n",
       "      <th>Ticket</th>\n",
       "      <th>Cabin</th>\n",
       "      <th>Embarked</th>\n",
       "    </tr>\n",
       "  </thead>\n",
       "  <tbody>\n",
       "    <tr>\n",
       "      <th>count</th>\n",
       "      <td>891</td>\n",
       "      <td>891</td>\n",
       "      <td>891</td>\n",
       "      <td>204</td>\n",
       "      <td>889</td>\n",
       "    </tr>\n",
       "    <tr>\n",
       "      <th>unique</th>\n",
       "      <td>891</td>\n",
       "      <td>2</td>\n",
       "      <td>681</td>\n",
       "      <td>147</td>\n",
       "      <td>3</td>\n",
       "    </tr>\n",
       "    <tr>\n",
       "      <th>top</th>\n",
       "      <td>Chaffee, Mr. Herbert Fuller</td>\n",
       "      <td>male</td>\n",
       "      <td>347082</td>\n",
       "      <td>G6</td>\n",
       "      <td>S</td>\n",
       "    </tr>\n",
       "    <tr>\n",
       "      <th>freq</th>\n",
       "      <td>1</td>\n",
       "      <td>577</td>\n",
       "      <td>7</td>\n",
       "      <td>4</td>\n",
       "      <td>644</td>\n",
       "    </tr>\n",
       "  </tbody>\n",
       "</table>\n",
       "</div>"
      ],
      "text/plain": [
       "                               Name   Sex  Ticket Cabin Embarked\n",
       "count                           891   891     891   204      889\n",
       "unique                          891     2     681   147        3\n",
       "top     Chaffee, Mr. Herbert Fuller  male  347082    G6        S\n",
       "freq                              1   577       7     4      644"
      ]
     },
     "execution_count": 13,
     "metadata": {},
     "output_type": "execute_result"
    }
   ],
   "source": [
    "# Basic statistical measure for categorical features\n",
    "training.describe(include='object')"
   ]
  },
  {
   "cell_type": "code",
   "execution_count": 14,
   "metadata": {},
   "outputs": [
    {
     "data": {
      "text/html": [
       "<div>\n",
       "<style scoped>\n",
       "    .dataframe tbody tr th:only-of-type {\n",
       "        vertical-align: middle;\n",
       "    }\n",
       "\n",
       "    .dataframe tbody tr th {\n",
       "        vertical-align: top;\n",
       "    }\n",
       "\n",
       "    .dataframe thead th {\n",
       "        text-align: right;\n",
       "    }\n",
       "</style>\n",
       "<table border=\"1\" class=\"dataframe\">\n",
       "  <thead>\n",
       "    <tr style=\"text-align: right;\">\n",
       "      <th></th>\n",
       "      <th>PassengerId</th>\n",
       "      <th>Pclass</th>\n",
       "      <th>Age</th>\n",
       "      <th>SibSp</th>\n",
       "      <th>Parch</th>\n",
       "      <th>Fare</th>\n",
       "    </tr>\n",
       "  </thead>\n",
       "  <tbody>\n",
       "    <tr>\n",
       "      <th>count</th>\n",
       "      <td>418.000000</td>\n",
       "      <td>418.000000</td>\n",
       "      <td>332.000000</td>\n",
       "      <td>418.000000</td>\n",
       "      <td>418.000000</td>\n",
       "      <td>417.000000</td>\n",
       "    </tr>\n",
       "    <tr>\n",
       "      <th>mean</th>\n",
       "      <td>1100.500000</td>\n",
       "      <td>2.265550</td>\n",
       "      <td>30.272590</td>\n",
       "      <td>0.447368</td>\n",
       "      <td>0.392344</td>\n",
       "      <td>35.627188</td>\n",
       "    </tr>\n",
       "    <tr>\n",
       "      <th>std</th>\n",
       "      <td>120.810458</td>\n",
       "      <td>0.841838</td>\n",
       "      <td>14.181209</td>\n",
       "      <td>0.896760</td>\n",
       "      <td>0.981429</td>\n",
       "      <td>55.907576</td>\n",
       "    </tr>\n",
       "    <tr>\n",
       "      <th>min</th>\n",
       "      <td>892.000000</td>\n",
       "      <td>1.000000</td>\n",
       "      <td>0.170000</td>\n",
       "      <td>0.000000</td>\n",
       "      <td>0.000000</td>\n",
       "      <td>0.000000</td>\n",
       "    </tr>\n",
       "    <tr>\n",
       "      <th>25%</th>\n",
       "      <td>996.250000</td>\n",
       "      <td>1.000000</td>\n",
       "      <td>21.000000</td>\n",
       "      <td>0.000000</td>\n",
       "      <td>0.000000</td>\n",
       "      <td>7.895800</td>\n",
       "    </tr>\n",
       "    <tr>\n",
       "      <th>50%</th>\n",
       "      <td>1100.500000</td>\n",
       "      <td>3.000000</td>\n",
       "      <td>27.000000</td>\n",
       "      <td>0.000000</td>\n",
       "      <td>0.000000</td>\n",
       "      <td>14.454200</td>\n",
       "    </tr>\n",
       "    <tr>\n",
       "      <th>75%</th>\n",
       "      <td>1204.750000</td>\n",
       "      <td>3.000000</td>\n",
       "      <td>39.000000</td>\n",
       "      <td>1.000000</td>\n",
       "      <td>0.000000</td>\n",
       "      <td>31.500000</td>\n",
       "    </tr>\n",
       "    <tr>\n",
       "      <th>max</th>\n",
       "      <td>1309.000000</td>\n",
       "      <td>3.000000</td>\n",
       "      <td>76.000000</td>\n",
       "      <td>8.000000</td>\n",
       "      <td>9.000000</td>\n",
       "      <td>512.329200</td>\n",
       "    </tr>\n",
       "  </tbody>\n",
       "</table>\n",
       "</div>"
      ],
      "text/plain": [
       "       PassengerId      Pclass         Age       SibSp       Parch        Fare\n",
       "count   418.000000  418.000000  332.000000  418.000000  418.000000  417.000000\n",
       "mean   1100.500000    2.265550   30.272590    0.447368    0.392344   35.627188\n",
       "std     120.810458    0.841838   14.181209    0.896760    0.981429   55.907576\n",
       "min     892.000000    1.000000    0.170000    0.000000    0.000000    0.000000\n",
       "25%     996.250000    1.000000   21.000000    0.000000    0.000000    7.895800\n",
       "50%    1100.500000    3.000000   27.000000    0.000000    0.000000   14.454200\n",
       "75%    1204.750000    3.000000   39.000000    1.000000    0.000000   31.500000\n",
       "max    1309.000000    3.000000   76.000000    8.000000    9.000000  512.329200"
      ]
     },
     "execution_count": 14,
     "metadata": {},
     "output_type": "execute_result"
    }
   ],
   "source": [
    "test.describe()"
   ]
  },
  {
   "cell_type": "code",
   "execution_count": 15,
   "metadata": {},
   "outputs": [
    {
     "data": {
      "text/html": [
       "<div>\n",
       "<style scoped>\n",
       "    .dataframe tbody tr th:only-of-type {\n",
       "        vertical-align: middle;\n",
       "    }\n",
       "\n",
       "    .dataframe tbody tr th {\n",
       "        vertical-align: top;\n",
       "    }\n",
       "\n",
       "    .dataframe thead th {\n",
       "        text-align: right;\n",
       "    }\n",
       "</style>\n",
       "<table border=\"1\" class=\"dataframe\">\n",
       "  <thead>\n",
       "    <tr style=\"text-align: right;\">\n",
       "      <th></th>\n",
       "      <th>Name</th>\n",
       "      <th>Sex</th>\n",
       "      <th>Ticket</th>\n",
       "      <th>Cabin</th>\n",
       "      <th>Embarked</th>\n",
       "    </tr>\n",
       "  </thead>\n",
       "  <tbody>\n",
       "    <tr>\n",
       "      <th>count</th>\n",
       "      <td>418</td>\n",
       "      <td>418</td>\n",
       "      <td>418</td>\n",
       "      <td>91</td>\n",
       "      <td>418</td>\n",
       "    </tr>\n",
       "    <tr>\n",
       "      <th>unique</th>\n",
       "      <td>418</td>\n",
       "      <td>2</td>\n",
       "      <td>363</td>\n",
       "      <td>76</td>\n",
       "      <td>3</td>\n",
       "    </tr>\n",
       "    <tr>\n",
       "      <th>top</th>\n",
       "      <td>Cotterill, Mr. Henry Harry\"\"</td>\n",
       "      <td>male</td>\n",
       "      <td>PC 17608</td>\n",
       "      <td>B57 B59 B63 B66</td>\n",
       "      <td>S</td>\n",
       "    </tr>\n",
       "    <tr>\n",
       "      <th>freq</th>\n",
       "      <td>1</td>\n",
       "      <td>266</td>\n",
       "      <td>5</td>\n",
       "      <td>3</td>\n",
       "      <td>270</td>\n",
       "    </tr>\n",
       "  </tbody>\n",
       "</table>\n",
       "</div>"
      ],
      "text/plain": [
       "                                Name   Sex    Ticket            Cabin Embarked\n",
       "count                            418   418       418               91      418\n",
       "unique                           418     2       363               76        3\n",
       "top     Cotterill, Mr. Henry Harry\"\"  male  PC 17608  B57 B59 B63 B66        S\n",
       "freq                               1   266         5                3      270"
      ]
     },
     "execution_count": 15,
     "metadata": {},
     "output_type": "execute_result"
    }
   ],
   "source": [
    "test.describe(include='object')"
   ]
  },
  {
   "cell_type": "markdown",
   "metadata": {
    "papermill": {
     "duration": 0.094127,
     "end_time": "2021-09-21T09:14:23.171702",
     "exception": false,
     "start_time": "2021-09-21T09:14:23.077575",
     "status": "completed"
    },
    "tags": []
   },
   "source": [
    "# 4. Feature Engineering"
   ]
  },
  {
   "cell_type": "markdown",
   "metadata": {
    "papermill": {
     "duration": 0.09589,
     "end_time": "2021-09-21T09:14:23.362426",
     "exception": false,
     "start_time": "2021-09-21T09:14:23.266536",
     "status": "completed"
    },
    "tags": []
   },
   "source": [
    "## 4a. Creation of new features"
   ]
  },
  {
   "cell_type": "code",
   "execution_count": 16,
   "metadata": {
    "execution": {
     "iopub.execute_input": "2021-09-21T09:14:23.560856Z",
     "iopub.status.busy": "2021-09-21T09:14:23.560175Z",
     "iopub.status.idle": "2021-09-21T09:14:23.563833Z",
     "shell.execute_reply": "2021-09-21T09:14:23.563343Z",
     "shell.execute_reply.started": "2021-09-21T09:07:39.566773Z"
    },
    "papermill": {
     "duration": 0.105862,
     "end_time": "2021-09-21T09:14:23.563953",
     "exception": false,
     "start_time": "2021-09-21T09:14:23.458091",
     "status": "completed"
    },
    "tags": []
   },
   "outputs": [],
   "source": [
    "# Create column of number of Family members onboard\n",
    "training['Family_Size'] = training.Parch + training.SibSp"
   ]
  },
  {
   "cell_type": "code",
   "execution_count": 17,
   "metadata": {
    "execution": {
     "iopub.execute_input": "2021-09-21T09:14:23.696501Z",
     "iopub.status.busy": "2021-09-21T09:14:23.691017Z",
     "iopub.status.idle": "2021-09-21T09:14:23.706090Z",
     "shell.execute_reply": "2021-09-21T09:14:23.706448Z",
     "shell.execute_reply.started": "2021-09-21T09:07:39.574656Z"
    },
    "papermill": {
     "duration": 0.080205,
     "end_time": "2021-09-21T09:14:23.706624",
     "exception": false,
     "start_time": "2021-09-21T09:14:23.626419",
     "status": "completed"
    },
    "tags": []
   },
   "outputs": [
    {
     "data": {
      "text/html": [
       "<div>\n",
       "<style scoped>\n",
       "    .dataframe tbody tr th:only-of-type {\n",
       "        vertical-align: middle;\n",
       "    }\n",
       "\n",
       "    .dataframe tbody tr th {\n",
       "        vertical-align: top;\n",
       "    }\n",
       "\n",
       "    .dataframe thead th {\n",
       "        text-align: right;\n",
       "    }\n",
       "</style>\n",
       "<table border=\"1\" class=\"dataframe\">\n",
       "  <thead>\n",
       "    <tr style=\"text-align: right;\">\n",
       "      <th></th>\n",
       "      <th>PassengerId</th>\n",
       "      <th>Survived</th>\n",
       "      <th>Pclass</th>\n",
       "      <th>Name</th>\n",
       "      <th>Sex</th>\n",
       "      <th>Age</th>\n",
       "      <th>SibSp</th>\n",
       "      <th>Parch</th>\n",
       "      <th>Ticket</th>\n",
       "      <th>Fare</th>\n",
       "      <th>Cabin</th>\n",
       "      <th>Embarked</th>\n",
       "      <th>Family_Size</th>\n",
       "    </tr>\n",
       "  </thead>\n",
       "  <tbody>\n",
       "    <tr>\n",
       "      <th>0</th>\n",
       "      <td>1</td>\n",
       "      <td>0</td>\n",
       "      <td>3</td>\n",
       "      <td>Braund, Mr. Owen Harris</td>\n",
       "      <td>male</td>\n",
       "      <td>22.0</td>\n",
       "      <td>1</td>\n",
       "      <td>0</td>\n",
       "      <td>A/5 21171</td>\n",
       "      <td>7.2500</td>\n",
       "      <td>NaN</td>\n",
       "      <td>S</td>\n",
       "      <td>1</td>\n",
       "    </tr>\n",
       "    <tr>\n",
       "      <th>1</th>\n",
       "      <td>2</td>\n",
       "      <td>1</td>\n",
       "      <td>1</td>\n",
       "      <td>Cumings, Mrs. John Bradley (Florence Briggs Th...</td>\n",
       "      <td>female</td>\n",
       "      <td>38.0</td>\n",
       "      <td>1</td>\n",
       "      <td>0</td>\n",
       "      <td>PC 17599</td>\n",
       "      <td>71.2833</td>\n",
       "      <td>C85</td>\n",
       "      <td>C</td>\n",
       "      <td>1</td>\n",
       "    </tr>\n",
       "    <tr>\n",
       "      <th>2</th>\n",
       "      <td>3</td>\n",
       "      <td>1</td>\n",
       "      <td>3</td>\n",
       "      <td>Heikkinen, Miss. Laina</td>\n",
       "      <td>female</td>\n",
       "      <td>26.0</td>\n",
       "      <td>0</td>\n",
       "      <td>0</td>\n",
       "      <td>STON/O2. 3101282</td>\n",
       "      <td>7.9250</td>\n",
       "      <td>NaN</td>\n",
       "      <td>S</td>\n",
       "      <td>0</td>\n",
       "    </tr>\n",
       "    <tr>\n",
       "      <th>3</th>\n",
       "      <td>4</td>\n",
       "      <td>1</td>\n",
       "      <td>1</td>\n",
       "      <td>Futrelle, Mrs. Jacques Heath (Lily May Peel)</td>\n",
       "      <td>female</td>\n",
       "      <td>35.0</td>\n",
       "      <td>1</td>\n",
       "      <td>0</td>\n",
       "      <td>113803</td>\n",
       "      <td>53.1000</td>\n",
       "      <td>C123</td>\n",
       "      <td>S</td>\n",
       "      <td>1</td>\n",
       "    </tr>\n",
       "    <tr>\n",
       "      <th>4</th>\n",
       "      <td>5</td>\n",
       "      <td>0</td>\n",
       "      <td>3</td>\n",
       "      <td>Allen, Mr. William Henry</td>\n",
       "      <td>male</td>\n",
       "      <td>35.0</td>\n",
       "      <td>0</td>\n",
       "      <td>0</td>\n",
       "      <td>373450</td>\n",
       "      <td>8.0500</td>\n",
       "      <td>NaN</td>\n",
       "      <td>S</td>\n",
       "      <td>0</td>\n",
       "    </tr>\n",
       "  </tbody>\n",
       "</table>\n",
       "</div>"
      ],
      "text/plain": [
       "   PassengerId  Survived  Pclass  \\\n",
       "0            1         0       3   \n",
       "1            2         1       1   \n",
       "2            3         1       3   \n",
       "3            4         1       1   \n",
       "4            5         0       3   \n",
       "\n",
       "                                                Name     Sex   Age  SibSp  \\\n",
       "0                            Braund, Mr. Owen Harris    male  22.0      1   \n",
       "1  Cumings, Mrs. John Bradley (Florence Briggs Th...  female  38.0      1   \n",
       "2                             Heikkinen, Miss. Laina  female  26.0      0   \n",
       "3       Futrelle, Mrs. Jacques Heath (Lily May Peel)  female  35.0      1   \n",
       "4                           Allen, Mr. William Henry    male  35.0      0   \n",
       "\n",
       "   Parch            Ticket     Fare Cabin Embarked  Family_Size  \n",
       "0      0         A/5 21171   7.2500   NaN        S            1  \n",
       "1      0          PC 17599  71.2833   C85        C            1  \n",
       "2      0  STON/O2. 3101282   7.9250   NaN        S            0  \n",
       "3      0            113803  53.1000  C123        S            1  \n",
       "4      0            373450   8.0500   NaN        S            0  "
      ]
     },
     "execution_count": 17,
     "metadata": {},
     "output_type": "execute_result"
    }
   ],
   "source": [
    "# Checking the inclusion of the Family_Size\n",
    "training.head()"
   ]
  },
  {
   "cell_type": "code",
   "execution_count": 18,
   "metadata": {
    "execution": {
     "iopub.execute_input": "2021-09-21T09:14:23.834757Z",
     "iopub.status.busy": "2021-09-21T09:14:23.834227Z",
     "iopub.status.idle": "2021-09-21T09:14:24.059635Z",
     "shell.execute_reply": "2021-09-21T09:14:24.059029Z",
     "shell.execute_reply.started": "2021-09-21T09:07:39.602703Z"
    },
    "papermill": {
     "duration": 0.29025,
     "end_time": "2021-09-21T09:14:24.059783",
     "exception": false,
     "start_time": "2021-09-21T09:14:23.769533",
     "status": "completed"
    },
    "tags": []
   },
   "outputs": [
    {
     "data": {
      "image/png": "[encoded data removed]",
      "text/plain": [
       "<Figure size 432x288 with 1 Axes>"
      ]
     },
     "metadata": {
      "needs_background": "light"
     },
     "output_type": "display_data"
    }
   ],
   "source": [
    "#Import the regex \n",
    "import re\n",
    "\n",
    "#Extract tht Passengers Title, store the Title in a column and plot a barplot\n",
    "training['Title'] = training.Name.apply(lambda x: re.search(' ([A-Z][a-z]+)\\.', x).group(1))\n",
    "sns.countplot(x='Title', data=training);\n",
    "plt.xticks(rotation=90);"
   ]
  },
  {
   "cell_type": "code",
   "execution_count": 19,
   "metadata": {
    "execution": {
     "iopub.execute_input": "2021-09-21T09:14:24.260374Z",
     "iopub.status.busy": "2021-09-21T09:14:24.259660Z",
     "iopub.status.idle": "2021-09-21T09:14:24.264771Z",
     "shell.execute_reply": "2021-09-21T09:14:24.264309Z",
     "shell.execute_reply.started": "2021-09-21T09:07:39.912498Z"
    },
    "papermill": {
     "duration": 0.108146,
     "end_time": "2021-09-21T09:14:24.264891",
     "exception": false,
     "start_time": "2021-09-21T09:14:24.156745",
     "status": "completed"
    },
    "tags": []
   },
   "outputs": [
    {
     "data": {
      "text/plain": [
       "Mr          517\n",
       "Miss        182\n",
       "Mrs         125\n",
       "Master       40\n",
       "Dr            7\n",
       "Rev           6\n",
       "Major         2\n",
       "Col           2\n",
       "Mlle          2\n",
       "Lady          1\n",
       "Capt          1\n",
       "Sir           1\n",
       "Countess      1\n",
       "Jonkheer      1\n",
       "Ms            1\n",
       "Don           1\n",
       "Mme           1\n",
       "Name: Title, dtype: int64"
      ]
     },
     "execution_count": 19,
     "metadata": {},
     "output_type": "execute_result"
    }
   ],
   "source": [
    "#Checking the count values for Title\n",
    "training.Title.value_counts()"
   ]
  },
  {
   "cell_type": "code",
   "execution_count": 20,
   "metadata": {
    "execution": {
     "iopub.execute_input": "2021-09-21T09:14:24.406318Z",
     "iopub.status.busy": "2021-09-21T09:14:24.405673Z",
     "iopub.status.idle": "2021-09-21T09:14:24.409204Z",
     "shell.execute_reply": "2021-09-21T09:14:24.408580Z",
     "shell.execute_reply.started": "2021-09-21T09:07:39.923595Z"
    },
    "papermill": {
     "duration": 0.078555,
     "end_time": "2021-09-21T09:14:24.409349",
     "exception": false,
     "start_time": "2021-09-21T09:14:24.330794",
     "status": "completed"
    },
    "tags": []
   },
   "outputs": [],
   "source": [
    "# Replace with appropriate title\n",
    "training['Title'] = training['Title'].replace({'Mlle':'Miss', 'Mme':'Mrs', 'Ms':'Miss'})\n",
    "training['Title'] = training['Title'].replace(['Don', 'Rev', 'Dr','Major', 'Lady', 'Sir', 'Col', 'Capt', 'Countess', 'Jonkheer'],'Misc')"
   ]
  },
  {
   "cell_type": "code",
   "execution_count": 21,
   "metadata": {
    "execution": {
     "iopub.execute_input": "2021-09-21T09:14:24.603057Z",
     "iopub.status.busy": "2021-09-21T09:14:24.602632Z",
     "iopub.status.idle": "2021-09-21T09:14:24.611112Z",
     "shell.execute_reply": "2021-09-21T09:14:24.611451Z",
     "shell.execute_reply.started": "2021-09-21T09:07:39.939745Z"
    },
    "papermill": {
     "duration": 0.105628,
     "end_time": "2021-09-21T09:14:24.611613",
     "exception": false,
     "start_time": "2021-09-21T09:14:24.505985",
     "status": "completed"
    },
    "tags": []
   },
   "outputs": [
    {
     "data": {
      "text/plain": [
       "Mr        517\n",
       "Miss      185\n",
       "Mrs       126\n",
       "Master     40\n",
       "Misc       23\n",
       "Name: Title, dtype: int64"
      ]
     },
     "execution_count": 21,
     "metadata": {},
     "output_type": "execute_result"
    }
   ],
   "source": [
    "#Checking the count values for Title\n",
    "training.Title.value_counts()"
   ]
  },
  {
   "cell_type": "code",
   "execution_count": 22,
   "metadata": {
    "execution": {
     "iopub.execute_input": "2021-09-21T09:14:24.745465Z",
     "iopub.status.busy": "2021-09-21T09:14:24.744746Z",
     "iopub.status.idle": "2021-09-21T09:14:24.748964Z",
     "shell.execute_reply": "2021-09-21T09:14:24.748424Z",
     "shell.execute_reply.started": "2021-09-21T09:07:39.959514Z"
    },
    "papermill": {
     "duration": 0.075077,
     "end_time": "2021-09-21T09:14:24.749098",
     "exception": false,
     "start_time": "2021-09-21T09:14:24.674021",
     "status": "completed"
    },
    "tags": []
   },
   "outputs": [],
   "source": [
    "#Recategorizing the Title for Misc according to gender\n",
    "training['Title'] = np.where(((training.Sex == 'male') & (training.Title == 'Misc')),'Misc_Male',training.Title)\n",
    "training['Title'] = np.where(((training.Sex == 'female') & (training.Title == 'Misc')),'Misc_Female',training.Title)"
   ]
  },
  {
   "cell_type": "code",
   "execution_count": 23,
   "metadata": {
    "execution": {
     "iopub.execute_input": "2021-09-21T09:14:24.948926Z",
     "iopub.status.busy": "2021-09-21T09:14:24.948153Z",
     "iopub.status.idle": "2021-09-21T09:14:24.970562Z",
     "shell.execute_reply": "2021-09-21T09:14:24.970106Z",
     "shell.execute_reply.started": "2021-09-21T09:07:39.973351Z"
    },
    "papermill": {
     "duration": 0.124356,
     "end_time": "2021-09-21T09:14:24.970690",
     "exception": false,
     "start_time": "2021-09-21T09:14:24.846334",
     "status": "completed"
    },
    "tags": []
   },
   "outputs": [
    {
     "data": {
      "text/html": [
       "<div>\n",
       "<style scoped>\n",
       "    .dataframe tbody tr th:only-of-type {\n",
       "        vertical-align: middle;\n",
       "    }\n",
       "\n",
       "    .dataframe tbody tr th {\n",
       "        vertical-align: top;\n",
       "    }\n",
       "\n",
       "    .dataframe thead th {\n",
       "        text-align: right;\n",
       "    }\n",
       "</style>\n",
       "<table border=\"1\" class=\"dataframe\">\n",
       "  <thead>\n",
       "    <tr style=\"text-align: right;\">\n",
       "      <th></th>\n",
       "      <th>PassengerId</th>\n",
       "      <th>Survived</th>\n",
       "      <th>Pclass</th>\n",
       "      <th>Name</th>\n",
       "      <th>Sex</th>\n",
       "      <th>Age</th>\n",
       "      <th>SibSp</th>\n",
       "      <th>Parch</th>\n",
       "      <th>Ticket</th>\n",
       "      <th>Fare</th>\n",
       "      <th>Cabin</th>\n",
       "      <th>Embarked</th>\n",
       "      <th>Family_Size</th>\n",
       "      <th>Title</th>\n",
       "    </tr>\n",
       "  </thead>\n",
       "  <tbody>\n",
       "    <tr>\n",
       "      <th>30</th>\n",
       "      <td>31</td>\n",
       "      <td>0</td>\n",
       "      <td>1</td>\n",
       "      <td>Uruchurtu, Don. Manuel E</td>\n",
       "      <td>male</td>\n",
       "      <td>40.0</td>\n",
       "      <td>0</td>\n",
       "      <td>0</td>\n",
       "      <td>PC 17601</td>\n",
       "      <td>27.7208</td>\n",
       "      <td>NaN</td>\n",
       "      <td>C</td>\n",
       "      <td>0</td>\n",
       "      <td>Misc_Male</td>\n",
       "    </tr>\n",
       "    <tr>\n",
       "      <th>149</th>\n",
       "      <td>150</td>\n",
       "      <td>0</td>\n",
       "      <td>2</td>\n",
       "      <td>Byles, Rev. Thomas Roussel Davids</td>\n",
       "      <td>male</td>\n",
       "      <td>42.0</td>\n",
       "      <td>0</td>\n",
       "      <td>0</td>\n",
       "      <td>244310</td>\n",
       "      <td>13.0000</td>\n",
       "      <td>NaN</td>\n",
       "      <td>S</td>\n",
       "      <td>0</td>\n",
       "      <td>Misc_Male</td>\n",
       "    </tr>\n",
       "    <tr>\n",
       "      <th>150</th>\n",
       "      <td>151</td>\n",
       "      <td>0</td>\n",
       "      <td>2</td>\n",
       "      <td>Bateman, Rev. Robert James</td>\n",
       "      <td>male</td>\n",
       "      <td>51.0</td>\n",
       "      <td>0</td>\n",
       "      <td>0</td>\n",
       "      <td>S.O.P. 1166</td>\n",
       "      <td>12.5250</td>\n",
       "      <td>NaN</td>\n",
       "      <td>S</td>\n",
       "      <td>0</td>\n",
       "      <td>Misc_Male</td>\n",
       "    </tr>\n",
       "    <tr>\n",
       "      <th>245</th>\n",
       "      <td>246</td>\n",
       "      <td>0</td>\n",
       "      <td>1</td>\n",
       "      <td>Minahan, Dr. William Edward</td>\n",
       "      <td>male</td>\n",
       "      <td>44.0</td>\n",
       "      <td>2</td>\n",
       "      <td>0</td>\n",
       "      <td>19928</td>\n",
       "      <td>90.0000</td>\n",
       "      <td>C78</td>\n",
       "      <td>Q</td>\n",
       "      <td>2</td>\n",
       "      <td>Misc_Male</td>\n",
       "    </tr>\n",
       "    <tr>\n",
       "      <th>249</th>\n",
       "      <td>250</td>\n",
       "      <td>0</td>\n",
       "      <td>2</td>\n",
       "      <td>Carter, Rev. Ernest Courtenay</td>\n",
       "      <td>male</td>\n",
       "      <td>54.0</td>\n",
       "      <td>1</td>\n",
       "      <td>0</td>\n",
       "      <td>244252</td>\n",
       "      <td>26.0000</td>\n",
       "      <td>NaN</td>\n",
       "      <td>S</td>\n",
       "      <td>1</td>\n",
       "      <td>Misc_Male</td>\n",
       "    </tr>\n",
       "    <tr>\n",
       "      <th>317</th>\n",
       "      <td>318</td>\n",
       "      <td>0</td>\n",
       "      <td>2</td>\n",
       "      <td>Moraweck, Dr. Ernest</td>\n",
       "      <td>male</td>\n",
       "      <td>54.0</td>\n",
       "      <td>0</td>\n",
       "      <td>0</td>\n",
       "      <td>29011</td>\n",
       "      <td>14.0000</td>\n",
       "      <td>NaN</td>\n",
       "      <td>S</td>\n",
       "      <td>0</td>\n",
       "      <td>Misc_Male</td>\n",
       "    </tr>\n",
       "    <tr>\n",
       "      <th>398</th>\n",
       "      <td>399</td>\n",
       "      <td>0</td>\n",
       "      <td>2</td>\n",
       "      <td>Pain, Dr. Alfred</td>\n",
       "      <td>male</td>\n",
       "      <td>23.0</td>\n",
       "      <td>0</td>\n",
       "      <td>0</td>\n",
       "      <td>244278</td>\n",
       "      <td>10.5000</td>\n",
       "      <td>NaN</td>\n",
       "      <td>S</td>\n",
       "      <td>0</td>\n",
       "      <td>Misc_Male</td>\n",
       "    </tr>\n",
       "    <tr>\n",
       "      <th>449</th>\n",
       "      <td>450</td>\n",
       "      <td>1</td>\n",
       "      <td>1</td>\n",
       "      <td>Peuchen, Major. Arthur Godfrey</td>\n",
       "      <td>male</td>\n",
       "      <td>52.0</td>\n",
       "      <td>0</td>\n",
       "      <td>0</td>\n",
       "      <td>113786</td>\n",
       "      <td>30.5000</td>\n",
       "      <td>C104</td>\n",
       "      <td>S</td>\n",
       "      <td>0</td>\n",
       "      <td>Misc_Male</td>\n",
       "    </tr>\n",
       "    <tr>\n",
       "      <th>536</th>\n",
       "      <td>537</td>\n",
       "      <td>0</td>\n",
       "      <td>1</td>\n",
       "      <td>Butt, Major. Archibald Willingham</td>\n",
       "      <td>male</td>\n",
       "      <td>45.0</td>\n",
       "      <td>0</td>\n",
       "      <td>0</td>\n",
       "      <td>113050</td>\n",
       "      <td>26.5500</td>\n",
       "      <td>B38</td>\n",
       "      <td>S</td>\n",
       "      <td>0</td>\n",
       "      <td>Misc_Male</td>\n",
       "    </tr>\n",
       "    <tr>\n",
       "      <th>556</th>\n",
       "      <td>557</td>\n",
       "      <td>1</td>\n",
       "      <td>1</td>\n",
       "      <td>Duff Gordon, Lady. (Lucille Christiana Sutherl...</td>\n",
       "      <td>female</td>\n",
       "      <td>48.0</td>\n",
       "      <td>1</td>\n",
       "      <td>0</td>\n",
       "      <td>11755</td>\n",
       "      <td>39.6000</td>\n",
       "      <td>A16</td>\n",
       "      <td>C</td>\n",
       "      <td>1</td>\n",
       "      <td>Misc_Female</td>\n",
       "    </tr>\n",
       "    <tr>\n",
       "      <th>599</th>\n",
       "      <td>600</td>\n",
       "      <td>1</td>\n",
       "      <td>1</td>\n",
       "      <td>Duff Gordon, Sir. Cosmo Edmund (\"Mr Morgan\")</td>\n",
       "      <td>male</td>\n",
       "      <td>49.0</td>\n",
       "      <td>1</td>\n",
       "      <td>0</td>\n",
       "      <td>PC 17485</td>\n",
       "      <td>56.9292</td>\n",
       "      <td>A20</td>\n",
       "      <td>C</td>\n",
       "      <td>1</td>\n",
       "      <td>Misc_Male</td>\n",
       "    </tr>\n",
       "    <tr>\n",
       "      <th>626</th>\n",
       "      <td>627</td>\n",
       "      <td>0</td>\n",
       "      <td>2</td>\n",
       "      <td>Kirkland, Rev. Charles Leonard</td>\n",
       "      <td>male</td>\n",
       "      <td>57.0</td>\n",
       "      <td>0</td>\n",
       "      <td>0</td>\n",
       "      <td>219533</td>\n",
       "      <td>12.3500</td>\n",
       "      <td>NaN</td>\n",
       "      <td>Q</td>\n",
       "      <td>0</td>\n",
       "      <td>Misc_Male</td>\n",
       "    </tr>\n",
       "    <tr>\n",
       "      <th>632</th>\n",
       "      <td>633</td>\n",
       "      <td>1</td>\n",
       "      <td>1</td>\n",
       "      <td>Stahelin-Maeglin, Dr. Max</td>\n",
       "      <td>male</td>\n",
       "      <td>32.0</td>\n",
       "      <td>0</td>\n",
       "      <td>0</td>\n",
       "      <td>13214</td>\n",
       "      <td>30.5000</td>\n",
       "      <td>B50</td>\n",
       "      <td>C</td>\n",
       "      <td>0</td>\n",
       "      <td>Misc_Male</td>\n",
       "    </tr>\n",
       "    <tr>\n",
       "      <th>647</th>\n",
       "      <td>648</td>\n",
       "      <td>1</td>\n",
       "      <td>1</td>\n",
       "      <td>Simonius-Blumer, Col. Oberst Alfons</td>\n",
       "      <td>male</td>\n",
       "      <td>56.0</td>\n",
       "      <td>0</td>\n",
       "      <td>0</td>\n",
       "      <td>13213</td>\n",
       "      <td>35.5000</td>\n",
       "      <td>A26</td>\n",
       "      <td>C</td>\n",
       "      <td>0</td>\n",
       "      <td>Misc_Male</td>\n",
       "    </tr>\n",
       "    <tr>\n",
       "      <th>660</th>\n",
       "      <td>661</td>\n",
       "      <td>1</td>\n",
       "      <td>1</td>\n",
       "      <td>Frauenthal, Dr. Henry William</td>\n",
       "      <td>male</td>\n",
       "      <td>50.0</td>\n",
       "      <td>2</td>\n",
       "      <td>0</td>\n",
       "      <td>PC 17611</td>\n",
       "      <td>133.6500</td>\n",
       "      <td>NaN</td>\n",
       "      <td>S</td>\n",
       "      <td>2</td>\n",
       "      <td>Misc_Male</td>\n",
       "    </tr>\n",
       "    <tr>\n",
       "      <th>694</th>\n",
       "      <td>695</td>\n",
       "      <td>0</td>\n",
       "      <td>1</td>\n",
       "      <td>Weir, Col. John</td>\n",
       "      <td>male</td>\n",
       "      <td>60.0</td>\n",
       "      <td>0</td>\n",
       "      <td>0</td>\n",
       "      <td>113800</td>\n",
       "      <td>26.5500</td>\n",
       "      <td>NaN</td>\n",
       "      <td>S</td>\n",
       "      <td>0</td>\n",
       "      <td>Misc_Male</td>\n",
       "    </tr>\n",
       "    <tr>\n",
       "      <th>745</th>\n",
       "      <td>746</td>\n",
       "      <td>0</td>\n",
       "      <td>1</td>\n",
       "      <td>Crosby, Capt. Edward Gifford</td>\n",
       "      <td>male</td>\n",
       "      <td>70.0</td>\n",
       "      <td>1</td>\n",
       "      <td>1</td>\n",
       "      <td>WE/P 5735</td>\n",
       "      <td>71.0000</td>\n",
       "      <td>B22</td>\n",
       "      <td>S</td>\n",
       "      <td>2</td>\n",
       "      <td>Misc_Male</td>\n",
       "    </tr>\n",
       "    <tr>\n",
       "      <th>759</th>\n",
       "      <td>760</td>\n",
       "      <td>1</td>\n",
       "      <td>1</td>\n",
       "      <td>Rothes, the Countess. of (Lucy Noel Martha Dye...</td>\n",
       "      <td>female</td>\n",
       "      <td>33.0</td>\n",
       "      <td>0</td>\n",
       "      <td>0</td>\n",
       "      <td>110152</td>\n",
       "      <td>86.5000</td>\n",
       "      <td>B77</td>\n",
       "      <td>S</td>\n",
       "      <td>0</td>\n",
       "      <td>Misc_Female</td>\n",
       "    </tr>\n",
       "    <tr>\n",
       "      <th>766</th>\n",
       "      <td>767</td>\n",
       "      <td>0</td>\n",
       "      <td>1</td>\n",
       "      <td>Brewe, Dr. Arthur Jackson</td>\n",
       "      <td>male</td>\n",
       "      <td>NaN</td>\n",
       "      <td>0</td>\n",
       "      <td>0</td>\n",
       "      <td>112379</td>\n",
       "      <td>39.6000</td>\n",
       "      <td>NaN</td>\n",
       "      <td>C</td>\n",
       "      <td>0</td>\n",
       "      <td>Misc_Male</td>\n",
       "    </tr>\n",
       "    <tr>\n",
       "      <th>796</th>\n",
       "      <td>797</td>\n",
       "      <td>1</td>\n",
       "      <td>1</td>\n",
       "      <td>Leader, Dr. Alice (Farnham)</td>\n",
       "      <td>female</td>\n",
       "      <td>49.0</td>\n",
       "      <td>0</td>\n",
       "      <td>0</td>\n",
       "      <td>17465</td>\n",
       "      <td>25.9292</td>\n",
       "      <td>D17</td>\n",
       "      <td>S</td>\n",
       "      <td>0</td>\n",
       "      <td>Misc_Female</td>\n",
       "    </tr>\n",
       "    <tr>\n",
       "      <th>822</th>\n",
       "      <td>823</td>\n",
       "      <td>0</td>\n",
       "      <td>1</td>\n",
       "      <td>Reuchlin, Jonkheer. John George</td>\n",
       "      <td>male</td>\n",
       "      <td>38.0</td>\n",
       "      <td>0</td>\n",
       "      <td>0</td>\n",
       "      <td>19972</td>\n",
       "      <td>0.0000</td>\n",
       "      <td>NaN</td>\n",
       "      <td>S</td>\n",
       "      <td>0</td>\n",
       "      <td>Misc_Male</td>\n",
       "    </tr>\n",
       "    <tr>\n",
       "      <th>848</th>\n",
       "      <td>849</td>\n",
       "      <td>0</td>\n",
       "      <td>2</td>\n",
       "      <td>Harper, Rev. John</td>\n",
       "      <td>male</td>\n",
       "      <td>28.0</td>\n",
       "      <td>0</td>\n",
       "      <td>1</td>\n",
       "      <td>248727</td>\n",
       "      <td>33.0000</td>\n",
       "      <td>NaN</td>\n",
       "      <td>S</td>\n",
       "      <td>1</td>\n",
       "      <td>Misc_Male</td>\n",
       "    </tr>\n",
       "    <tr>\n",
       "      <th>886</th>\n",
       "      <td>887</td>\n",
       "      <td>0</td>\n",
       "      <td>2</td>\n",
       "      <td>Montvila, Rev. Juozas</td>\n",
       "      <td>male</td>\n",
       "      <td>27.0</td>\n",
       "      <td>0</td>\n",
       "      <td>0</td>\n",
       "      <td>211536</td>\n",
       "      <td>13.0000</td>\n",
       "      <td>NaN</td>\n",
       "      <td>S</td>\n",
       "      <td>0</td>\n",
       "      <td>Misc_Male</td>\n",
       "    </tr>\n",
       "  </tbody>\n",
       "</table>\n",
       "</div>"
      ],
      "text/plain": [
       "     PassengerId  Survived  Pclass  \\\n",
       "30            31         0       1   \n",
       "149          150         0       2   \n",
       "150          151         0       2   \n",
       "245          246         0       1   \n",
       "249          250         0       2   \n",
       "317          318         0       2   \n",
       "398          399         0       2   \n",
       "449          450         1       1   \n",
       "536          537         0       1   \n",
       "556          557         1       1   \n",
       "599          600         1       1   \n",
       "626          627         0       2   \n",
       "632          633         1       1   \n",
       "647          648         1       1   \n",
       "660          661         1       1   \n",
       "694          695         0       1   \n",
       "745          746         0       1   \n",
       "759          760         1       1   \n",
       "766          767         0       1   \n",
       "796          797         1       1   \n",
       "822          823         0       1   \n",
       "848          849         0       2   \n",
       "886          887         0       2   \n",
       "\n",
       "                                                  Name     Sex   Age  SibSp  \\\n",
       "30                            Uruchurtu, Don. Manuel E    male  40.0      0   \n",
       "149                  Byles, Rev. Thomas Roussel Davids    male  42.0      0   \n",
       "150                         Bateman, Rev. Robert James    male  51.0      0   \n",
       "245                        Minahan, Dr. William Edward    male  44.0      2   \n",
       "249                      Carter, Rev. Ernest Courtenay    male  54.0      1   \n",
       "317                               Moraweck, Dr. Ernest    male  54.0      0   \n",
       "398                                   Pain, Dr. Alfred    male  23.0      0   \n",
       "449                     Peuchen, Major. Arthur Godfrey    male  52.0      0   \n",
       "536                  Butt, Major. Archibald Willingham    male  45.0      0   \n",
       "556  Duff Gordon, Lady. (Lucille Christiana Sutherl...  female  48.0      1   \n",
       "599       Duff Gordon, Sir. Cosmo Edmund (\"Mr Morgan\")    male  49.0      1   \n",
       "626                     Kirkland, Rev. Charles Leonard    male  57.0      0   \n",
       "632                          Stahelin-Maeglin, Dr. Max    male  32.0      0   \n",
       "647                Simonius-Blumer, Col. Oberst Alfons    male  56.0      0   \n",
       "660                      Frauenthal, Dr. Henry William    male  50.0      2   \n",
       "694                                    Weir, Col. John    male  60.0      0   \n",
       "745                       Crosby, Capt. Edward Gifford    male  70.0      1   \n",
       "759  Rothes, the Countess. of (Lucy Noel Martha Dye...  female  33.0      0   \n",
       "766                          Brewe, Dr. Arthur Jackson    male   NaN      0   \n",
       "796                        Leader, Dr. Alice (Farnham)  female  49.0      0   \n",
       "822                    Reuchlin, Jonkheer. John George    male  38.0      0   \n",
       "848                                  Harper, Rev. John    male  28.0      0   \n",
       "886                              Montvila, Rev. Juozas    male  27.0      0   \n",
       "\n",
       "     Parch       Ticket      Fare Cabin Embarked  Family_Size        Title  \n",
       "30       0     PC 17601   27.7208   NaN        C            0    Misc_Male  \n",
       "149      0       244310   13.0000   NaN        S            0    Misc_Male  \n",
       "150      0  S.O.P. 1166   12.5250   NaN        S            0    Misc_Male  \n",
       "245      0        19928   90.0000   C78        Q            2    Misc_Male  \n",
       "249      0       244252   26.0000   NaN        S            1    Misc_Male  \n",
       "317      0        29011   14.0000   NaN        S            0    Misc_Male  \n",
       "398      0       244278   10.5000   NaN        S            0    Misc_Male  \n",
       "449      0       113786   30.5000  C104        S            0    Misc_Male  \n",
       "536      0       113050   26.5500   B38        S            0    Misc_Male  \n",
       "556      0        11755   39.6000   A16        C            1  Misc_Female  \n",
       "599      0     PC 17485   56.9292   A20        C            1    Misc_Male  \n",
       "626      0       219533   12.3500   NaN        Q            0    Misc_Male  \n",
       "632      0        13214   30.5000   B50        C            0    Misc_Male  \n",
       "647      0        13213   35.5000   A26        C            0    Misc_Male  \n",
       "660      0     PC 17611  133.6500   NaN        S            2    Misc_Male  \n",
       "694      0       113800   26.5500   NaN        S            0    Misc_Male  \n",
       "745      1    WE/P 5735   71.0000   B22        S            2    Misc_Male  \n",
       "759      0       110152   86.5000   B77        S            0  Misc_Female  \n",
       "766      0       112379   39.6000   NaN        C            0    Misc_Male  \n",
       "796      0        17465   25.9292   D17        S            0  Misc_Female  \n",
       "822      0        19972    0.0000   NaN        S            0    Misc_Male  \n",
       "848      1       248727   33.0000   NaN        S            1    Misc_Male  \n",
       "886      0       211536   13.0000   NaN        S            0    Misc_Male  "
      ]
     },
     "execution_count": 23,
     "metadata": {},
     "output_type": "execute_result"
    }
   ],
   "source": [
    "#Checking the data\n",
    "training[training['Title'].isin(['Misc_Male','Misc_Female'])]"
   ]
  },
  {
   "cell_type": "code",
   "execution_count": 24,
   "metadata": {
    "execution": {
     "iopub.execute_input": "2021-09-21T09:14:25.100959Z",
     "iopub.status.busy": "2021-09-21T09:14:25.100470Z",
     "iopub.status.idle": "2021-09-21T09:14:25.279836Z",
     "shell.execute_reply": "2021-09-21T09:14:25.279314Z",
     "shell.execute_reply.started": "2021-09-21T09:07:40.018504Z"
    },
    "papermill": {
     "duration": 0.245288,
     "end_time": "2021-09-21T09:14:25.279955",
     "exception": false,
     "start_time": "2021-09-21T09:14:25.034667",
     "status": "completed"
    },
    "tags": []
   },
   "outputs": [
    {
     "data": {
      "image/png": "[encoded data removed]",
      "text/plain": [
       "<Figure size 360x360 with 1 Axes>"
      ]
     },
     "metadata": {
      "needs_background": "light"
     },
     "output_type": "display_data"
    }
   ],
   "source": [
    "# Plot the new category for Title feature\n",
    "sns.catplot(y ='Title', kind = \"count\",data = training,order=training['Title'].value_counts().index)\n",
    "plt.xticks(rotation=90);"
   ]
  },
  {
   "cell_type": "code",
   "execution_count": 25,
   "metadata": {
    "execution": {
     "iopub.execute_input": "2021-09-21T09:14:25.419493Z",
     "iopub.status.busy": "2021-09-21T09:14:25.416897Z",
     "iopub.status.idle": "2021-09-21T09:14:25.424613Z",
     "shell.execute_reply": "2021-09-21T09:14:25.424135Z",
     "shell.execute_reply.started": "2021-09-21T09:07:40.306874Z"
    },
    "papermill": {
     "duration": 0.078989,
     "end_time": "2021-09-21T09:14:25.424734",
     "exception": false,
     "start_time": "2021-09-21T09:14:25.345745",
     "status": "completed"
    },
    "tags": []
   },
   "outputs": [
    {
     "data": {
      "text/plain": [
       "347082          7\n",
       "CA. 2343        7\n",
       "1601            7\n",
       "347088          6\n",
       "3101295         6\n",
       "CA 2144         6\n",
       "382652          5\n",
       "S.O.C. 14879    5\n",
       "349909          4\n",
       "113760          4\n",
       "Name: Ticket, dtype: int64"
      ]
     },
     "execution_count": 25,
     "metadata": {},
     "output_type": "execute_result"
    }
   ],
   "source": [
    "# Checking the number of unique count for Ticket category\n",
    "training['Ticket'].value_counts().head(10)"
   ]
  },
  {
   "cell_type": "code",
   "execution_count": 26,
   "metadata": {
    "execution": {
     "iopub.execute_input": "2021-09-21T09:14:25.606974Z",
     "iopub.status.busy": "2021-09-21T09:14:25.594738Z",
     "iopub.status.idle": "2021-09-21T09:14:25.610661Z",
     "shell.execute_reply": "2021-09-21T09:14:25.610033Z",
     "shell.execute_reply.started": "2021-09-21T09:07:40.322172Z"
    },
    "papermill": {
     "duration": 0.120723,
     "end_time": "2021-09-21T09:14:25.610801",
     "exception": false,
     "start_time": "2021-09-21T09:14:25.490078",
     "status": "completed"
    },
    "tags": []
   },
   "outputs": [
    {
     "data": {
      "text/html": [
       "<div>\n",
       "<style scoped>\n",
       "    .dataframe tbody tr th:only-of-type {\n",
       "        vertical-align: middle;\n",
       "    }\n",
       "\n",
       "    .dataframe tbody tr th {\n",
       "        vertical-align: top;\n",
       "    }\n",
       "\n",
       "    .dataframe thead th {\n",
       "        text-align: right;\n",
       "    }\n",
       "</style>\n",
       "<table border=\"1\" class=\"dataframe\">\n",
       "  <thead>\n",
       "    <tr style=\"text-align: right;\">\n",
       "      <th></th>\n",
       "      <th>PassengerId</th>\n",
       "      <th>Survived</th>\n",
       "      <th>Pclass</th>\n",
       "      <th>Name</th>\n",
       "      <th>Sex</th>\n",
       "      <th>Age</th>\n",
       "      <th>SibSp</th>\n",
       "      <th>Parch</th>\n",
       "      <th>Ticket</th>\n",
       "      <th>Fare</th>\n",
       "      <th>Cabin</th>\n",
       "      <th>Embarked</th>\n",
       "      <th>Family_Size</th>\n",
       "      <th>Title</th>\n",
       "    </tr>\n",
       "  </thead>\n",
       "  <tbody>\n",
       "    <tr>\n",
       "      <th>504</th>\n",
       "      <td>505</td>\n",
       "      <td>1</td>\n",
       "      <td>1</td>\n",
       "      <td>Maioni, Miss. Roberta</td>\n",
       "      <td>female</td>\n",
       "      <td>16.0</td>\n",
       "      <td>0</td>\n",
       "      <td>0</td>\n",
       "      <td>110152</td>\n",
       "      <td>86.50</td>\n",
       "      <td>B79</td>\n",
       "      <td>S</td>\n",
       "      <td>0</td>\n",
       "      <td>Miss</td>\n",
       "    </tr>\n",
       "    <tr>\n",
       "      <th>257</th>\n",
       "      <td>258</td>\n",
       "      <td>1</td>\n",
       "      <td>1</td>\n",
       "      <td>Cherry, Miss. Gladys</td>\n",
       "      <td>female</td>\n",
       "      <td>30.0</td>\n",
       "      <td>0</td>\n",
       "      <td>0</td>\n",
       "      <td>110152</td>\n",
       "      <td>86.50</td>\n",
       "      <td>B77</td>\n",
       "      <td>S</td>\n",
       "      <td>0</td>\n",
       "      <td>Miss</td>\n",
       "    </tr>\n",
       "    <tr>\n",
       "      <th>759</th>\n",
       "      <td>760</td>\n",
       "      <td>1</td>\n",
       "      <td>1</td>\n",
       "      <td>Rothes, the Countess. of (Lucy Noel Martha Dye...</td>\n",
       "      <td>female</td>\n",
       "      <td>33.0</td>\n",
       "      <td>0</td>\n",
       "      <td>0</td>\n",
       "      <td>110152</td>\n",
       "      <td>86.50</td>\n",
       "      <td>B77</td>\n",
       "      <td>S</td>\n",
       "      <td>0</td>\n",
       "      <td>Misc_Female</td>\n",
       "    </tr>\n",
       "    <tr>\n",
       "      <th>262</th>\n",
       "      <td>263</td>\n",
       "      <td>0</td>\n",
       "      <td>1</td>\n",
       "      <td>Taussig, Mr. Emil</td>\n",
       "      <td>male</td>\n",
       "      <td>52.0</td>\n",
       "      <td>1</td>\n",
       "      <td>1</td>\n",
       "      <td>110413</td>\n",
       "      <td>79.65</td>\n",
       "      <td>E67</td>\n",
       "      <td>S</td>\n",
       "      <td>2</td>\n",
       "      <td>Mr</td>\n",
       "    </tr>\n",
       "    <tr>\n",
       "      <th>558</th>\n",
       "      <td>559</td>\n",
       "      <td>1</td>\n",
       "      <td>1</td>\n",
       "      <td>Taussig, Mrs. Emil (Tillie Mandelbaum)</td>\n",
       "      <td>female</td>\n",
       "      <td>39.0</td>\n",
       "      <td>1</td>\n",
       "      <td>1</td>\n",
       "      <td>110413</td>\n",
       "      <td>79.65</td>\n",
       "      <td>E67</td>\n",
       "      <td>S</td>\n",
       "      <td>2</td>\n",
       "      <td>Mrs</td>\n",
       "    </tr>\n",
       "    <tr>\n",
       "      <th>585</th>\n",
       "      <td>586</td>\n",
       "      <td>1</td>\n",
       "      <td>1</td>\n",
       "      <td>Taussig, Miss. Ruth</td>\n",
       "      <td>female</td>\n",
       "      <td>18.0</td>\n",
       "      <td>0</td>\n",
       "      <td>2</td>\n",
       "      <td>110413</td>\n",
       "      <td>79.65</td>\n",
       "      <td>E68</td>\n",
       "      <td>S</td>\n",
       "      <td>2</td>\n",
       "      <td>Miss</td>\n",
       "    </tr>\n",
       "  </tbody>\n",
       "</table>\n",
       "</div>"
      ],
      "text/plain": [
       "     PassengerId  Survived  Pclass  \\\n",
       "504          505         1       1   \n",
       "257          258         1       1   \n",
       "759          760         1       1   \n",
       "262          263         0       1   \n",
       "558          559         1       1   \n",
       "585          586         1       1   \n",
       "\n",
       "                                                  Name     Sex   Age  SibSp  \\\n",
       "504                              Maioni, Miss. Roberta  female  16.0      0   \n",
       "257                               Cherry, Miss. Gladys  female  30.0      0   \n",
       "759  Rothes, the Countess. of (Lucy Noel Martha Dye...  female  33.0      0   \n",
       "262                                  Taussig, Mr. Emil    male  52.0      1   \n",
       "558             Taussig, Mrs. Emil (Tillie Mandelbaum)  female  39.0      1   \n",
       "585                                Taussig, Miss. Ruth  female  18.0      0   \n",
       "\n",
       "     Parch  Ticket   Fare Cabin Embarked  Family_Size        Title  \n",
       "504      0  110152  86.50   B79        S            0         Miss  \n",
       "257      0  110152  86.50   B77        S            0         Miss  \n",
       "759      0  110152  86.50   B77        S            0  Misc_Female  \n",
       "262      1  110413  79.65   E67        S            2           Mr  \n",
       "558      1  110413  79.65   E67        S            2          Mrs  \n",
       "585      2  110413  79.65   E68        S            2         Miss  "
      ]
     },
     "execution_count": 26,
     "metadata": {},
     "output_type": "execute_result"
    }
   ],
   "source": [
    "#Sort the Ticket to observe the similarity with other features for those who share the same ticket number\n",
    "training.sort_values(by=['Ticket']).head(6)"
   ]
  },
  {
   "cell_type": "code",
   "execution_count": 27,
   "metadata": {
    "execution": {
     "iopub.execute_input": "2021-09-21T09:14:25.815634Z",
     "iopub.status.busy": "2021-09-21T09:14:25.814964Z",
     "iopub.status.idle": "2021-09-21T09:14:25.820519Z",
     "shell.execute_reply": "2021-09-21T09:14:25.819905Z",
     "shell.execute_reply.started": "2021-09-21T09:07:40.349561Z"
    },
    "papermill": {
     "duration": 0.10987,
     "end_time": "2021-09-21T09:14:25.820670",
     "exception": false,
     "start_time": "2021-09-21T09:14:25.710800",
     "status": "completed"
    },
    "tags": []
   },
   "outputs": [],
   "source": [
    "#Create a Ticket_Count feature to calculate Fare Per Passenger\n",
    "training['Ticket_Count']=training.groupby('Ticket')['Fare'].transform('count')"
   ]
  },
  {
   "cell_type": "code",
   "execution_count": 28,
   "metadata": {
    "execution": {
     "iopub.execute_input": "2021-09-21T09:14:26.034013Z",
     "iopub.status.busy": "2021-09-21T09:14:26.026233Z",
     "iopub.status.idle": "2021-09-21T09:14:26.047064Z",
     "shell.execute_reply": "2021-09-21T09:14:26.046433Z",
     "shell.execute_reply.started": "2021-09-21T09:07:40.362205Z"
    },
    "papermill": {
     "duration": 0.126978,
     "end_time": "2021-09-21T09:14:26.047192",
     "exception": false,
     "start_time": "2021-09-21T09:14:25.920214",
     "status": "completed"
    },
    "tags": []
   },
   "outputs": [
    {
     "data": {
      "text/html": [
       "<div>\n",
       "<style scoped>\n",
       "    .dataframe tbody tr th:only-of-type {\n",
       "        vertical-align: middle;\n",
       "    }\n",
       "\n",
       "    .dataframe tbody tr th {\n",
       "        vertical-align: top;\n",
       "    }\n",
       "\n",
       "    .dataframe thead th {\n",
       "        text-align: right;\n",
       "    }\n",
       "</style>\n",
       "<table border=\"1\" class=\"dataframe\">\n",
       "  <thead>\n",
       "    <tr style=\"text-align: right;\">\n",
       "      <th></th>\n",
       "      <th>PassengerId</th>\n",
       "      <th>Survived</th>\n",
       "      <th>Pclass</th>\n",
       "      <th>Name</th>\n",
       "      <th>Sex</th>\n",
       "      <th>Age</th>\n",
       "      <th>SibSp</th>\n",
       "      <th>Parch</th>\n",
       "      <th>Ticket</th>\n",
       "      <th>Fare</th>\n",
       "      <th>Cabin</th>\n",
       "      <th>Embarked</th>\n",
       "      <th>Family_Size</th>\n",
       "      <th>Title</th>\n",
       "      <th>Ticket_Count</th>\n",
       "    </tr>\n",
       "  </thead>\n",
       "  <tbody>\n",
       "    <tr>\n",
       "      <th>504</th>\n",
       "      <td>505</td>\n",
       "      <td>1</td>\n",
       "      <td>1</td>\n",
       "      <td>Maioni, Miss. Roberta</td>\n",
       "      <td>female</td>\n",
       "      <td>16.0</td>\n",
       "      <td>0</td>\n",
       "      <td>0</td>\n",
       "      <td>110152</td>\n",
       "      <td>86.50</td>\n",
       "      <td>B79</td>\n",
       "      <td>S</td>\n",
       "      <td>0</td>\n",
       "      <td>Miss</td>\n",
       "      <td>3</td>\n",
       "    </tr>\n",
       "    <tr>\n",
       "      <th>257</th>\n",
       "      <td>258</td>\n",
       "      <td>1</td>\n",
       "      <td>1</td>\n",
       "      <td>Cherry, Miss. Gladys</td>\n",
       "      <td>female</td>\n",
       "      <td>30.0</td>\n",
       "      <td>0</td>\n",
       "      <td>0</td>\n",
       "      <td>110152</td>\n",
       "      <td>86.50</td>\n",
       "      <td>B77</td>\n",
       "      <td>S</td>\n",
       "      <td>0</td>\n",
       "      <td>Miss</td>\n",
       "      <td>3</td>\n",
       "    </tr>\n",
       "    <tr>\n",
       "      <th>759</th>\n",
       "      <td>760</td>\n",
       "      <td>1</td>\n",
       "      <td>1</td>\n",
       "      <td>Rothes, the Countess. of (Lucy Noel Martha Dye...</td>\n",
       "      <td>female</td>\n",
       "      <td>33.0</td>\n",
       "      <td>0</td>\n",
       "      <td>0</td>\n",
       "      <td>110152</td>\n",
       "      <td>86.50</td>\n",
       "      <td>B77</td>\n",
       "      <td>S</td>\n",
       "      <td>0</td>\n",
       "      <td>Misc_Female</td>\n",
       "      <td>3</td>\n",
       "    </tr>\n",
       "    <tr>\n",
       "      <th>262</th>\n",
       "      <td>263</td>\n",
       "      <td>0</td>\n",
       "      <td>1</td>\n",
       "      <td>Taussig, Mr. Emil</td>\n",
       "      <td>male</td>\n",
       "      <td>52.0</td>\n",
       "      <td>1</td>\n",
       "      <td>1</td>\n",
       "      <td>110413</td>\n",
       "      <td>79.65</td>\n",
       "      <td>E67</td>\n",
       "      <td>S</td>\n",
       "      <td>2</td>\n",
       "      <td>Mr</td>\n",
       "      <td>3</td>\n",
       "    </tr>\n",
       "    <tr>\n",
       "      <th>558</th>\n",
       "      <td>559</td>\n",
       "      <td>1</td>\n",
       "      <td>1</td>\n",
       "      <td>Taussig, Mrs. Emil (Tillie Mandelbaum)</td>\n",
       "      <td>female</td>\n",
       "      <td>39.0</td>\n",
       "      <td>1</td>\n",
       "      <td>1</td>\n",
       "      <td>110413</td>\n",
       "      <td>79.65</td>\n",
       "      <td>E67</td>\n",
       "      <td>S</td>\n",
       "      <td>2</td>\n",
       "      <td>Mrs</td>\n",
       "      <td>3</td>\n",
       "    </tr>\n",
       "    <tr>\n",
       "      <th>585</th>\n",
       "      <td>586</td>\n",
       "      <td>1</td>\n",
       "      <td>1</td>\n",
       "      <td>Taussig, Miss. Ruth</td>\n",
       "      <td>female</td>\n",
       "      <td>18.0</td>\n",
       "      <td>0</td>\n",
       "      <td>2</td>\n",
       "      <td>110413</td>\n",
       "      <td>79.65</td>\n",
       "      <td>E68</td>\n",
       "      <td>S</td>\n",
       "      <td>2</td>\n",
       "      <td>Miss</td>\n",
       "      <td>3</td>\n",
       "    </tr>\n",
       "  </tbody>\n",
       "</table>\n",
       "</div>"
      ],
      "text/plain": [
       "     PassengerId  Survived  Pclass  \\\n",
       "504          505         1       1   \n",
       "257          258         1       1   \n",
       "759          760         1       1   \n",
       "262          263         0       1   \n",
       "558          559         1       1   \n",
       "585          586         1       1   \n",
       "\n",
       "                                                  Name     Sex   Age  SibSp  \\\n",
       "504                              Maioni, Miss. Roberta  female  16.0      0   \n",
       "257                               Cherry, Miss. Gladys  female  30.0      0   \n",
       "759  Rothes, the Countess. of (Lucy Noel Martha Dye...  female  33.0      0   \n",
       "262                                  Taussig, Mr. Emil    male  52.0      1   \n",
       "558             Taussig, Mrs. Emil (Tillie Mandelbaum)  female  39.0      1   \n",
       "585                                Taussig, Miss. Ruth  female  18.0      0   \n",
       "\n",
       "     Parch  Ticket   Fare Cabin Embarked  Family_Size        Title  \\\n",
       "504      0  110152  86.50   B79        S            0         Miss   \n",
       "257      0  110152  86.50   B77        S            0         Miss   \n",
       "759      0  110152  86.50   B77        S            0  Misc_Female   \n",
       "262      1  110413  79.65   E67        S            2           Mr   \n",
       "558      1  110413  79.65   E67        S            2          Mrs   \n",
       "585      2  110413  79.65   E68        S            2         Miss   \n",
       "\n",
       "     Ticket_Count  \n",
       "504             3  \n",
       "257             3  \n",
       "759             3  \n",
       "262             3  \n",
       "558             3  \n",
       "585             3  "
      ]
     },
     "execution_count": 28,
     "metadata": {},
     "output_type": "execute_result"
    }
   ],
   "source": [
    "training.sort_values(by=['Ticket']).head(6)"
   ]
  },
  {
   "cell_type": "code",
   "execution_count": 29,
   "metadata": {
    "execution": {
     "iopub.execute_input": "2021-09-21T09:14:26.253716Z",
     "iopub.status.busy": "2021-09-21T09:14:26.253096Z",
     "iopub.status.idle": "2021-09-21T09:14:26.255915Z",
     "shell.execute_reply": "2021-09-21T09:14:26.255318Z",
     "shell.execute_reply.started": "2021-09-21T09:07:40.388538Z"
    },
    "papermill": {
     "duration": 0.10861,
     "end_time": "2021-09-21T09:14:26.256047",
     "exception": false,
     "start_time": "2021-09-21T09:14:26.147437",
     "status": "completed"
    },
    "tags": []
   },
   "outputs": [],
   "source": [
    "#Create the Fare_Per Person feature\n",
    "training['Fare_PerPerson'] = training['Fare'] / training['Ticket_Count']"
   ]
  },
  {
   "cell_type": "code",
   "execution_count": 30,
   "metadata": {
    "execution": {
     "iopub.execute_input": "2021-09-21T09:14:26.460060Z",
     "iopub.status.busy": "2021-09-21T09:14:26.459442Z",
     "iopub.status.idle": "2021-09-21T09:14:26.480295Z",
     "shell.execute_reply": "2021-09-21T09:14:26.479869Z",
     "shell.execute_reply.started": "2021-09-21T09:07:40.396771Z"
    },
    "papermill": {
     "duration": 0.123219,
     "end_time": "2021-09-21T09:14:26.480414",
     "exception": false,
     "start_time": "2021-09-21T09:14:26.357195",
     "status": "completed"
    },
    "tags": []
   },
   "outputs": [
    {
     "data": {
      "text/html": [
       "<div>\n",
       "<style scoped>\n",
       "    .dataframe tbody tr th:only-of-type {\n",
       "        vertical-align: middle;\n",
       "    }\n",
       "\n",
       "    .dataframe tbody tr th {\n",
       "        vertical-align: top;\n",
       "    }\n",
       "\n",
       "    .dataframe thead th {\n",
       "        text-align: right;\n",
       "    }\n",
       "</style>\n",
       "<table border=\"1\" class=\"dataframe\">\n",
       "  <thead>\n",
       "    <tr style=\"text-align: right;\">\n",
       "      <th></th>\n",
       "      <th>PassengerId</th>\n",
       "      <th>Survived</th>\n",
       "      <th>Pclass</th>\n",
       "      <th>Name</th>\n",
       "      <th>Sex</th>\n",
       "      <th>Age</th>\n",
       "      <th>SibSp</th>\n",
       "      <th>Parch</th>\n",
       "      <th>Ticket</th>\n",
       "      <th>Fare</th>\n",
       "      <th>Cabin</th>\n",
       "      <th>Embarked</th>\n",
       "      <th>Family_Size</th>\n",
       "      <th>Title</th>\n",
       "      <th>Ticket_Count</th>\n",
       "      <th>Fare_PerPerson</th>\n",
       "    </tr>\n",
       "  </thead>\n",
       "  <tbody>\n",
       "    <tr>\n",
       "      <th>0</th>\n",
       "      <td>1</td>\n",
       "      <td>0</td>\n",
       "      <td>3</td>\n",
       "      <td>Braund, Mr. Owen Harris</td>\n",
       "      <td>male</td>\n",
       "      <td>22.0</td>\n",
       "      <td>1</td>\n",
       "      <td>0</td>\n",
       "      <td>A/5 21171</td>\n",
       "      <td>7.2500</td>\n",
       "      <td>NaN</td>\n",
       "      <td>S</td>\n",
       "      <td>1</td>\n",
       "      <td>Mr</td>\n",
       "      <td>1</td>\n",
       "      <td>7.2500</td>\n",
       "    </tr>\n",
       "    <tr>\n",
       "      <th>1</th>\n",
       "      <td>2</td>\n",
       "      <td>1</td>\n",
       "      <td>1</td>\n",
       "      <td>Cumings, Mrs. John Bradley (Florence Briggs Th...</td>\n",
       "      <td>female</td>\n",
       "      <td>38.0</td>\n",
       "      <td>1</td>\n",
       "      <td>0</td>\n",
       "      <td>PC 17599</td>\n",
       "      <td>71.2833</td>\n",
       "      <td>C85</td>\n",
       "      <td>C</td>\n",
       "      <td>1</td>\n",
       "      <td>Mrs</td>\n",
       "      <td>1</td>\n",
       "      <td>71.2833</td>\n",
       "    </tr>\n",
       "    <tr>\n",
       "      <th>2</th>\n",
       "      <td>3</td>\n",
       "      <td>1</td>\n",
       "      <td>3</td>\n",
       "      <td>Heikkinen, Miss. Laina</td>\n",
       "      <td>female</td>\n",
       "      <td>26.0</td>\n",
       "      <td>0</td>\n",
       "      <td>0</td>\n",
       "      <td>STON/O2. 3101282</td>\n",
       "      <td>7.9250</td>\n",
       "      <td>NaN</td>\n",
       "      <td>S</td>\n",
       "      <td>0</td>\n",
       "      <td>Miss</td>\n",
       "      <td>1</td>\n",
       "      <td>7.9250</td>\n",
       "    </tr>\n",
       "    <tr>\n",
       "      <th>3</th>\n",
       "      <td>4</td>\n",
       "      <td>1</td>\n",
       "      <td>1</td>\n",
       "      <td>Futrelle, Mrs. Jacques Heath (Lily May Peel)</td>\n",
       "      <td>female</td>\n",
       "      <td>35.0</td>\n",
       "      <td>1</td>\n",
       "      <td>0</td>\n",
       "      <td>113803</td>\n",
       "      <td>53.1000</td>\n",
       "      <td>C123</td>\n",
       "      <td>S</td>\n",
       "      <td>1</td>\n",
       "      <td>Mrs</td>\n",
       "      <td>2</td>\n",
       "      <td>26.5500</td>\n",
       "    </tr>\n",
       "    <tr>\n",
       "      <th>4</th>\n",
       "      <td>5</td>\n",
       "      <td>0</td>\n",
       "      <td>3</td>\n",
       "      <td>Allen, Mr. William Henry</td>\n",
       "      <td>male</td>\n",
       "      <td>35.0</td>\n",
       "      <td>0</td>\n",
       "      <td>0</td>\n",
       "      <td>373450</td>\n",
       "      <td>8.0500</td>\n",
       "      <td>NaN</td>\n",
       "      <td>S</td>\n",
       "      <td>0</td>\n",
       "      <td>Mr</td>\n",
       "      <td>1</td>\n",
       "      <td>8.0500</td>\n",
       "    </tr>\n",
       "  </tbody>\n",
       "</table>\n",
       "</div>"
      ],
      "text/plain": [
       "   PassengerId  Survived  Pclass  \\\n",
       "0            1         0       3   \n",
       "1            2         1       1   \n",
       "2            3         1       3   \n",
       "3            4         1       1   \n",
       "4            5         0       3   \n",
       "\n",
       "                                                Name     Sex   Age  SibSp  \\\n",
       "0                            Braund, Mr. Owen Harris    male  22.0      1   \n",
       "1  Cumings, Mrs. John Bradley (Florence Briggs Th...  female  38.0      1   \n",
       "2                             Heikkinen, Miss. Laina  female  26.0      0   \n",
       "3       Futrelle, Mrs. Jacques Heath (Lily May Peel)  female  35.0      1   \n",
       "4                           Allen, Mr. William Henry    male  35.0      0   \n",
       "\n",
       "   Parch            Ticket     Fare Cabin Embarked  Family_Size Title  \\\n",
       "0      0         A/5 21171   7.2500   NaN        S            1    Mr   \n",
       "1      0          PC 17599  71.2833   C85        C            1   Mrs   \n",
       "2      0  STON/O2. 3101282   7.9250   NaN        S            0  Miss   \n",
       "3      0            113803  53.1000  C123        S            1   Mrs   \n",
       "4      0            373450   8.0500   NaN        S            0    Mr   \n",
       "\n",
       "   Ticket_Count  Fare_PerPerson  \n",
       "0             1          7.2500  \n",
       "1             1         71.2833  \n",
       "2             1          7.9250  \n",
       "3             2         26.5500  \n",
       "4             1          8.0500  "
      ]
     },
     "execution_count": 30,
     "metadata": {},
     "output_type": "execute_result"
    }
   ],
   "source": [
    "#Display the first five rows of the dataset\n",
    "training.head()"
   ]
  },
  {
   "cell_type": "markdown",
   "metadata": {
    "papermill": {
     "duration": 0.066095,
     "end_time": "2021-09-21T09:14:26.613153",
     "exception": false,
     "start_time": "2021-09-21T09:14:26.547058",
     "status": "completed"
    },
    "tags": []
   },
   "source": [
    "## 4b. Treating missing values"
   ]
  },
  {
   "cell_type": "code",
   "execution_count": 31,
   "metadata": {
    "execution": {
     "iopub.execute_input": "2021-09-21T09:14:26.755326Z",
     "iopub.status.busy": "2021-09-21T09:14:26.754698Z",
     "iopub.status.idle": "2021-09-21T09:14:26.757288Z",
     "shell.execute_reply": "2021-09-21T09:14:26.757833Z",
     "shell.execute_reply.started": "2021-09-21T09:07:40.547623Z"
    },
    "papermill": {
     "duration": 0.078654,
     "end_time": "2021-09-21T09:14:26.758000",
     "exception": false,
     "start_time": "2021-09-21T09:14:26.679346",
     "status": "completed"
    },
    "tags": []
   },
   "outputs": [
    {
     "data": {
      "text/plain": [
       "PassengerId         0\n",
       "Survived            0\n",
       "Pclass              0\n",
       "Name                0\n",
       "Sex                 0\n",
       "Age               177\n",
       "SibSp               0\n",
       "Parch               0\n",
       "Ticket              0\n",
       "Fare                0\n",
       "Cabin             687\n",
       "Embarked            2\n",
       "Family_Size         0\n",
       "Title               0\n",
       "Ticket_Count        0\n",
       "Fare_PerPerson      0\n",
       "dtype: int64"
      ]
     },
     "execution_count": 31,
     "metadata": {},
     "output_type": "execute_result"
    }
   ],
   "source": [
    "#Check the number of missing value for each feature\n",
    "training.isnull().sum()"
   ]
  },
  {
   "cell_type": "code",
   "execution_count": 32,
   "metadata": {
    "execution": {
     "iopub.execute_input": "2021-09-21T09:14:26.964382Z",
     "iopub.status.busy": "2021-09-21T09:14:26.963796Z",
     "iopub.status.idle": "2021-09-21T09:14:27.360757Z",
     "shell.execute_reply": "2021-09-21T09:14:27.360144Z",
     "shell.execute_reply.started": "2021-09-21T09:07:40.565535Z"
    },
    "papermill": {
     "duration": 0.501156,
     "end_time": "2021-09-21T09:14:27.360907",
     "exception": false,
     "start_time": "2021-09-21T09:14:26.859751",
     "status": "completed"
    },
    "tags": []
   },
   "outputs": [
    {
     "data": {
      "image/png": "[encoded data removed]",
      "text/plain": [
       "<Figure size 432x288 with 1 Axes>"
      ]
     },
     "metadata": {
      "needs_background": "light"
     },
     "output_type": "display_data"
    }
   ],
   "source": [
    "#Visualize missing data using seaborn\n",
    "sns.heatmap(training.isnull(),yticklabels = False, cbar=False,cmap ='plasma');"
   ]
  },
  {
   "cell_type": "code",
   "execution_count": 33,
   "metadata": {
    "execution": {
     "iopub.execute_input": "2021-09-21T09:14:27.588169Z",
     "iopub.status.busy": "2021-09-21T09:14:27.574154Z",
     "iopub.status.idle": "2021-09-21T09:14:27.741897Z",
     "shell.execute_reply": "2021-09-21T09:14:27.741299Z",
     "shell.execute_reply.started": "2021-09-21T09:07:40.840313Z"
    },
    "papermill": {
     "duration": 0.277671,
     "end_time": "2021-09-21T09:14:27.742026",
     "exception": false,
     "start_time": "2021-09-21T09:14:27.464355",
     "status": "completed"
    },
    "tags": []
   },
   "outputs": [
    {
     "data": {
      "image/png": "[encoded data removed]",
      "text/plain": [
       "<Figure size 432x288 with 1 Axes>"
      ]
     },
     "metadata": {},
     "output_type": "display_data"
    }
   ],
   "source": [
    "#Check any outliers for Age\n",
    "sns.set_style('whitegrid')\n",
    "sns.boxplot(x='Age',data=training)\n",
    "plt.title(\"The boxplot of passengers' age in titanic disaster\");"
   ]
  },
  {
   "cell_type": "code",
   "execution_count": 34,
   "metadata": {},
   "outputs": [
    {
     "data": {
      "image/png": "[encoded data removed]",
      "text/plain": [
       "<Figure size 432x288 with 1 Axes>"
      ]
     },
     "metadata": {},
     "output_type": "display_data"
    }
   ],
   "source": [
    "#Check any outliers for Fares_per person\n",
    "sns.set_style('whitegrid')\n",
    "sns.boxplot(x='Fare_PerPerson',data=training)\n",
    "plt.title(\"The boxplot of passengers' fares in titanic disaster\");"
   ]
  },
  {
   "cell_type": "code",
   "execution_count": 35,
   "metadata": {
    "execution": {
     "iopub.execute_input": "2021-09-21T09:14:27.959813Z",
     "iopub.status.busy": "2021-09-21T09:14:27.959073Z",
     "iopub.status.idle": "2021-09-21T09:14:27.966672Z",
     "shell.execute_reply": "2021-09-21T09:14:27.966122Z",
     "shell.execute_reply.started": "2021-09-21T09:07:41.069787Z"
    },
    "papermill": {
     "duration": 0.119846,
     "end_time": "2021-09-21T09:14:27.966809",
     "exception": false,
     "start_time": "2021-09-21T09:14:27.846963",
     "status": "completed"
    },
    "tags": []
   },
   "outputs": [],
   "source": [
    "#Mean Imputation\n",
    "training['Age_Mean'] = training['Age'].fillna(training.Age.mean())\n",
    "\n",
    "#Median Imputation\n",
    "training['Age_Median'] = training['Age'].fillna(training.Age.median())\n",
    "\n",
    "#Random Imputation\n",
    "random_value=training['Age'].dropna().sample(training['Age'].isnull().sum(),random_state=0)\n",
    "#pandas need to have same index in order to merge the dataset\n",
    "random_value.index=training[training['Age'].isnull()].index\n",
    "training['Age_Random'] = training['Age'].fillna(random_value)"
   ]
  },
  {
   "cell_type": "code",
   "execution_count": 36,
   "metadata": {
    "execution": {
     "iopub.execute_input": "2021-09-21T09:14:28.178083Z",
     "iopub.status.busy": "2021-09-21T09:14:28.177401Z",
     "iopub.status.idle": "2021-09-21T09:14:28.563786Z",
     "shell.execute_reply": "2021-09-21T09:14:28.563320Z",
     "shell.execute_reply.started": "2021-09-21T09:07:41.088313Z"
    },
    "papermill": {
     "duration": 0.493998,
     "end_time": "2021-09-21T09:14:28.563908",
     "exception": false,
     "start_time": "2021-09-21T09:14:28.069910",
     "status": "completed"
    },
    "tags": []
   },
   "outputs": [
    {
     "data": {
      "image/png": "[encoded data removed]",
      "text/plain": [
       "<Figure size 576x432 with 1 Axes>"
      ]
     },
     "metadata": {},
     "output_type": "display_data"
    }
   ],
   "source": [
    "#Compare the distribution among original distribution, and using median and random imputation\n",
    "plt.figure(figsize=(8,6))\n",
    "sns.kdeplot(training['Age'], shade =True, label = 'Age' )\n",
    "sns.kdeplot(training['Age_Median'], shade =True, label = 'Age_Median')\n",
    "sns.kdeplot(training['Age_Random'], shade = True, label = 'Age_Random')\n",
    "\n",
    "plt.legend()\n",
    "plt.show()"
   ]
  },
  {
   "cell_type": "code",
   "execution_count": 37,
   "metadata": {
    "execution": {
     "iopub.execute_input": "2021-09-21T09:14:28.719281Z",
     "iopub.status.busy": "2021-09-21T09:14:28.718802Z",
     "iopub.status.idle": "2021-09-21T09:14:28.722079Z",
     "shell.execute_reply": "2021-09-21T09:14:28.721676Z",
     "shell.execute_reply.started": "2021-09-21T09:07:41.537130Z"
    },
    "papermill": {
     "duration": 0.088688,
     "end_time": "2021-09-21T09:14:28.722191",
     "exception": false,
     "start_time": "2021-09-21T09:14:28.633503",
     "status": "completed"
    },
    "tags": []
   },
   "outputs": [
    {
     "data": {
      "text/html": [
       "<div>\n",
       "<style scoped>\n",
       "    .dataframe tbody tr th:only-of-type {\n",
       "        vertical-align: middle;\n",
       "    }\n",
       "\n",
       "    .dataframe tbody tr th {\n",
       "        vertical-align: top;\n",
       "    }\n",
       "\n",
       "    .dataframe thead th {\n",
       "        text-align: right;\n",
       "    }\n",
       "</style>\n",
       "<table border=\"1\" class=\"dataframe\">\n",
       "  <thead>\n",
       "    <tr style=\"text-align: right;\">\n",
       "      <th></th>\n",
       "      <th>PassengerId</th>\n",
       "      <th>Survived</th>\n",
       "      <th>Pclass</th>\n",
       "      <th>Name</th>\n",
       "      <th>Sex</th>\n",
       "      <th>Age</th>\n",
       "      <th>SibSp</th>\n",
       "      <th>Parch</th>\n",
       "      <th>Ticket</th>\n",
       "      <th>Fare</th>\n",
       "      <th>Cabin</th>\n",
       "      <th>Embarked</th>\n",
       "      <th>Family_Size</th>\n",
       "      <th>Title</th>\n",
       "      <th>Ticket_Count</th>\n",
       "      <th>Fare_PerPerson</th>\n",
       "      <th>Age_Mean</th>\n",
       "      <th>Age_Median</th>\n",
       "      <th>Age_Random</th>\n",
       "    </tr>\n",
       "  </thead>\n",
       "  <tbody>\n",
       "    <tr>\n",
       "      <th>61</th>\n",
       "      <td>62</td>\n",
       "      <td>1</td>\n",
       "      <td>1</td>\n",
       "      <td>Icard, Miss. Amelie</td>\n",
       "      <td>female</td>\n",
       "      <td>38.0</td>\n",
       "      <td>0</td>\n",
       "      <td>0</td>\n",
       "      <td>113572</td>\n",
       "      <td>80.0</td>\n",
       "      <td>B28</td>\n",
       "      <td>NaN</td>\n",
       "      <td>0</td>\n",
       "      <td>Miss</td>\n",
       "      <td>2</td>\n",
       "      <td>40.0</td>\n",
       "      <td>38.0</td>\n",
       "      <td>38.0</td>\n",
       "      <td>38.0</td>\n",
       "    </tr>\n",
       "    <tr>\n",
       "      <th>829</th>\n",
       "      <td>830</td>\n",
       "      <td>1</td>\n",
       "      <td>1</td>\n",
       "      <td>Stone, Mrs. George Nelson (Martha Evelyn)</td>\n",
       "      <td>female</td>\n",
       "      <td>62.0</td>\n",
       "      <td>0</td>\n",
       "      <td>0</td>\n",
       "      <td>113572</td>\n",
       "      <td>80.0</td>\n",
       "      <td>B28</td>\n",
       "      <td>NaN</td>\n",
       "      <td>0</td>\n",
       "      <td>Mrs</td>\n",
       "      <td>2</td>\n",
       "      <td>40.0</td>\n",
       "      <td>62.0</td>\n",
       "      <td>62.0</td>\n",
       "      <td>62.0</td>\n",
       "    </tr>\n",
       "  </tbody>\n",
       "</table>\n",
       "</div>"
      ],
      "text/plain": [
       "     PassengerId  Survived  Pclass                                       Name  \\\n",
       "61            62         1       1                        Icard, Miss. Amelie   \n",
       "829          830         1       1  Stone, Mrs. George Nelson (Martha Evelyn)   \n",
       "\n",
       "        Sex   Age  SibSp  Parch  Ticket  Fare Cabin Embarked  Family_Size  \\\n",
       "61   female  38.0      0      0  113572  80.0   B28      NaN            0   \n",
       "829  female  62.0      0      0  113572  80.0   B28      NaN            0   \n",
       "\n",
       "    Title  Ticket_Count  Fare_PerPerson  Age_Mean  Age_Median  Age_Random  \n",
       "61   Miss             2            40.0      38.0        38.0        38.0  \n",
       "829   Mrs             2            40.0      62.0        62.0        62.0  "
      ]
     },
     "execution_count": 37,
     "metadata": {},
     "output_type": "execute_result"
    }
   ],
   "source": [
    "#Check the paseengers profile with null missing value for Embarked feature\n",
    "training.loc[training['Embarked'].isnull()]"
   ]
  },
  {
   "cell_type": "code",
   "execution_count": 38,
   "metadata": {},
   "outputs": [
    {
     "data": {
      "text/plain": [
       "S    644\n",
       "C    168\n",
       "Q     77\n",
       "Name: Embarked, dtype: int64"
      ]
     },
     "execution_count": 38,
     "metadata": {},
     "output_type": "execute_result"
    }
   ],
   "source": [
    "#Checking the highest value of the port of embarkation\n",
    "training.Embarked.value_counts()"
   ]
  },
  {
   "cell_type": "code",
   "execution_count": 39,
   "metadata": {
    "execution": {
     "iopub.execute_input": "2021-09-21T09:14:28.864157Z",
     "iopub.status.busy": "2021-09-21T09:14:28.863672Z",
     "iopub.status.idle": "2021-09-21T09:14:28.865428Z",
     "shell.execute_reply": "2021-09-21T09:14:28.866013Z",
     "shell.execute_reply.started": "2021-09-21T09:07:41.564569Z"
    },
    "papermill": {
     "duration": 0.075468,
     "end_time": "2021-09-21T09:14:28.866186",
     "exception": false,
     "start_time": "2021-09-21T09:14:28.790718",
     "status": "completed"
    },
    "tags": []
   },
   "outputs": [],
   "source": [
    "#Impute the missing value for Embarked\n",
    "training.loc[training['Embarked'].isnull(), 'Embarked'] = 'S'"
   ]
  },
  {
   "cell_type": "code",
   "execution_count": 40,
   "metadata": {
    "execution": {
     "iopub.execute_input": "2021-09-21T09:14:29.165391Z",
     "iopub.status.busy": "2021-09-21T09:14:29.164856Z",
     "iopub.status.idle": "2021-09-21T09:14:29.170232Z",
     "shell.execute_reply": "2021-09-21T09:14:29.169703Z",
     "shell.execute_reply.started": "2021-09-21T09:07:41.577716Z"
    },
    "papermill": {
     "duration": 0.199204,
     "end_time": "2021-09-21T09:14:29.170352",
     "exception": false,
     "start_time": "2021-09-21T09:14:28.971148",
     "status": "completed"
    },
    "tags": []
   },
   "outputs": [
    {
     "data": {
      "text/html": [
       "<div>\n",
       "<style scoped>\n",
       "    .dataframe tbody tr th:only-of-type {\n",
       "        vertical-align: middle;\n",
       "    }\n",
       "\n",
       "    .dataframe tbody tr th {\n",
       "        vertical-align: top;\n",
       "    }\n",
       "\n",
       "    .dataframe thead th {\n",
       "        text-align: right;\n",
       "    }\n",
       "</style>\n",
       "<table border=\"1\" class=\"dataframe\">\n",
       "  <thead>\n",
       "    <tr style=\"text-align: right;\">\n",
       "      <th></th>\n",
       "      <th>PassengerId</th>\n",
       "      <th>Survived</th>\n",
       "      <th>Pclass</th>\n",
       "      <th>Name</th>\n",
       "      <th>Sex</th>\n",
       "      <th>Age</th>\n",
       "      <th>SibSp</th>\n",
       "      <th>Parch</th>\n",
       "      <th>Ticket</th>\n",
       "      <th>Fare</th>\n",
       "      <th>Cabin</th>\n",
       "      <th>Embarked</th>\n",
       "      <th>Family_Size</th>\n",
       "      <th>Title</th>\n",
       "      <th>Ticket_Count</th>\n",
       "      <th>Fare_PerPerson</th>\n",
       "      <th>Age_Mean</th>\n",
       "      <th>Age_Median</th>\n",
       "      <th>Age_Random</th>\n",
       "    </tr>\n",
       "  </thead>\n",
       "  <tbody>\n",
       "    <tr>\n",
       "      <th>61</th>\n",
       "      <td>62</td>\n",
       "      <td>1</td>\n",
       "      <td>1</td>\n",
       "      <td>Icard, Miss. Amelie</td>\n",
       "      <td>female</td>\n",
       "      <td>38.0</td>\n",
       "      <td>0</td>\n",
       "      <td>0</td>\n",
       "      <td>113572</td>\n",
       "      <td>80.0</td>\n",
       "      <td>B28</td>\n",
       "      <td>S</td>\n",
       "      <td>0</td>\n",
       "      <td>Miss</td>\n",
       "      <td>2</td>\n",
       "      <td>40.0</td>\n",
       "      <td>38.0</td>\n",
       "      <td>38.0</td>\n",
       "      <td>38.0</td>\n",
       "    </tr>\n",
       "    <tr>\n",
       "      <th>829</th>\n",
       "      <td>830</td>\n",
       "      <td>1</td>\n",
       "      <td>1</td>\n",
       "      <td>Stone, Mrs. George Nelson (Martha Evelyn)</td>\n",
       "      <td>female</td>\n",
       "      <td>62.0</td>\n",
       "      <td>0</td>\n",
       "      <td>0</td>\n",
       "      <td>113572</td>\n",
       "      <td>80.0</td>\n",
       "      <td>B28</td>\n",
       "      <td>S</td>\n",
       "      <td>0</td>\n",
       "      <td>Mrs</td>\n",
       "      <td>2</td>\n",
       "      <td>40.0</td>\n",
       "      <td>62.0</td>\n",
       "      <td>62.0</td>\n",
       "      <td>62.0</td>\n",
       "    </tr>\n",
       "  </tbody>\n",
       "</table>\n",
       "</div>"
      ],
      "text/plain": [
       "     PassengerId  Survived  Pclass                                       Name  \\\n",
       "61            62         1       1                        Icard, Miss. Amelie   \n",
       "829          830         1       1  Stone, Mrs. George Nelson (Martha Evelyn)   \n",
       "\n",
       "        Sex   Age  SibSp  Parch  Ticket  Fare Cabin Embarked  Family_Size  \\\n",
       "61   female  38.0      0      0  113572  80.0   B28        S            0   \n",
       "829  female  62.0      0      0  113572  80.0   B28        S            0   \n",
       "\n",
       "    Title  Ticket_Count  Fare_PerPerson  Age_Mean  Age_Median  Age_Random  \n",
       "61   Miss             2            40.0      38.0        38.0        38.0  \n",
       "829   Mrs             2            40.0      62.0        62.0        62.0  "
      ]
     },
     "execution_count": 40,
     "metadata": {},
     "output_type": "execute_result"
    }
   ],
   "source": [
    "#Checking the data once imputation\n",
    "training.iloc[[61,829],:]"
   ]
  },
  {
   "cell_type": "code",
   "execution_count": 41,
   "metadata": {
    "execution": {
     "iopub.execute_input": "2021-09-21T09:14:29.318516Z",
     "iopub.status.busy": "2021-09-21T09:14:29.317967Z",
     "iopub.status.idle": "2021-09-21T09:14:29.321648Z",
     "shell.execute_reply": "2021-09-21T09:14:29.321195Z",
     "shell.execute_reply.started": "2021-09-21T09:07:41.609877Z"
    },
    "papermill": {
     "duration": 0.081004,
     "end_time": "2021-09-21T09:14:29.321765",
     "exception": false,
     "start_time": "2021-09-21T09:14:29.240761",
     "status": "completed"
    },
    "tags": []
   },
   "outputs": [],
   "source": [
    "# Creating Deck column from the first letter of the Cabin column (M stands for Missing)\n",
    "training['Deck'] = training['Cabin'].apply(lambda s: s[0] if pd.notnull(s) else 'M')"
   ]
  },
  {
   "cell_type": "code",
   "execution_count": 42,
   "metadata": {
    "execution": {
     "iopub.execute_input": "2021-09-21T09:14:29.489980Z",
     "iopub.status.busy": "2021-09-21T09:14:29.469055Z",
     "iopub.status.idle": "2021-09-21T09:14:29.494977Z",
     "shell.execute_reply": "2021-09-21T09:14:29.495334Z",
     "shell.execute_reply.started": "2021-09-21T09:07:41.627298Z"
    },
    "papermill": {
     "duration": 0.102283,
     "end_time": "2021-09-21T09:14:29.495476",
     "exception": false,
     "start_time": "2021-09-21T09:14:29.393193",
     "status": "completed"
    },
    "tags": []
   },
   "outputs": [
    {
     "data": {
      "text/html": [
       "<div>\n",
       "<style scoped>\n",
       "    .dataframe tbody tr th:only-of-type {\n",
       "        vertical-align: middle;\n",
       "    }\n",
       "\n",
       "    .dataframe tbody tr th {\n",
       "        vertical-align: top;\n",
       "    }\n",
       "\n",
       "    .dataframe thead th {\n",
       "        text-align: right;\n",
       "    }\n",
       "</style>\n",
       "<table border=\"1\" class=\"dataframe\">\n",
       "  <thead>\n",
       "    <tr style=\"text-align: right;\">\n",
       "      <th></th>\n",
       "      <th>PassengerId</th>\n",
       "      <th>Survived</th>\n",
       "      <th>Pclass</th>\n",
       "      <th>Name</th>\n",
       "      <th>Sex</th>\n",
       "      <th>Age</th>\n",
       "      <th>SibSp</th>\n",
       "      <th>Parch</th>\n",
       "      <th>Ticket</th>\n",
       "      <th>Fare</th>\n",
       "      <th>Cabin</th>\n",
       "      <th>Embarked</th>\n",
       "      <th>Family_Size</th>\n",
       "      <th>Title</th>\n",
       "      <th>Ticket_Count</th>\n",
       "      <th>Fare_PerPerson</th>\n",
       "      <th>Age_Mean</th>\n",
       "      <th>Age_Median</th>\n",
       "      <th>Age_Random</th>\n",
       "      <th>Deck</th>\n",
       "    </tr>\n",
       "  </thead>\n",
       "  <tbody>\n",
       "    <tr>\n",
       "      <th>0</th>\n",
       "      <td>1</td>\n",
       "      <td>0</td>\n",
       "      <td>3</td>\n",
       "      <td>Braund, Mr. Owen Harris</td>\n",
       "      <td>male</td>\n",
       "      <td>22.0</td>\n",
       "      <td>1</td>\n",
       "      <td>0</td>\n",
       "      <td>A/5 21171</td>\n",
       "      <td>7.2500</td>\n",
       "      <td>NaN</td>\n",
       "      <td>S</td>\n",
       "      <td>1</td>\n",
       "      <td>Mr</td>\n",
       "      <td>1</td>\n",
       "      <td>7.2500</td>\n",
       "      <td>22.0</td>\n",
       "      <td>22.0</td>\n",
       "      <td>22.0</td>\n",
       "      <td>M</td>\n",
       "    </tr>\n",
       "    <tr>\n",
       "      <th>1</th>\n",
       "      <td>2</td>\n",
       "      <td>1</td>\n",
       "      <td>1</td>\n",
       "      <td>Cumings, Mrs. John Bradley (Florence Briggs Th...</td>\n",
       "      <td>female</td>\n",
       "      <td>38.0</td>\n",
       "      <td>1</td>\n",
       "      <td>0</td>\n",
       "      <td>PC 17599</td>\n",
       "      <td>71.2833</td>\n",
       "      <td>C85</td>\n",
       "      <td>C</td>\n",
       "      <td>1</td>\n",
       "      <td>Mrs</td>\n",
       "      <td>1</td>\n",
       "      <td>71.2833</td>\n",
       "      <td>38.0</td>\n",
       "      <td>38.0</td>\n",
       "      <td>38.0</td>\n",
       "      <td>C</td>\n",
       "    </tr>\n",
       "    <tr>\n",
       "      <th>2</th>\n",
       "      <td>3</td>\n",
       "      <td>1</td>\n",
       "      <td>3</td>\n",
       "      <td>Heikkinen, Miss. Laina</td>\n",
       "      <td>female</td>\n",
       "      <td>26.0</td>\n",
       "      <td>0</td>\n",
       "      <td>0</td>\n",
       "      <td>STON/O2. 3101282</td>\n",
       "      <td>7.9250</td>\n",
       "      <td>NaN</td>\n",
       "      <td>S</td>\n",
       "      <td>0</td>\n",
       "      <td>Miss</td>\n",
       "      <td>1</td>\n",
       "      <td>7.9250</td>\n",
       "      <td>26.0</td>\n",
       "      <td>26.0</td>\n",
       "      <td>26.0</td>\n",
       "      <td>M</td>\n",
       "    </tr>\n",
       "    <tr>\n",
       "      <th>3</th>\n",
       "      <td>4</td>\n",
       "      <td>1</td>\n",
       "      <td>1</td>\n",
       "      <td>Futrelle, Mrs. Jacques Heath (Lily May Peel)</td>\n",
       "      <td>female</td>\n",
       "      <td>35.0</td>\n",
       "      <td>1</td>\n",
       "      <td>0</td>\n",
       "      <td>113803</td>\n",
       "      <td>53.1000</td>\n",
       "      <td>C123</td>\n",
       "      <td>S</td>\n",
       "      <td>1</td>\n",
       "      <td>Mrs</td>\n",
       "      <td>2</td>\n",
       "      <td>26.5500</td>\n",
       "      <td>35.0</td>\n",
       "      <td>35.0</td>\n",
       "      <td>35.0</td>\n",
       "      <td>C</td>\n",
       "    </tr>\n",
       "    <tr>\n",
       "      <th>4</th>\n",
       "      <td>5</td>\n",
       "      <td>0</td>\n",
       "      <td>3</td>\n",
       "      <td>Allen, Mr. William Henry</td>\n",
       "      <td>male</td>\n",
       "      <td>35.0</td>\n",
       "      <td>0</td>\n",
       "      <td>0</td>\n",
       "      <td>373450</td>\n",
       "      <td>8.0500</td>\n",
       "      <td>NaN</td>\n",
       "      <td>S</td>\n",
       "      <td>0</td>\n",
       "      <td>Mr</td>\n",
       "      <td>1</td>\n",
       "      <td>8.0500</td>\n",
       "      <td>35.0</td>\n",
       "      <td>35.0</td>\n",
       "      <td>35.0</td>\n",
       "      <td>M</td>\n",
       "    </tr>\n",
       "  </tbody>\n",
       "</table>\n",
       "</div>"
      ],
      "text/plain": [
       "   PassengerId  Survived  Pclass  \\\n",
       "0            1         0       3   \n",
       "1            2         1       1   \n",
       "2            3         1       3   \n",
       "3            4         1       1   \n",
       "4            5         0       3   \n",
       "\n",
       "                                                Name     Sex   Age  SibSp  \\\n",
       "0                            Braund, Mr. Owen Harris    male  22.0      1   \n",
       "1  Cumings, Mrs. John Bradley (Florence Briggs Th...  female  38.0      1   \n",
       "2                             Heikkinen, Miss. Laina  female  26.0      0   \n",
       "3       Futrelle, Mrs. Jacques Heath (Lily May Peel)  female  35.0      1   \n",
       "4                           Allen, Mr. William Henry    male  35.0      0   \n",
       "\n",
       "   Parch            Ticket     Fare Cabin Embarked  Family_Size Title  \\\n",
       "0      0         A/5 21171   7.2500   NaN        S            1    Mr   \n",
       "1      0          PC 17599  71.2833   C85        C            1   Mrs   \n",
       "2      0  STON/O2. 3101282   7.9250   NaN        S            0  Miss   \n",
       "3      0            113803  53.1000  C123        S            1   Mrs   \n",
       "4      0            373450   8.0500   NaN        S            0    Mr   \n",
       "\n",
       "   Ticket_Count  Fare_PerPerson  Age_Mean  Age_Median  Age_Random Deck  \n",
       "0             1          7.2500      22.0        22.0        22.0    M  \n",
       "1             1         71.2833      38.0        38.0        38.0    C  \n",
       "2             1          7.9250      26.0        26.0        26.0    M  \n",
       "3             2         26.5500      35.0        35.0        35.0    C  \n",
       "4             1          8.0500      35.0        35.0        35.0    M  "
      ]
     },
     "execution_count": 42,
     "metadata": {},
     "output_type": "execute_result"
    }
   ],
   "source": [
    "training.head()"
   ]
  },
  {
   "cell_type": "markdown",
   "metadata": {
    "papermill": {
     "duration": 0.069198,
     "end_time": "2021-09-21T09:14:29.633904",
     "exception": false,
     "start_time": "2021-09-21T09:14:29.564706",
     "status": "completed"
    },
    "tags": []
   },
   "source": [
    "# 5. Univariate, bivariate and multivariate"
   ]
  },
  {
   "cell_type": "markdown",
   "metadata": {
    "papermill": {
     "duration": 0.069623,
     "end_time": "2021-09-21T09:14:29.773343",
     "exception": false,
     "start_time": "2021-09-21T09:14:29.703720",
     "status": "completed"
    },
    "tags": []
   },
   "source": [
    "## 5a. Univariate"
   ]
  },
  {
   "cell_type": "code",
   "execution_count": 43,
   "metadata": {
    "execution": {
     "iopub.execute_input": "2021-09-21T09:14:29.918895Z",
     "iopub.status.busy": "2021-09-21T09:14:29.918355Z",
     "iopub.status.idle": "2021-09-21T09:14:30.362672Z",
     "shell.execute_reply": "2021-09-21T09:14:30.363692Z",
     "shell.execute_reply.started": "2021-09-21T09:07:41.662560Z"
    },
    "papermill": {
     "duration": 0.520832,
     "end_time": "2021-09-21T09:14:30.363988",
     "exception": false,
     "start_time": "2021-09-21T09:14:29.843156",
     "status": "completed"
    },
    "tags": []
   },
   "outputs": [
    {
     "data": {
      "image/png": "[encoded data removed]",
      "text/plain": [
       "<Figure size 720x360 with 4 Axes>"
      ]
     },
     "metadata": {},
     "output_type": "display_data"
    }
   ],
   "source": [
    "df = training[['Age_Random','Fare_PerPerson','Family_Size']]\n",
    "df.hist(bins=10,figsize = (10,5))\n",
    "plt.show()"
   ]
  },
  {
   "cell_type": "code",
   "execution_count": 44,
   "metadata": {
    "execution": {
     "iopub.execute_input": "2021-09-21T09:14:30.606430Z",
     "iopub.status.busy": "2021-09-21T09:14:30.605801Z",
     "iopub.status.idle": "2021-09-21T09:14:32.853763Z",
     "shell.execute_reply": "2021-09-21T09:14:32.853063Z",
     "shell.execute_reply.started": "2021-09-21T09:07:42.211861Z"
    },
    "papermill": {
     "duration": 2.369545,
     "end_time": "2021-09-21T09:14:32.853905",
     "exception": false,
     "start_time": "2021-09-21T09:14:30.484360",
     "status": "completed"
    },
    "tags": []
   },
   "outputs": [
    {
     "data": {
      "image/png": "[encoded data removed]",
      "text/plain": [
       "<Figure size 360x360 with 1 Axes>"
      ]
     },
     "metadata": {},
     "output_type": "display_data"
    },
    {
     "data": {
      "image/png": "[encoded data removed]",
      "text/plain": [
       "<Figure size 360x360 with 1 Axes>"
      ]
     },
     "metadata": {},
     "output_type": "display_data"
    },
    {
     "data": {
      "image/png": "[encoded data removed]",
      "text/plain": [
       "<Figure size 360x360 with 1 Axes>"
      ]
     },
     "metadata": {},
     "output_type": "display_data"
    },
    {
     "data": {
      "image/png": "[encoded data removed]",
      "text/plain": [
       "<Figure size 360x360 with 1 Axes>"
      ]
     },
     "metadata": {},
     "output_type": "display_data"
    },
    {
     "data": {
      "image/png": "[encoded data removed]",
      "text/plain": [
       "<Figure size 360x360 with 1 Axes>"
      ]
     },
     "metadata": {},
     "output_type": "display_data"
    },
    {
     "data": {
      "image/png": "[encoded data removed]",
      "text/plain": [
       "<Figure size 360x360 with 1 Axes>"
      ]
     },
     "metadata": {},
     "output_type": "display_data"
    },
    {
     "data": {
      "image/png": "[encoded data removed]",
      "text/plain": [
       "<Figure size 360x360 with 1 Axes>"
      ]
     },
     "metadata": {},
     "output_type": "display_data"
    },
    {
     "data": {
      "image/png": "[encoded data removed]",
      "text/plain": [
       "<Figure size 360x360 with 1 Axes>"
      ]
     },
     "metadata": {},
     "output_type": "display_data"
    }
   ],
   "source": [
    "df_cat = training[['Survived','Pclass','Sex','Embarked','Family_Size','Title','Ticket_Count','Deck']]\n",
    "for x in df_cat:\n",
    "    sns.catplot(y = df_cat[x], kind = 'count', data = df_cat, order = df_cat[x].value_counts().index)\n",
    "    plt.show()"
   ]
  },
  {
   "cell_type": "markdown",
   "metadata": {},
   "source": [
    "### Replacing T by A"
   ]
  },
  {
   "cell_type": "code",
   "execution_count": 45,
   "metadata": {
    "execution": {
     "iopub.execute_input": "2021-09-21T09:14:33.102925Z",
     "iopub.status.busy": "2021-09-21T09:14:33.102186Z",
     "iopub.status.idle": "2021-09-21T09:14:33.106908Z",
     "shell.execute_reply": "2021-09-21T09:14:33.107420Z",
     "shell.execute_reply.started": "2021-09-21T09:07:44.919932Z"
    },
    "papermill": {
     "duration": 0.140356,
     "end_time": "2021-09-21T09:14:33.107587",
     "exception": false,
     "start_time": "2021-09-21T09:14:32.967231",
     "status": "completed"
    },
    "tags": []
   },
   "outputs": [
    {
     "data": {
      "text/html": [
       "<div>\n",
       "<style scoped>\n",
       "    .dataframe tbody tr th:only-of-type {\n",
       "        vertical-align: middle;\n",
       "    }\n",
       "\n",
       "    .dataframe tbody tr th {\n",
       "        vertical-align: top;\n",
       "    }\n",
       "\n",
       "    .dataframe thead th {\n",
       "        text-align: right;\n",
       "    }\n",
       "</style>\n",
       "<table border=\"1\" class=\"dataframe\">\n",
       "  <thead>\n",
       "    <tr style=\"text-align: right;\">\n",
       "      <th></th>\n",
       "      <th>PassengerId</th>\n",
       "      <th>Survived</th>\n",
       "      <th>Pclass</th>\n",
       "      <th>Name</th>\n",
       "      <th>Sex</th>\n",
       "      <th>Age</th>\n",
       "      <th>SibSp</th>\n",
       "      <th>Parch</th>\n",
       "      <th>Ticket</th>\n",
       "      <th>Fare</th>\n",
       "      <th>Cabin</th>\n",
       "      <th>Embarked</th>\n",
       "      <th>Family_Size</th>\n",
       "      <th>Title</th>\n",
       "      <th>Ticket_Count</th>\n",
       "      <th>Fare_PerPerson</th>\n",
       "      <th>Age_Mean</th>\n",
       "      <th>Age_Median</th>\n",
       "      <th>Age_Random</th>\n",
       "      <th>Deck</th>\n",
       "    </tr>\n",
       "  </thead>\n",
       "  <tbody>\n",
       "    <tr>\n",
       "      <th>339</th>\n",
       "      <td>340</td>\n",
       "      <td>0</td>\n",
       "      <td>1</td>\n",
       "      <td>Blackwell, Mr. Stephen Weart</td>\n",
       "      <td>male</td>\n",
       "      <td>45.0</td>\n",
       "      <td>0</td>\n",
       "      <td>0</td>\n",
       "      <td>113784</td>\n",
       "      <td>35.5</td>\n",
       "      <td>T</td>\n",
       "      <td>S</td>\n",
       "      <td>0</td>\n",
       "      <td>Mr</td>\n",
       "      <td>1</td>\n",
       "      <td>35.5</td>\n",
       "      <td>45.0</td>\n",
       "      <td>45.0</td>\n",
       "      <td>45.0</td>\n",
       "      <td>T</td>\n",
       "    </tr>\n",
       "  </tbody>\n",
       "</table>\n",
       "</div>"
      ],
      "text/plain": [
       "     PassengerId  Survived  Pclass                          Name   Sex   Age  \\\n",
       "339          340         0       1  Blackwell, Mr. Stephen Weart  male  45.0   \n",
       "\n",
       "     SibSp  Parch  Ticket  Fare Cabin Embarked  Family_Size Title  \\\n",
       "339      0      0  113784  35.5     T        S            0    Mr   \n",
       "\n",
       "     Ticket_Count  Fare_PerPerson  Age_Mean  Age_Median  Age_Random Deck  \n",
       "339             1            35.5      45.0        45.0        45.0    T  "
      ]
     },
     "execution_count": 45,
     "metadata": {},
     "output_type": "execute_result"
    }
   ],
   "source": [
    "#Checking the passenger's profile who stayed in Deck T\n",
    "training.loc[training['Deck'] == 'T',:]"
   ]
  },
  {
   "cell_type": "code",
   "execution_count": 46,
   "metadata": {
    "execution": {
     "iopub.execute_input": "2021-09-21T09:14:33.340694Z",
     "iopub.status.busy": "2021-09-21T09:14:33.340028Z",
     "iopub.status.idle": "2021-09-21T09:14:33.344041Z",
     "shell.execute_reply": "2021-09-21T09:14:33.343469Z",
     "shell.execute_reply.started": "2021-09-21T09:07:44.946201Z"
    },
    "papermill": {
     "duration": 0.123671,
     "end_time": "2021-09-21T09:14:33.344182",
     "exception": false,
     "start_time": "2021-09-21T09:14:33.220511",
     "status": "completed"
    },
    "tags": []
   },
   "outputs": [],
   "source": [
    "#Replace with the nearest deck\n",
    "training['Deck'] = training['Deck'].replace({'T':'A'})"
   ]
  },
  {
   "cell_type": "code",
   "execution_count": 47,
   "metadata": {
    "execution": {
     "iopub.execute_input": "2021-09-21T09:14:33.582463Z",
     "iopub.status.busy": "2021-09-21T09:14:33.581683Z",
     "iopub.status.idle": "2021-09-21T09:14:33.586438Z",
     "shell.execute_reply": "2021-09-21T09:14:33.585764Z",
     "shell.execute_reply.started": "2021-09-21T09:07:44.960744Z"
    },
    "papermill": {
     "duration": 0.128184,
     "end_time": "2021-09-21T09:14:33.586581",
     "exception": false,
     "start_time": "2021-09-21T09:14:33.458397",
     "status": "completed"
    },
    "tags": []
   },
   "outputs": [
    {
     "data": {
      "text/plain": [
       "PassengerId                                340\n",
       "Survived                                     0\n",
       "Pclass                                       1\n",
       "Name              Blackwell, Mr. Stephen Weart\n",
       "Sex                                       male\n",
       "Age                                         45\n",
       "SibSp                                        0\n",
       "Parch                                        0\n",
       "Ticket                                  113784\n",
       "Fare                                      35.5\n",
       "Cabin                                        T\n",
       "Embarked                                     S\n",
       "Family_Size                                  0\n",
       "Title                                       Mr\n",
       "Ticket_Count                                 1\n",
       "Fare_PerPerson                            35.5\n",
       "Age_Mean                                    45\n",
       "Age_Median                                  45\n",
       "Age_Random                                  45\n",
       "Deck                                         A\n",
       "Name: 339, dtype: object"
      ]
     },
     "execution_count": 47,
     "metadata": {},
     "output_type": "execute_result"
    }
   ],
   "source": [
    "#Checking the replacement value\n",
    "training.iloc[339,:]"
   ]
  },
  {
   "cell_type": "markdown",
   "metadata": {},
   "source": [
    "### Checking the fares feature"
   ]
  },
  {
   "cell_type": "code",
   "execution_count": 48,
   "metadata": {},
   "outputs": [
    {
     "data": {
      "text/html": [
       "<div>\n",
       "<style scoped>\n",
       "    .dataframe tbody tr th:only-of-type {\n",
       "        vertical-align: middle;\n",
       "    }\n",
       "\n",
       "    .dataframe tbody tr th {\n",
       "        vertical-align: top;\n",
       "    }\n",
       "\n",
       "    .dataframe thead th {\n",
       "        text-align: right;\n",
       "    }\n",
       "</style>\n",
       "<table border=\"1\" class=\"dataframe\">\n",
       "  <thead>\n",
       "    <tr style=\"text-align: right;\">\n",
       "      <th></th>\n",
       "      <th>PassengerId</th>\n",
       "      <th>Survived</th>\n",
       "      <th>Pclass</th>\n",
       "      <th>Name</th>\n",
       "      <th>Sex</th>\n",
       "      <th>Age</th>\n",
       "      <th>SibSp</th>\n",
       "      <th>Parch</th>\n",
       "      <th>Ticket</th>\n",
       "      <th>Fare</th>\n",
       "      <th>Cabin</th>\n",
       "      <th>Embarked</th>\n",
       "      <th>Family_Size</th>\n",
       "      <th>Title</th>\n",
       "      <th>Ticket_Count</th>\n",
       "      <th>Fare_PerPerson</th>\n",
       "      <th>Age_Mean</th>\n",
       "      <th>Age_Median</th>\n",
       "      <th>Age_Random</th>\n",
       "      <th>Deck</th>\n",
       "    </tr>\n",
       "  </thead>\n",
       "  <tbody>\n",
       "    <tr>\n",
       "      <th>179</th>\n",
       "      <td>180</td>\n",
       "      <td>0</td>\n",
       "      <td>3</td>\n",
       "      <td>Leonard, Mr. Lionel</td>\n",
       "      <td>male</td>\n",
       "      <td>36.0</td>\n",
       "      <td>0</td>\n",
       "      <td>0</td>\n",
       "      <td>LINE</td>\n",
       "      <td>0.0</td>\n",
       "      <td>NaN</td>\n",
       "      <td>S</td>\n",
       "      <td>0</td>\n",
       "      <td>Mr</td>\n",
       "      <td>4</td>\n",
       "      <td>0.0</td>\n",
       "      <td>36.000000</td>\n",
       "      <td>36.0</td>\n",
       "      <td>36.0</td>\n",
       "      <td>M</td>\n",
       "    </tr>\n",
       "    <tr>\n",
       "      <th>263</th>\n",
       "      <td>264</td>\n",
       "      <td>0</td>\n",
       "      <td>1</td>\n",
       "      <td>Harrison, Mr. William</td>\n",
       "      <td>male</td>\n",
       "      <td>40.0</td>\n",
       "      <td>0</td>\n",
       "      <td>0</td>\n",
       "      <td>112059</td>\n",
       "      <td>0.0</td>\n",
       "      <td>B94</td>\n",
       "      <td>S</td>\n",
       "      <td>0</td>\n",
       "      <td>Mr</td>\n",
       "      <td>1</td>\n",
       "      <td>0.0</td>\n",
       "      <td>40.000000</td>\n",
       "      <td>40.0</td>\n",
       "      <td>40.0</td>\n",
       "      <td>B</td>\n",
       "    </tr>\n",
       "    <tr>\n",
       "      <th>271</th>\n",
       "      <td>272</td>\n",
       "      <td>1</td>\n",
       "      <td>3</td>\n",
       "      <td>Tornquist, Mr. William Henry</td>\n",
       "      <td>male</td>\n",
       "      <td>25.0</td>\n",
       "      <td>0</td>\n",
       "      <td>0</td>\n",
       "      <td>LINE</td>\n",
       "      <td>0.0</td>\n",
       "      <td>NaN</td>\n",
       "      <td>S</td>\n",
       "      <td>0</td>\n",
       "      <td>Mr</td>\n",
       "      <td>4</td>\n",
       "      <td>0.0</td>\n",
       "      <td>25.000000</td>\n",
       "      <td>25.0</td>\n",
       "      <td>25.0</td>\n",
       "      <td>M</td>\n",
       "    </tr>\n",
       "    <tr>\n",
       "      <th>277</th>\n",
       "      <td>278</td>\n",
       "      <td>0</td>\n",
       "      <td>2</td>\n",
       "      <td>Parkes, Mr. Francis \"Frank\"</td>\n",
       "      <td>male</td>\n",
       "      <td>NaN</td>\n",
       "      <td>0</td>\n",
       "      <td>0</td>\n",
       "      <td>239853</td>\n",
       "      <td>0.0</td>\n",
       "      <td>NaN</td>\n",
       "      <td>S</td>\n",
       "      <td>0</td>\n",
       "      <td>Mr</td>\n",
       "      <td>3</td>\n",
       "      <td>0.0</td>\n",
       "      <td>29.699118</td>\n",
       "      <td>28.0</td>\n",
       "      <td>57.0</td>\n",
       "      <td>M</td>\n",
       "    </tr>\n",
       "    <tr>\n",
       "      <th>302</th>\n",
       "      <td>303</td>\n",
       "      <td>0</td>\n",
       "      <td>3</td>\n",
       "      <td>Johnson, Mr. William Cahoone Jr</td>\n",
       "      <td>male</td>\n",
       "      <td>19.0</td>\n",
       "      <td>0</td>\n",
       "      <td>0</td>\n",
       "      <td>LINE</td>\n",
       "      <td>0.0</td>\n",
       "      <td>NaN</td>\n",
       "      <td>S</td>\n",
       "      <td>0</td>\n",
       "      <td>Mr</td>\n",
       "      <td>4</td>\n",
       "      <td>0.0</td>\n",
       "      <td>19.000000</td>\n",
       "      <td>19.0</td>\n",
       "      <td>19.0</td>\n",
       "      <td>M</td>\n",
       "    </tr>\n",
       "    <tr>\n",
       "      <th>413</th>\n",
       "      <td>414</td>\n",
       "      <td>0</td>\n",
       "      <td>2</td>\n",
       "      <td>Cunningham, Mr. Alfred Fleming</td>\n",
       "      <td>male</td>\n",
       "      <td>NaN</td>\n",
       "      <td>0</td>\n",
       "      <td>0</td>\n",
       "      <td>239853</td>\n",
       "      <td>0.0</td>\n",
       "      <td>NaN</td>\n",
       "      <td>S</td>\n",
       "      <td>0</td>\n",
       "      <td>Mr</td>\n",
       "      <td>3</td>\n",
       "      <td>0.0</td>\n",
       "      <td>29.699118</td>\n",
       "      <td>28.0</td>\n",
       "      <td>49.0</td>\n",
       "      <td>M</td>\n",
       "    </tr>\n",
       "    <tr>\n",
       "      <th>466</th>\n",
       "      <td>467</td>\n",
       "      <td>0</td>\n",
       "      <td>2</td>\n",
       "      <td>Campbell, Mr. William</td>\n",
       "      <td>male</td>\n",
       "      <td>NaN</td>\n",
       "      <td>0</td>\n",
       "      <td>0</td>\n",
       "      <td>239853</td>\n",
       "      <td>0.0</td>\n",
       "      <td>NaN</td>\n",
       "      <td>S</td>\n",
       "      <td>0</td>\n",
       "      <td>Mr</td>\n",
       "      <td>3</td>\n",
       "      <td>0.0</td>\n",
       "      <td>29.699118</td>\n",
       "      <td>28.0</td>\n",
       "      <td>8.0</td>\n",
       "      <td>M</td>\n",
       "    </tr>\n",
       "    <tr>\n",
       "      <th>481</th>\n",
       "      <td>482</td>\n",
       "      <td>0</td>\n",
       "      <td>2</td>\n",
       "      <td>Frost, Mr. Anthony Wood \"Archie\"</td>\n",
       "      <td>male</td>\n",
       "      <td>NaN</td>\n",
       "      <td>0</td>\n",
       "      <td>0</td>\n",
       "      <td>239854</td>\n",
       "      <td>0.0</td>\n",
       "      <td>NaN</td>\n",
       "      <td>S</td>\n",
       "      <td>0</td>\n",
       "      <td>Mr</td>\n",
       "      <td>1</td>\n",
       "      <td>0.0</td>\n",
       "      <td>29.699118</td>\n",
       "      <td>28.0</td>\n",
       "      <td>18.0</td>\n",
       "      <td>M</td>\n",
       "    </tr>\n",
       "    <tr>\n",
       "      <th>597</th>\n",
       "      <td>598</td>\n",
       "      <td>0</td>\n",
       "      <td>3</td>\n",
       "      <td>Johnson, Mr. Alfred</td>\n",
       "      <td>male</td>\n",
       "      <td>49.0</td>\n",
       "      <td>0</td>\n",
       "      <td>0</td>\n",
       "      <td>LINE</td>\n",
       "      <td>0.0</td>\n",
       "      <td>NaN</td>\n",
       "      <td>S</td>\n",
       "      <td>0</td>\n",
       "      <td>Mr</td>\n",
       "      <td>4</td>\n",
       "      <td>0.0</td>\n",
       "      <td>49.000000</td>\n",
       "      <td>49.0</td>\n",
       "      <td>49.0</td>\n",
       "      <td>M</td>\n",
       "    </tr>\n",
       "    <tr>\n",
       "      <th>633</th>\n",
       "      <td>634</td>\n",
       "      <td>0</td>\n",
       "      <td>1</td>\n",
       "      <td>Parr, Mr. William Henry Marsh</td>\n",
       "      <td>male</td>\n",
       "      <td>NaN</td>\n",
       "      <td>0</td>\n",
       "      <td>0</td>\n",
       "      <td>112052</td>\n",
       "      <td>0.0</td>\n",
       "      <td>NaN</td>\n",
       "      <td>S</td>\n",
       "      <td>0</td>\n",
       "      <td>Mr</td>\n",
       "      <td>1</td>\n",
       "      <td>0.0</td>\n",
       "      <td>29.699118</td>\n",
       "      <td>28.0</td>\n",
       "      <td>27.0</td>\n",
       "      <td>M</td>\n",
       "    </tr>\n",
       "    <tr>\n",
       "      <th>674</th>\n",
       "      <td>675</td>\n",
       "      <td>0</td>\n",
       "      <td>2</td>\n",
       "      <td>Watson, Mr. Ennis Hastings</td>\n",
       "      <td>male</td>\n",
       "      <td>NaN</td>\n",
       "      <td>0</td>\n",
       "      <td>0</td>\n",
       "      <td>239856</td>\n",
       "      <td>0.0</td>\n",
       "      <td>NaN</td>\n",
       "      <td>S</td>\n",
       "      <td>0</td>\n",
       "      <td>Mr</td>\n",
       "      <td>1</td>\n",
       "      <td>0.0</td>\n",
       "      <td>29.699118</td>\n",
       "      <td>28.0</td>\n",
       "      <td>38.0</td>\n",
       "      <td>M</td>\n",
       "    </tr>\n",
       "    <tr>\n",
       "      <th>732</th>\n",
       "      <td>733</td>\n",
       "      <td>0</td>\n",
       "      <td>2</td>\n",
       "      <td>Knight, Mr. Robert J</td>\n",
       "      <td>male</td>\n",
       "      <td>NaN</td>\n",
       "      <td>0</td>\n",
       "      <td>0</td>\n",
       "      <td>239855</td>\n",
       "      <td>0.0</td>\n",
       "      <td>NaN</td>\n",
       "      <td>S</td>\n",
       "      <td>0</td>\n",
       "      <td>Mr</td>\n",
       "      <td>1</td>\n",
       "      <td>0.0</td>\n",
       "      <td>29.699118</td>\n",
       "      <td>28.0</td>\n",
       "      <td>22.0</td>\n",
       "      <td>M</td>\n",
       "    </tr>\n",
       "    <tr>\n",
       "      <th>806</th>\n",
       "      <td>807</td>\n",
       "      <td>0</td>\n",
       "      <td>1</td>\n",
       "      <td>Andrews, Mr. Thomas Jr</td>\n",
       "      <td>male</td>\n",
       "      <td>39.0</td>\n",
       "      <td>0</td>\n",
       "      <td>0</td>\n",
       "      <td>112050</td>\n",
       "      <td>0.0</td>\n",
       "      <td>A36</td>\n",
       "      <td>S</td>\n",
       "      <td>0</td>\n",
       "      <td>Mr</td>\n",
       "      <td>1</td>\n",
       "      <td>0.0</td>\n",
       "      <td>39.000000</td>\n",
       "      <td>39.0</td>\n",
       "      <td>39.0</td>\n",
       "      <td>A</td>\n",
       "    </tr>\n",
       "    <tr>\n",
       "      <th>815</th>\n",
       "      <td>816</td>\n",
       "      <td>0</td>\n",
       "      <td>1</td>\n",
       "      <td>Fry, Mr. Richard</td>\n",
       "      <td>male</td>\n",
       "      <td>NaN</td>\n",
       "      <td>0</td>\n",
       "      <td>0</td>\n",
       "      <td>112058</td>\n",
       "      <td>0.0</td>\n",
       "      <td>B102</td>\n",
       "      <td>S</td>\n",
       "      <td>0</td>\n",
       "      <td>Mr</td>\n",
       "      <td>1</td>\n",
       "      <td>0.0</td>\n",
       "      <td>29.699118</td>\n",
       "      <td>28.0</td>\n",
       "      <td>2.0</td>\n",
       "      <td>B</td>\n",
       "    </tr>\n",
       "    <tr>\n",
       "      <th>822</th>\n",
       "      <td>823</td>\n",
       "      <td>0</td>\n",
       "      <td>1</td>\n",
       "      <td>Reuchlin, Jonkheer. John George</td>\n",
       "      <td>male</td>\n",
       "      <td>38.0</td>\n",
       "      <td>0</td>\n",
       "      <td>0</td>\n",
       "      <td>19972</td>\n",
       "      <td>0.0</td>\n",
       "      <td>NaN</td>\n",
       "      <td>S</td>\n",
       "      <td>0</td>\n",
       "      <td>Misc_Male</td>\n",
       "      <td>1</td>\n",
       "      <td>0.0</td>\n",
       "      <td>38.000000</td>\n",
       "      <td>38.0</td>\n",
       "      <td>38.0</td>\n",
       "      <td>M</td>\n",
       "    </tr>\n",
       "  </tbody>\n",
       "</table>\n",
       "</div>"
      ],
      "text/plain": [
       "     PassengerId  Survived  Pclass                              Name   Sex  \\\n",
       "179          180         0       3               Leonard, Mr. Lionel  male   \n",
       "263          264         0       1             Harrison, Mr. William  male   \n",
       "271          272         1       3      Tornquist, Mr. William Henry  male   \n",
       "277          278         0       2       Parkes, Mr. Francis \"Frank\"  male   \n",
       "302          303         0       3   Johnson, Mr. William Cahoone Jr  male   \n",
       "413          414         0       2    Cunningham, Mr. Alfred Fleming  male   \n",
       "466          467         0       2             Campbell, Mr. William  male   \n",
       "481          482         0       2  Frost, Mr. Anthony Wood \"Archie\"  male   \n",
       "597          598         0       3               Johnson, Mr. Alfred  male   \n",
       "633          634         0       1     Parr, Mr. William Henry Marsh  male   \n",
       "674          675         0       2        Watson, Mr. Ennis Hastings  male   \n",
       "732          733         0       2              Knight, Mr. Robert J  male   \n",
       "806          807         0       1            Andrews, Mr. Thomas Jr  male   \n",
       "815          816         0       1                  Fry, Mr. Richard  male   \n",
       "822          823         0       1   Reuchlin, Jonkheer. John George  male   \n",
       "\n",
       "      Age  SibSp  Parch  Ticket  Fare Cabin Embarked  Family_Size      Title  \\\n",
       "179  36.0      0      0    LINE   0.0   NaN        S            0         Mr   \n",
       "263  40.0      0      0  112059   0.0   B94        S            0         Mr   \n",
       "271  25.0      0      0    LINE   0.0   NaN        S            0         Mr   \n",
       "277   NaN      0      0  239853   0.0   NaN        S            0         Mr   \n",
       "302  19.0      0      0    LINE   0.0   NaN        S            0         Mr   \n",
       "413   NaN      0      0  239853   0.0   NaN        S            0         Mr   \n",
       "466   NaN      0      0  239853   0.0   NaN        S            0         Mr   \n",
       "481   NaN      0      0  239854   0.0   NaN        S            0         Mr   \n",
       "597  49.0      0      0    LINE   0.0   NaN        S            0         Mr   \n",
       "633   NaN      0      0  112052   0.0   NaN        S            0         Mr   \n",
       "674   NaN      0      0  239856   0.0   NaN        S            0         Mr   \n",
       "732   NaN      0      0  239855   0.0   NaN        S            0         Mr   \n",
       "806  39.0      0      0  112050   0.0   A36        S            0         Mr   \n",
       "815   NaN      0      0  112058   0.0  B102        S            0         Mr   \n",
       "822  38.0      0      0   19972   0.0   NaN        S            0  Misc_Male   \n",
       "\n",
       "     Ticket_Count  Fare_PerPerson   Age_Mean  Age_Median  Age_Random Deck  \n",
       "179             4             0.0  36.000000        36.0        36.0    M  \n",
       "263             1             0.0  40.000000        40.0        40.0    B  \n",
       "271             4             0.0  25.000000        25.0        25.0    M  \n",
       "277             3             0.0  29.699118        28.0        57.0    M  \n",
       "302             4             0.0  19.000000        19.0        19.0    M  \n",
       "413             3             0.0  29.699118        28.0        49.0    M  \n",
       "466             3             0.0  29.699118        28.0         8.0    M  \n",
       "481             1             0.0  29.699118        28.0        18.0    M  \n",
       "597             4             0.0  49.000000        49.0        49.0    M  \n",
       "633             1             0.0  29.699118        28.0        27.0    M  \n",
       "674             1             0.0  29.699118        28.0        38.0    M  \n",
       "732             1             0.0  29.699118        28.0        22.0    M  \n",
       "806             1             0.0  39.000000        39.0        39.0    A  \n",
       "815             1             0.0  29.699118        28.0         2.0    B  \n",
       "822             1             0.0  38.000000        38.0        38.0    M  "
      ]
     },
     "execution_count": 48,
     "metadata": {},
     "output_type": "execute_result"
    }
   ],
   "source": [
    "training.loc[training['Fare'] == 0,:]"
   ]
  },
  {
   "cell_type": "markdown",
   "metadata": {},
   "source": [
    "### Create feature - travelling alone or not alone"
   ]
  },
  {
   "cell_type": "code",
   "execution_count": 49,
   "metadata": {},
   "outputs": [],
   "source": [
    "training['Travel_Alone'] = training.apply(lambda row: row.Family_Size == 0, axis = 1)\n",
    "training.loc[training['Travel_Alone'] == True, 'Travel_Alone'] = 1\n",
    "training.loc[training['Travel_Alone'] == False, 'Travel_Alone'] = 0"
   ]
  },
  {
   "cell_type": "code",
   "execution_count": 50,
   "metadata": {},
   "outputs": [
    {
     "data": {
      "text/html": [
       "<div>\n",
       "<style scoped>\n",
       "    .dataframe tbody tr th:only-of-type {\n",
       "        vertical-align: middle;\n",
       "    }\n",
       "\n",
       "    .dataframe tbody tr th {\n",
       "        vertical-align: top;\n",
       "    }\n",
       "\n",
       "    .dataframe thead th {\n",
       "        text-align: right;\n",
       "    }\n",
       "</style>\n",
       "<table border=\"1\" class=\"dataframe\">\n",
       "  <thead>\n",
       "    <tr style=\"text-align: right;\">\n",
       "      <th></th>\n",
       "      <th>PassengerId</th>\n",
       "      <th>Survived</th>\n",
       "      <th>Pclass</th>\n",
       "      <th>Name</th>\n",
       "      <th>Sex</th>\n",
       "      <th>Age</th>\n",
       "      <th>SibSp</th>\n",
       "      <th>Parch</th>\n",
       "      <th>Ticket</th>\n",
       "      <th>Fare</th>\n",
       "      <th>Cabin</th>\n",
       "      <th>Embarked</th>\n",
       "      <th>Family_Size</th>\n",
       "      <th>Title</th>\n",
       "      <th>Ticket_Count</th>\n",
       "      <th>Fare_PerPerson</th>\n",
       "      <th>Age_Mean</th>\n",
       "      <th>Age_Median</th>\n",
       "      <th>Age_Random</th>\n",
       "      <th>Deck</th>\n",
       "      <th>Travel_Alone</th>\n",
       "    </tr>\n",
       "  </thead>\n",
       "  <tbody>\n",
       "    <tr>\n",
       "      <th>0</th>\n",
       "      <td>1</td>\n",
       "      <td>0</td>\n",
       "      <td>3</td>\n",
       "      <td>Braund, Mr. Owen Harris</td>\n",
       "      <td>male</td>\n",
       "      <td>22.0</td>\n",
       "      <td>1</td>\n",
       "      <td>0</td>\n",
       "      <td>A/5 21171</td>\n",
       "      <td>7.2500</td>\n",
       "      <td>NaN</td>\n",
       "      <td>S</td>\n",
       "      <td>1</td>\n",
       "      <td>Mr</td>\n",
       "      <td>1</td>\n",
       "      <td>7.2500</td>\n",
       "      <td>22.0</td>\n",
       "      <td>22.0</td>\n",
       "      <td>22.0</td>\n",
       "      <td>M</td>\n",
       "      <td>0</td>\n",
       "    </tr>\n",
       "    <tr>\n",
       "      <th>1</th>\n",
       "      <td>2</td>\n",
       "      <td>1</td>\n",
       "      <td>1</td>\n",
       "      <td>Cumings, Mrs. John Bradley (Florence Briggs Th...</td>\n",
       "      <td>female</td>\n",
       "      <td>38.0</td>\n",
       "      <td>1</td>\n",
       "      <td>0</td>\n",
       "      <td>PC 17599</td>\n",
       "      <td>71.2833</td>\n",
       "      <td>C85</td>\n",
       "      <td>C</td>\n",
       "      <td>1</td>\n",
       "      <td>Mrs</td>\n",
       "      <td>1</td>\n",
       "      <td>71.2833</td>\n",
       "      <td>38.0</td>\n",
       "      <td>38.0</td>\n",
       "      <td>38.0</td>\n",
       "      <td>C</td>\n",
       "      <td>0</td>\n",
       "    </tr>\n",
       "    <tr>\n",
       "      <th>2</th>\n",
       "      <td>3</td>\n",
       "      <td>1</td>\n",
       "      <td>3</td>\n",
       "      <td>Heikkinen, Miss. Laina</td>\n",
       "      <td>female</td>\n",
       "      <td>26.0</td>\n",
       "      <td>0</td>\n",
       "      <td>0</td>\n",
       "      <td>STON/O2. 3101282</td>\n",
       "      <td>7.9250</td>\n",
       "      <td>NaN</td>\n",
       "      <td>S</td>\n",
       "      <td>0</td>\n",
       "      <td>Miss</td>\n",
       "      <td>1</td>\n",
       "      <td>7.9250</td>\n",
       "      <td>26.0</td>\n",
       "      <td>26.0</td>\n",
       "      <td>26.0</td>\n",
       "      <td>M</td>\n",
       "      <td>1</td>\n",
       "    </tr>\n",
       "    <tr>\n",
       "      <th>3</th>\n",
       "      <td>4</td>\n",
       "      <td>1</td>\n",
       "      <td>1</td>\n",
       "      <td>Futrelle, Mrs. Jacques Heath (Lily May Peel)</td>\n",
       "      <td>female</td>\n",
       "      <td>35.0</td>\n",
       "      <td>1</td>\n",
       "      <td>0</td>\n",
       "      <td>113803</td>\n",
       "      <td>53.1000</td>\n",
       "      <td>C123</td>\n",
       "      <td>S</td>\n",
       "      <td>1</td>\n",
       "      <td>Mrs</td>\n",
       "      <td>2</td>\n",
       "      <td>26.5500</td>\n",
       "      <td>35.0</td>\n",
       "      <td>35.0</td>\n",
       "      <td>35.0</td>\n",
       "      <td>C</td>\n",
       "      <td>0</td>\n",
       "    </tr>\n",
       "    <tr>\n",
       "      <th>4</th>\n",
       "      <td>5</td>\n",
       "      <td>0</td>\n",
       "      <td>3</td>\n",
       "      <td>Allen, Mr. William Henry</td>\n",
       "      <td>male</td>\n",
       "      <td>35.0</td>\n",
       "      <td>0</td>\n",
       "      <td>0</td>\n",
       "      <td>373450</td>\n",
       "      <td>8.0500</td>\n",
       "      <td>NaN</td>\n",
       "      <td>S</td>\n",
       "      <td>0</td>\n",
       "      <td>Mr</td>\n",
       "      <td>1</td>\n",
       "      <td>8.0500</td>\n",
       "      <td>35.0</td>\n",
       "      <td>35.0</td>\n",
       "      <td>35.0</td>\n",
       "      <td>M</td>\n",
       "      <td>1</td>\n",
       "    </tr>\n",
       "  </tbody>\n",
       "</table>\n",
       "</div>"
      ],
      "text/plain": [
       "   PassengerId  Survived  Pclass  \\\n",
       "0            1         0       3   \n",
       "1            2         1       1   \n",
       "2            3         1       3   \n",
       "3            4         1       1   \n",
       "4            5         0       3   \n",
       "\n",
       "                                                Name     Sex   Age  SibSp  \\\n",
       "0                            Braund, Mr. Owen Harris    male  22.0      1   \n",
       "1  Cumings, Mrs. John Bradley (Florence Briggs Th...  female  38.0      1   \n",
       "2                             Heikkinen, Miss. Laina  female  26.0      0   \n",
       "3       Futrelle, Mrs. Jacques Heath (Lily May Peel)  female  35.0      1   \n",
       "4                           Allen, Mr. William Henry    male  35.0      0   \n",
       "\n",
       "   Parch            Ticket     Fare Cabin Embarked  Family_Size Title  \\\n",
       "0      0         A/5 21171   7.2500   NaN        S            1    Mr   \n",
       "1      0          PC 17599  71.2833   C85        C            1   Mrs   \n",
       "2      0  STON/O2. 3101282   7.9250   NaN        S            0  Miss   \n",
       "3      0            113803  53.1000  C123        S            1   Mrs   \n",
       "4      0            373450   8.0500   NaN        S            0    Mr   \n",
       "\n",
       "   Ticket_Count  Fare_PerPerson  Age_Mean  Age_Median  Age_Random Deck  \\\n",
       "0             1          7.2500      22.0        22.0        22.0    M   \n",
       "1             1         71.2833      38.0        38.0        38.0    C   \n",
       "2             1          7.9250      26.0        26.0        26.0    M   \n",
       "3             2         26.5500      35.0        35.0        35.0    C   \n",
       "4             1          8.0500      35.0        35.0        35.0    M   \n",
       "\n",
       "  Travel_Alone  \n",
       "0            0  \n",
       "1            0  \n",
       "2            1  \n",
       "3            0  \n",
       "4            1  "
      ]
     },
     "execution_count": 50,
     "metadata": {},
     "output_type": "execute_result"
    }
   ],
   "source": [
    "training.head()"
   ]
  },
  {
   "cell_type": "markdown",
   "metadata": {},
   "source": [
    "### Categorizing age"
   ]
  },
  {
   "cell_type": "code",
   "execution_count": 51,
   "metadata": {
    "execution": {
     "iopub.execute_input": "2021-09-21T09:14:34.639943Z",
     "iopub.status.busy": "2021-09-21T09:14:34.635135Z",
     "iopub.status.idle": "2021-09-21T09:14:34.641910Z",
     "shell.execute_reply": "2021-09-21T09:14:34.642320Z",
     "shell.execute_reply.started": "2021-09-21T09:07:45.398216Z"
    },
    "papermill": {
     "duration": 0.089501,
     "end_time": "2021-09-21T09:14:34.642464",
     "exception": false,
     "start_time": "2021-09-21T09:14:34.552963",
     "status": "completed"
    },
    "tags": []
   },
   "outputs": [],
   "source": [
    "#Discretizing the Age feature, other alternatives can use binarizer, digitize in the numpy library\n",
    "\n",
    "age_cat =['Infant','Children','Young Adult','Adult']\n",
    "training['Age_Cut'] = pd.cut(training['Age_Random'],(0,2,18,30,80), labels = age_cat)"
   ]
  },
  {
   "cell_type": "code",
   "execution_count": 52,
   "metadata": {
    "execution": {
     "iopub.execute_input": "2021-09-21T09:14:34.799800Z",
     "iopub.status.busy": "2021-09-21T09:14:34.799281Z",
     "iopub.status.idle": "2021-09-21T09:14:34.810375Z",
     "shell.execute_reply": "2021-09-21T09:14:34.809857Z",
     "shell.execute_reply.started": "2021-09-21T09:07:45.410420Z"
    },
    "papermill": {
     "duration": 0.092597,
     "end_time": "2021-09-21T09:14:34.810509",
     "exception": false,
     "start_time": "2021-09-21T09:14:34.717912",
     "status": "completed"
    },
    "tags": []
   },
   "outputs": [
    {
     "data": {
      "text/plain": [
       "Adult          382\n",
       "Young Adult    339\n",
       "Children       139\n",
       "Infant          31\n",
       "Name: Age_Cut, dtype: int64"
      ]
     },
     "execution_count": 52,
     "metadata": {},
     "output_type": "execute_result"
    }
   ],
   "source": [
    "#Checking the counts after descritizing\n",
    "training.Age_Cut.value_counts()"
   ]
  },
  {
   "cell_type": "code",
   "execution_count": 53,
   "metadata": {
    "execution": {
     "iopub.execute_input": "2021-09-21T09:14:34.968849Z",
     "iopub.status.busy": "2021-09-21T09:14:34.968307Z",
     "iopub.status.idle": "2021-09-21T09:14:35.268151Z",
     "shell.execute_reply": "2021-09-21T09:14:35.268618Z",
     "shell.execute_reply.started": "2021-09-21T09:07:45.434398Z"
    },
    "papermill": {
     "duration": 0.380405,
     "end_time": "2021-09-21T09:14:35.268793",
     "exception": false,
     "start_time": "2021-09-21T09:14:34.888388",
     "status": "completed"
    },
    "tags": []
   },
   "outputs": [
    {
     "data": {
      "image/png": "[encoded data removed]",
      "text/plain": [
       "<Figure size 720x360 with 1 Axes>"
      ]
     },
     "metadata": {},
     "output_type": "display_data"
    }
   ],
   "source": [
    "#Plotting the Age_Cut\n",
    "sns.catplot(x='Age_Cut',data=training, kind='count', aspect =2.0);"
   ]
  },
  {
   "cell_type": "markdown",
   "metadata": {
    "papermill": {
     "duration": 0.075868,
     "end_time": "2021-09-21T09:14:35.421457",
     "exception": false,
     "start_time": "2021-09-21T09:14:35.345589",
     "status": "completed"
    },
    "tags": []
   },
   "source": [
    "## 5b. Bivariate"
   ]
  },
  {
   "cell_type": "code",
   "execution_count": 54,
   "metadata": {},
   "outputs": [
    {
     "data": {
      "image/png": "[encoded data removed]",
      "text/plain": [
       "<Figure size 360x360 with 1 Axes>"
      ]
     },
     "metadata": {},
     "output_type": "display_data"
    }
   ],
   "source": [
    "#Checking how fare per person distributed among classes\n",
    "sns.catplot(x=\"Pclass\", y=\"Fare_PerPerson\", kind=\"strip\", data=training);"
   ]
  },
  {
   "cell_type": "code",
   "execution_count": 55,
   "metadata": {},
   "outputs": [
    {
     "name": "stderr",
     "output_type": "stream",
     "text": [
      "C:\\Users\\nurfazilla\\Anaconda3\\lib\\site-packages\\seaborn\\categorical.py:1296: UserWarning: 34.2% of the points cannot be placed; you may want to decrease the size of the markers or use stripplot.\n",
      "  warnings.warn(msg, UserWarning)\n"
     ]
    },
    {
     "data": {
      "image/png": "[encoded data removed]",
      "text/plain": [
       "<Figure size 1152x576 with 1 Axes>"
      ]
     },
     "metadata": {},
     "output_type": "display_data"
    }
   ],
   "source": [
    "#Checking how fare per person distributed among Survived\n",
    "sns.catplot(x=\"Survived\", y=\"Fare_PerPerson\", aspect=2.0, kind=\"swarm\", data=training, height = 8);"
   ]
  },
  {
   "cell_type": "code",
   "execution_count": 56,
   "metadata": {},
   "outputs": [],
   "source": [
    "#Discretizing the fare feature\n",
    "Fare_cat = [\"<$7.73\", \"$7.73 - $8.05\", \"$8.05 - $11.73\", \"$11.73 - $26.55\", \"$26.55 - Max\"]\n",
    "training['Fare_Cut'] = pd.qcut(training['Fare_PerPerson'],5, labels =Fare_cat)"
   ]
  },
  {
   "cell_type": "code",
   "execution_count": 57,
   "metadata": {},
   "outputs": [
    {
     "data": {
      "image/png": "[encoded data removed]",
      "text/plain": [
       "<Figure size 720x360 with 1 Axes>"
      ]
     },
     "metadata": {},
     "output_type": "display_data"
    }
   ],
   "source": [
    "#Plotting the fare cut\n",
    "sns.catplot(x='Fare_Cut',data=training, kind='count', aspect =2.0);"
   ]
  },
  {
   "cell_type": "code",
   "execution_count": 58,
   "metadata": {
    "execution": {
     "iopub.execute_input": "2021-09-21T09:14:36.748096Z",
     "iopub.status.busy": "2021-09-21T09:14:36.747266Z",
     "iopub.status.idle": "2021-09-21T09:14:37.078920Z",
     "shell.execute_reply": "2021-09-21T09:14:37.078407Z",
     "shell.execute_reply.started": "2021-09-21T09:07:46.310737Z"
    },
    "papermill": {
     "duration": 0.452357,
     "end_time": "2021-09-21T09:14:37.079055",
     "exception": false,
     "start_time": "2021-09-21T09:14:36.626698",
     "status": "completed"
    },
    "tags": []
   },
   "outputs": [
    {
     "data": {
      "image/png": "[encoded data removed]",
      "text/plain": [
       "<Figure size 432x288 with 1 Axes>"
      ]
     },
     "metadata": {},
     "output_type": "display_data"
    }
   ],
   "source": [
    "#Checking the fare by category among Survived\n",
    "training.groupby('Fare_Cut')['Survived'].value_counts(normalize=True).unstack('Survived').plot.bar(stacked=True, cmap='Paired');"
   ]
  },
  {
   "cell_type": "code",
   "execution_count": 59,
   "metadata": {
    "execution": {
     "iopub.execute_input": "2021-09-21T09:14:37.246004Z",
     "iopub.status.busy": "2021-09-21T09:14:37.245427Z",
     "iopub.status.idle": "2021-09-21T09:14:37.421389Z",
     "shell.execute_reply": "2021-09-21T09:14:37.421772Z",
     "shell.execute_reply.started": "2021-09-21T09:07:46.735785Z"
    },
    "papermill": {
     "duration": 0.261938,
     "end_time": "2021-09-21T09:14:37.421925",
     "exception": false,
     "start_time": "2021-09-21T09:14:37.159987",
     "status": "completed"
    },
    "tags": []
   },
   "outputs": [
    {
     "data": {
      "image/png": "[encoded data removed]",
      "text/plain": [
       "<Figure size 432x288 with 1 Axes>"
      ]
     },
     "metadata": {},
     "output_type": "display_data"
    }
   ],
   "source": [
    "#Checking the age by category among Survived\n",
    "training.groupby('Age_Cut')['Survived'].value_counts(normalize=True).unstack('Survived').plot.bar(stacked=True, cmap='Paired');"
   ]
  },
  {
   "cell_type": "code",
   "execution_count": 60,
   "metadata": {
    "execution": {
     "iopub.execute_input": "2021-09-21T09:14:37.588142Z",
     "iopub.status.busy": "2021-09-21T09:14:37.587590Z",
     "iopub.status.idle": "2021-09-21T09:14:37.739067Z",
     "shell.execute_reply": "2021-09-21T09:14:37.739458Z",
     "shell.execute_reply.started": "2021-09-21T09:07:46.970111Z"
    },
    "papermill": {
     "duration": 0.235821,
     "end_time": "2021-09-21T09:14:37.739592",
     "exception": false,
     "start_time": "2021-09-21T09:14:37.503771",
     "status": "completed"
    },
    "tags": []
   },
   "outputs": [
    {
     "data": {
      "image/png": "[encoded data removed]",
      "text/plain": [
       "<Figure size 432x288 with 1 Axes>"
      ]
     },
     "metadata": {},
     "output_type": "display_data"
    }
   ],
   "source": [
    "#Checking the class among Survived\n",
    "training.groupby('Pclass')['Survived'].value_counts(normalize=True).unstack('Survived').plot.bar(stacked=True, cmap='Paired');"
   ]
  },
  {
   "cell_type": "code",
   "execution_count": 61,
   "metadata": {
    "execution": {
     "iopub.execute_input": "2021-09-21T09:14:37.911257Z",
     "iopub.status.busy": "2021-09-21T09:14:37.910499Z",
     "iopub.status.idle": "2021-09-21T09:14:38.093204Z",
     "shell.execute_reply": "2021-09-21T09:14:38.093566Z",
     "shell.execute_reply.started": "2021-09-21T09:07:47.187279Z"
    },
    "papermill": {
     "duration": 0.271904,
     "end_time": "2021-09-21T09:14:38.093723",
     "exception": false,
     "start_time": "2021-09-21T09:14:37.821819",
     "status": "completed"
    },
    "tags": []
   },
   "outputs": [
    {
     "data": {
      "image/png": "[encoded data removed]",
      "text/plain": [
       "<Figure size 432x288 with 1 Axes>"
      ]
     },
     "metadata": {},
     "output_type": "display_data"
    }
   ],
   "source": [
    "training.groupby('Sex')['Survived'].value_counts(normalize=True).unstack('Survived').plot.bar(stacked=True, cmap='Paired');"
   ]
  },
  {
   "cell_type": "code",
   "execution_count": 62,
   "metadata": {
    "execution": {
     "iopub.execute_input": "2021-09-21T09:14:38.259592Z",
     "iopub.status.busy": "2021-09-21T09:14:38.258979Z",
     "iopub.status.idle": "2021-09-21T09:14:38.457683Z",
     "shell.execute_reply": "2021-09-21T09:14:38.457248Z",
     "shell.execute_reply.started": "2021-09-21T09:07:47.386753Z"
    },
    "papermill": {
     "duration": 0.282322,
     "end_time": "2021-09-21T09:14:38.457798",
     "exception": false,
     "start_time": "2021-09-21T09:14:38.175476",
     "status": "completed"
    },
    "tags": []
   },
   "outputs": [
    {
     "data": {
      "image/png": "[encoded data removed]",
      "text/plain": [
       "<Figure size 432x288 with 1 Axes>"
      ]
     },
     "metadata": {},
     "output_type": "display_data"
    }
   ],
   "source": [
    "training.groupby('Embarked')['Survived'].value_counts(normalize=True).unstack('Survived').plot.bar(stacked=True, cmap='Paired');"
   ]
  },
  {
   "cell_type": "code",
   "execution_count": 63,
   "metadata": {},
   "outputs": [
    {
     "data": {
      "image/png": "[encoded data removed]",
      "text/plain": [
       "<Figure size 432x288 with 1 Axes>"
      ]
     },
     "metadata": {},
     "output_type": "display_data"
    }
   ],
   "source": [
    "training.groupby('Travel_Alone')['Survived'].value_counts(normalize=True).unstack('Survived').plot.bar(stacked=True, cmap='Paired');"
   ]
  },
  {
   "cell_type": "code",
   "execution_count": 64,
   "metadata": {
    "execution": {
     "iopub.execute_input": "2021-09-21T09:14:38.652020Z",
     "iopub.status.busy": "2021-09-21T09:14:38.628486Z",
     "iopub.status.idle": "2021-09-21T09:14:38.918314Z",
     "shell.execute_reply": "2021-09-21T09:14:38.917378Z",
     "shell.execute_reply.started": "2021-09-21T09:07:47.595312Z"
    },
    "papermill": {
     "duration": 0.378613,
     "end_time": "2021-09-21T09:14:38.918457",
     "exception": false,
     "start_time": "2021-09-21T09:14:38.539844",
     "status": "completed"
    },
    "tags": []
   },
   "outputs": [
    {
     "data": {
      "image/png": "[encoded data removed]",
      "text/plain": [
       "<Figure size 432x288 with 1 Axes>"
      ]
     },
     "metadata": {},
     "output_type": "display_data"
    }
   ],
   "source": [
    "training.groupby('Family_Size')['Survived'].value_counts(normalize=True).unstack('Survived').plot.bar(stacked=True, cmap='Paired');"
   ]
  },
  {
   "cell_type": "code",
   "execution_count": 65,
   "metadata": {
    "execution": {
     "iopub.execute_input": "2021-09-21T09:14:39.137354Z",
     "iopub.status.busy": "2021-09-21T09:14:39.136851Z",
     "iopub.status.idle": "2021-09-21T09:14:39.386060Z",
     "shell.execute_reply": "2021-09-21T09:14:39.385365Z",
     "shell.execute_reply.started": "2021-09-21T09:07:47.892487Z"
    },
    "papermill": {
     "duration": 0.343127,
     "end_time": "2021-09-21T09:14:39.386209",
     "exception": false,
     "start_time": "2021-09-21T09:14:39.043082",
     "status": "completed"
    },
    "tags": []
   },
   "outputs": [
    {
     "data": {
      "image/png": "[encoded data removed]",
      "text/plain": [
       "<Figure size 432x288 with 1 Axes>"
      ]
     },
     "metadata": {},
     "output_type": "display_data"
    }
   ],
   "source": [
    "training.groupby('Title')['Survived'].value_counts(normalize=True).unstack('Survived').plot.bar(stacked=True, cmap='Paired');"
   ]
  },
  {
   "cell_type": "code",
   "execution_count": 66,
   "metadata": {
    "execution": {
     "iopub.execute_input": "2021-09-21T09:14:39.643156Z",
     "iopub.status.busy": "2021-09-21T09:14:39.642476Z",
     "iopub.status.idle": "2021-09-21T09:14:39.894887Z",
     "shell.execute_reply": "2021-09-21T09:14:39.894190Z",
     "shell.execute_reply.started": "2021-09-21T09:07:48.154554Z"
    },
    "papermill": {
     "duration": 0.383124,
     "end_time": "2021-09-21T09:14:39.895029",
     "exception": false,
     "start_time": "2021-09-21T09:14:39.511905",
     "status": "completed"
    },
    "tags": []
   },
   "outputs": [
    {
     "data": {
      "image/png": "[encoded data removed]",
      "text/plain": [
       "<Figure size 432x288 with 1 Axes>"
      ]
     },
     "metadata": {},
     "output_type": "display_data"
    }
   ],
   "source": [
    "training.groupby('Ticket_Count')['Survived'].value_counts(normalize=True).unstack('Survived').plot.bar(stacked=True, cmap='Paired');"
   ]
  },
  {
   "cell_type": "code",
   "execution_count": 67,
   "metadata": {
    "execution": {
     "iopub.execute_input": "2021-09-21T09:14:40.153030Z",
     "iopub.status.busy": "2021-09-21T09:14:40.152369Z",
     "iopub.status.idle": "2021-09-21T09:14:40.403734Z",
     "shell.execute_reply": "2021-09-21T09:14:40.404218Z",
     "shell.execute_reply.started": "2021-09-21T09:07:48.427254Z"
    },
    "papermill": {
     "duration": 0.383731,
     "end_time": "2021-09-21T09:14:40.404392",
     "exception": false,
     "start_time": "2021-09-21T09:14:40.020661",
     "status": "completed"
    },
    "tags": []
   },
   "outputs": [
    {
     "data": {
      "image/png": "[encoded data removed]",
      "text/plain": [
       "<Figure size 432x288 with 1 Axes>"
      ]
     },
     "metadata": {},
     "output_type": "display_data"
    }
   ],
   "source": [
    "training.groupby('Deck')['Survived'].value_counts(normalize=True).unstack('Survived').plot.bar(stacked=True, cmap='Paired');"
   ]
  },
  {
   "cell_type": "code",
   "execution_count": 68,
   "metadata": {
    "execution": {
     "iopub.execute_input": "2021-09-21T09:14:40.663939Z",
     "iopub.status.busy": "2021-09-21T09:14:40.663249Z",
     "iopub.status.idle": "2021-09-21T09:14:40.684072Z",
     "shell.execute_reply": "2021-09-21T09:14:40.683481Z",
     "shell.execute_reply.started": "2021-09-21T09:07:48.710541Z"
    },
    "papermill": {
     "duration": 0.153259,
     "end_time": "2021-09-21T09:14:40.684219",
     "exception": false,
     "start_time": "2021-09-21T09:14:40.530960",
     "status": "completed"
    },
    "tags": []
   },
   "outputs": [
    {
     "data": {
      "text/html": [
       "<div>\n",
       "<style scoped>\n",
       "    .dataframe tbody tr th:only-of-type {\n",
       "        vertical-align: middle;\n",
       "    }\n",
       "\n",
       "    .dataframe tbody tr th {\n",
       "        vertical-align: top;\n",
       "    }\n",
       "\n",
       "    .dataframe thead th {\n",
       "        text-align: right;\n",
       "    }\n",
       "</style>\n",
       "<table border=\"1\" class=\"dataframe\">\n",
       "  <thead>\n",
       "    <tr style=\"text-align: right;\">\n",
       "      <th>Survived</th>\n",
       "      <th>0</th>\n",
       "      <th>1</th>\n",
       "    </tr>\n",
       "    <tr>\n",
       "      <th>Sex</th>\n",
       "      <th></th>\n",
       "      <th></th>\n",
       "    </tr>\n",
       "  </thead>\n",
       "  <tbody>\n",
       "    <tr>\n",
       "      <th>female</th>\n",
       "      <td>81</td>\n",
       "      <td>233</td>\n",
       "    </tr>\n",
       "    <tr>\n",
       "      <th>male</th>\n",
       "      <td>468</td>\n",
       "      <td>109</td>\n",
       "    </tr>\n",
       "  </tbody>\n",
       "</table>\n",
       "</div>"
      ],
      "text/plain": [
       "Survived    0    1\n",
       "Sex               \n",
       "female     81  233\n",
       "male      468  109"
      ]
     },
     "execution_count": 68,
     "metadata": {},
     "output_type": "execute_result"
    }
   ],
   "source": [
    "crosstab = pd.crosstab(training['Sex'], training[\"Survived\"])\n",
    "crosstab"
   ]
  },
  {
   "cell_type": "code",
   "execution_count": 69,
   "metadata": {
    "execution": {
     "iopub.execute_input": "2021-09-21T09:14:40.944305Z",
     "iopub.status.busy": "2021-09-21T09:14:40.941226Z",
     "iopub.status.idle": "2021-09-21T09:14:40.947895Z",
     "shell.execute_reply": "2021-09-21T09:14:40.947343Z",
     "shell.execute_reply.started": "2021-09-21T09:07:48.739175Z"
    },
    "papermill": {
     "duration": 0.134975,
     "end_time": "2021-09-21T09:14:40.948024",
     "exception": false,
     "start_time": "2021-09-21T09:14:40.813049",
     "status": "completed"
    },
    "tags": []
   },
   "outputs": [
    {
     "data": {
      "text/plain": [
       "(260.71702016732104,\n",
       " 1.1973570627755645e-58,\n",
       " 1,\n",
       " array([[193.47474747, 120.52525253],\n",
       "        [355.52525253, 221.47474747]]))"
      ]
     },
     "execution_count": 69,
     "metadata": {},
     "output_type": "execute_result"
    }
   ],
   "source": [
    "stats.chi2_contingency(crosstab)"
   ]
  },
  {
   "cell_type": "markdown",
   "metadata": {
    "execution": {
     "iopub.execute_input": "2021-09-17T20:21:03.729634Z",
     "iopub.status.busy": "2021-09-17T20:21:03.729283Z",
     "iopub.status.idle": "2021-09-17T20:21:03.733932Z",
     "shell.execute_reply": "2021-09-17T20:21:03.732781Z",
     "shell.execute_reply.started": "2021-09-17T20:21:03.729601Z"
    },
    "papermill": {
     "duration": 0.12611,
     "end_time": "2021-09-21T09:14:41.200222",
     "exception": false,
     "start_time": "2021-09-21T09:14:41.074112",
     "status": "completed"
    },
    "tags": []
   },
   "source": [
    "## 5c. Multivariate"
   ]
  },
  {
   "cell_type": "code",
   "execution_count": 70,
   "metadata": {
    "execution": {
     "iopub.execute_input": "2021-09-21T09:14:41.485253Z",
     "iopub.status.busy": "2021-09-21T09:14:41.484767Z",
     "iopub.status.idle": "2021-09-21T09:14:41.498325Z",
     "shell.execute_reply": "2021-09-21T09:14:41.497633Z",
     "shell.execute_reply.started": "2021-09-21T09:07:48.748326Z"
    },
    "papermill": {
     "duration": 0.172272,
     "end_time": "2021-09-21T09:14:41.498467",
     "exception": false,
     "start_time": "2021-09-21T09:14:41.326195",
     "status": "completed"
    },
    "tags": []
   },
   "outputs": [
    {
     "data": {
      "text/html": [
       "<div>\n",
       "<style scoped>\n",
       "    .dataframe tbody tr th:only-of-type {\n",
       "        vertical-align: middle;\n",
       "    }\n",
       "\n",
       "    .dataframe tbody tr th {\n",
       "        vertical-align: top;\n",
       "    }\n",
       "\n",
       "    .dataframe thead tr th {\n",
       "        text-align: left;\n",
       "    }\n",
       "\n",
       "    .dataframe thead tr:last-of-type th {\n",
       "        text-align: right;\n",
       "    }\n",
       "</style>\n",
       "<table border=\"1\" class=\"dataframe\">\n",
       "  <thead>\n",
       "    <tr>\n",
       "      <th></th>\n",
       "      <th colspan=\"3\" halign=\"left\">Fares_Per_Passengers</th>\n",
       "    </tr>\n",
       "    <tr>\n",
       "      <th>Pclass</th>\n",
       "      <th>1</th>\n",
       "      <th>2</th>\n",
       "      <th>3</th>\n",
       "    </tr>\n",
       "    <tr>\n",
       "      <th>Sex</th>\n",
       "      <th></th>\n",
       "      <th></th>\n",
       "      <th></th>\n",
       "    </tr>\n",
       "  </thead>\n",
       "  <tbody>\n",
       "    <tr>\n",
       "      <th>female</th>\n",
       "      <td>47.536636</td>\n",
       "      <td>14.628354</td>\n",
       "      <td>8.112689</td>\n",
       "    </tr>\n",
       "    <tr>\n",
       "      <th>male</th>\n",
       "      <td>40.655993</td>\n",
       "      <td>12.403735</td>\n",
       "      <td>8.074722</td>\n",
       "    </tr>\n",
       "  </tbody>\n",
       "</table>\n",
       "</div>"
      ],
      "text/plain": [
       "       Fares_Per_Passengers                     \n",
       "Pclass                    1          2         3\n",
       "Sex                                             \n",
       "female            47.536636  14.628354  8.112689\n",
       "male              40.655993  12.403735  8.074722"
      ]
     },
     "execution_count": 70,
     "metadata": {},
     "output_type": "execute_result"
    }
   ],
   "source": [
    "training.groupby(['Sex','Pclass']).agg(Fares_Per_Passengers= ('Fare_PerPerson', 'mean')).unstack('Pclass')"
   ]
  },
  {
   "cell_type": "code",
   "execution_count": 71,
   "metadata": {
    "execution": {
     "iopub.execute_input": "2021-09-21T09:14:41.760906Z",
     "iopub.status.busy": "2021-09-21T09:14:41.760216Z",
     "iopub.status.idle": "2021-09-21T09:14:42.048134Z",
     "shell.execute_reply": "2021-09-21T09:14:42.048644Z",
     "shell.execute_reply.started": "2021-09-21T09:07:48.785679Z"
    },
    "papermill": {
     "duration": 0.422112,
     "end_time": "2021-09-21T09:14:42.048820",
     "exception": false,
     "start_time": "2021-09-21T09:14:41.626708",
     "status": "completed"
    },
    "tags": []
   },
   "outputs": [
    {
     "data": {
      "image/png": "[encoded data removed]",
      "text/plain": [
       "<Figure size 432x288 with 1 Axes>"
      ]
     },
     "metadata": {},
     "output_type": "display_data"
    }
   ],
   "source": [
    "sns.boxplot(x = 'Pclass', y='Fare_PerPerson', hue='Survived', data=training);"
   ]
  },
  {
   "cell_type": "code",
   "execution_count": 72,
   "metadata": {
    "execution": {
     "iopub.execute_input": "2021-09-21T09:14:42.311800Z",
     "iopub.status.busy": "2021-09-21T09:14:42.311128Z",
     "iopub.status.idle": "2021-09-21T09:14:42.572999Z",
     "shell.execute_reply": "2021-09-21T09:14:42.573502Z",
     "shell.execute_reply.started": "2021-09-21T09:07:49.080969Z"
    },
    "papermill": {
     "duration": 0.394288,
     "end_time": "2021-09-21T09:14:42.573724",
     "exception": false,
     "start_time": "2021-09-21T09:14:42.179436",
     "status": "completed"
    },
    "tags": []
   },
   "outputs": [
    {
     "data": {
      "image/png": "[encoded data removed]",
      "text/plain": [
       "<Figure size 432x288 with 1 Axes>"
      ]
     },
     "metadata": {},
     "output_type": "display_data"
    }
   ],
   "source": [
    "training.groupby(['Sex','Pclass'])['Survived'].value_counts(normalize=True).unstack('Survived').plot.bar(stacked=True, cmap='Accent');"
   ]
  },
  {
   "cell_type": "code",
   "execution_count": 73,
   "metadata": {
    "execution": {
     "iopub.execute_input": "2021-09-21T09:14:42.839489Z",
     "iopub.status.busy": "2021-09-21T09:14:42.838784Z",
     "iopub.status.idle": "2021-09-21T09:14:43.235761Z",
     "shell.execute_reply": "2021-09-21T09:14:43.235250Z",
     "shell.execute_reply.started": "2021-09-21T09:07:49.351677Z"
    },
    "papermill": {
     "duration": 0.530962,
     "end_time": "2021-09-21T09:14:43.235870",
     "exception": false,
     "start_time": "2021-09-21T09:14:42.704908",
     "status": "completed"
    },
    "tags": []
   },
   "outputs": [
    {
     "data": {
      "image/png": "[encoded data removed]",
      "text/plain": [
       "<Figure size 432x288 with 1 Axes>"
      ]
     },
     "metadata": {},
     "output_type": "display_data"
    }
   ],
   "source": [
    "training.groupby(['Sex','Age_Cut'])['Survived'].value_counts(normalize=True).unstack('Survived').plot.bar(stacked=True, cmap='Accent');"
   ]
  },
  {
   "cell_type": "code",
   "execution_count": 74,
   "metadata": {
    "scrolled": true
   },
   "outputs": [
    {
     "data": {
      "image/png": "[encoded data removed]",
      "text/plain": [
       "<Figure size 432x288 with 1 Axes>"
      ]
     },
     "metadata": {},
     "output_type": "display_data"
    }
   ],
   "source": [
    "training.groupby(['Sex','Embarked'])['Survived'].value_counts(normalize=True).unstack('Survived').plot.bar(stacked=True, cmap='Accent');"
   ]
  },
  {
   "cell_type": "code",
   "execution_count": 75,
   "metadata": {},
   "outputs": [
    {
     "data": {
      "image/png": "[encoded data removed]",
      "text/plain": [
       "<Figure size 432x288 with 1 Axes>"
      ]
     },
     "metadata": {},
     "output_type": "display_data"
    }
   ],
   "source": [
    "training.groupby(['Pclass','Sex'])['Survived'].value_counts(normalize=True).unstack('Survived').plot.bar(stacked=True, cmap='Accent');"
   ]
  },
  {
   "cell_type": "code",
   "execution_count": 76,
   "metadata": {},
   "outputs": [
    {
     "data": {
      "image/png": "[encoded data removed]",
      "text/plain": [
       "<Figure size 432x288 with 1 Axes>"
      ]
     },
     "metadata": {},
     "output_type": "display_data"
    }
   ],
   "source": [
    "training.groupby(['Sex','Family_Size'])['Survived'].value_counts(normalize=True).unstack('Survived').plot.bar(stacked=True, cmap='Accent');"
   ]
  },
  {
   "cell_type": "code",
   "execution_count": 77,
   "metadata": {},
   "outputs": [
    {
     "data": {
      "image/png": "[encoded data removed]",
      "text/plain": [
       "<Figure size 432x288 with 1 Axes>"
      ]
     },
     "metadata": {},
     "output_type": "display_data"
    }
   ],
   "source": [
    "training.groupby(['Sex','Travel_Alone'])['Survived'].value_counts(normalize=True).unstack('Survived').plot.bar(stacked=True, cmap='Accent');"
   ]
  },
  {
   "cell_type": "code",
   "execution_count": 78,
   "metadata": {},
   "outputs": [
    {
     "data": {
      "image/png": "[encoded data removed]",
      "text/plain": [
       "<Figure size 432x288 with 1 Axes>"
      ]
     },
     "metadata": {},
     "output_type": "display_data"
    }
   ],
   "source": [
    "training.groupby(['Sex','Deck'])['Survived'].value_counts(normalize=True).unstack('Survived').plot.bar(stacked=True, cmap='Accent');"
   ]
  },
  {
   "cell_type": "markdown",
   "metadata": {
    "papermill": {
     "duration": 0.08978,
     "end_time": "2021-09-21T09:14:43.627524",
     "exception": false,
     "start_time": "2021-09-21T09:14:43.537744",
     "status": "completed"
    },
    "tags": []
   },
   "source": [
    "# 6. Data Preparation for Machine Learning"
   ]
  },
  {
   "cell_type": "markdown",
   "metadata": {},
   "source": [
    "## 6a. Checking all available features for training set"
   ]
  },
  {
   "cell_type": "code",
   "execution_count": 79,
   "metadata": {
    "execution": {
     "iopub.execute_input": "2021-09-21T09:14:44.004397Z",
     "iopub.status.busy": "2021-09-21T09:14:44.003914Z",
     "iopub.status.idle": "2021-09-21T09:14:44.007269Z",
     "shell.execute_reply": "2021-09-21T09:14:44.006806Z",
     "shell.execute_reply.started": "2021-09-21T09:07:49.814516Z"
    },
    "papermill": {
     "duration": 0.104287,
     "end_time": "2021-09-21T09:14:44.007388",
     "exception": false,
     "start_time": "2021-09-21T09:14:43.903101",
     "status": "completed"
    },
    "tags": []
   },
   "outputs": [
    {
     "data": {
      "text/plain": [
       "Index(['PassengerId', 'Survived', 'Pclass', 'Name', 'Sex', 'Age', 'SibSp',\n",
       "       'Parch', 'Ticket', 'Fare', 'Cabin', 'Embarked', 'Family_Size', 'Title',\n",
       "       'Ticket_Count', 'Fare_PerPerson', 'Age_Mean', 'Age_Median',\n",
       "       'Age_Random', 'Deck', 'Travel_Alone', 'Age_Cut', 'Fare_Cut'],\n",
       "      dtype='object')"
      ]
     },
     "execution_count": 79,
     "metadata": {},
     "output_type": "execute_result"
    }
   ],
   "source": [
    "#Checking all the available features\n",
    "training.columns"
   ]
  },
  {
   "cell_type": "code",
   "execution_count": 80,
   "metadata": {},
   "outputs": [
    {
     "data": {
      "text/plain": [
       "PassengerId          int64\n",
       "Survived             int64\n",
       "Pclass               int64\n",
       "Name                object\n",
       "Sex                 object\n",
       "Age                float64\n",
       "SibSp                int64\n",
       "Parch                int64\n",
       "Ticket              object\n",
       "Fare               float64\n",
       "Cabin               object\n",
       "Embarked            object\n",
       "Family_Size          int64\n",
       "Title               object\n",
       "Ticket_Count         int64\n",
       "Fare_PerPerson     float64\n",
       "Age_Mean           float64\n",
       "Age_Median         float64\n",
       "Age_Random         float64\n",
       "Deck                object\n",
       "Travel_Alone        object\n",
       "Age_Cut           category\n",
       "Fare_Cut          category\n",
       "dtype: object"
      ]
     },
     "execution_count": 80,
     "metadata": {},
     "output_type": "execute_result"
    }
   ],
   "source": [
    "training.dtypes"
   ]
  },
  {
   "cell_type": "code",
   "execution_count": 81,
   "metadata": {},
   "outputs": [],
   "source": [
    "#Select features to be used for machine learning algorithm\n",
    "df_train = training[['Survived','Pclass','Sex','Age_Cut','Family_Size',\"Title\",'Fare_PerPerson','Embarked']]"
   ]
  },
  {
   "cell_type": "code",
   "execution_count": 196,
   "metadata": {},
   "outputs": [
    {
     "data": {
      "text/plain": [
       "Survived                  int64\n",
       "Pclass                    int64\n",
       "Age_Cut                   int32\n",
       "Family_Size               int64\n",
       "female                  float64\n",
       "male                    float64\n",
       "Master                  float64\n",
       "Misc_Female             float64\n",
       "Misc_Male               float64\n",
       "Miss                    float64\n",
       "Mr                      float64\n",
       "Mrs                     float64\n",
       "C                       float64\n",
       "Q                       float64\n",
       "S                       float64\n",
       "Fare_PerPerson_scale    float64\n",
       "dtype: object"
      ]
     },
     "execution_count": 196,
     "metadata": {},
     "output_type": "execute_result"
    }
   ],
   "source": [
    "df_train.dtypes"
   ]
  },
  {
   "cell_type": "code",
   "execution_count": 82,
   "metadata": {},
   "outputs": [
    {
     "data": {
      "text/html": [
       "<div>\n",
       "<style scoped>\n",
       "    .dataframe tbody tr th:only-of-type {\n",
       "        vertical-align: middle;\n",
       "    }\n",
       "\n",
       "    .dataframe tbody tr th {\n",
       "        vertical-align: top;\n",
       "    }\n",
       "\n",
       "    .dataframe thead th {\n",
       "        text-align: right;\n",
       "    }\n",
       "</style>\n",
       "<table border=\"1\" class=\"dataframe\">\n",
       "  <thead>\n",
       "    <tr style=\"text-align: right;\">\n",
       "      <th></th>\n",
       "      <th>Survived</th>\n",
       "      <th>Pclass</th>\n",
       "      <th>Sex</th>\n",
       "      <th>Age_Cut</th>\n",
       "      <th>Family_Size</th>\n",
       "      <th>Title</th>\n",
       "      <th>Fare_PerPerson</th>\n",
       "      <th>Embarked</th>\n",
       "    </tr>\n",
       "  </thead>\n",
       "  <tbody>\n",
       "    <tr>\n",
       "      <th>0</th>\n",
       "      <td>0</td>\n",
       "      <td>3</td>\n",
       "      <td>male</td>\n",
       "      <td>Young Adult</td>\n",
       "      <td>1</td>\n",
       "      <td>Mr</td>\n",
       "      <td>7.2500</td>\n",
       "      <td>S</td>\n",
       "    </tr>\n",
       "    <tr>\n",
       "      <th>1</th>\n",
       "      <td>1</td>\n",
       "      <td>1</td>\n",
       "      <td>female</td>\n",
       "      <td>Adult</td>\n",
       "      <td>1</td>\n",
       "      <td>Mrs</td>\n",
       "      <td>71.2833</td>\n",
       "      <td>C</td>\n",
       "    </tr>\n",
       "    <tr>\n",
       "      <th>2</th>\n",
       "      <td>1</td>\n",
       "      <td>3</td>\n",
       "      <td>female</td>\n",
       "      <td>Young Adult</td>\n",
       "      <td>0</td>\n",
       "      <td>Miss</td>\n",
       "      <td>7.9250</td>\n",
       "      <td>S</td>\n",
       "    </tr>\n",
       "  </tbody>\n",
       "</table>\n",
       "</div>"
      ],
      "text/plain": [
       "   Survived  Pclass     Sex      Age_Cut  Family_Size Title  Fare_PerPerson  \\\n",
       "0         0       3    male  Young Adult            1    Mr          7.2500   \n",
       "1         1       1  female        Adult            1   Mrs         71.2833   \n",
       "2         1       3  female  Young Adult            0  Miss          7.9250   \n",
       "\n",
       "  Embarked  \n",
       "0        S  \n",
       "1        C  \n",
       "2        S  "
      ]
     },
     "execution_count": 82,
     "metadata": {},
     "output_type": "execute_result"
    }
   ],
   "source": [
    "df_train.head(3)"
   ]
  },
  {
   "cell_type": "markdown",
   "metadata": {},
   "source": [
    "## 6b. Encoding and Scaling the training set"
   ]
  },
  {
   "cell_type": "markdown",
   "metadata": {},
   "source": [
    "We will be performing the following preprocessing\n",
    "\n",
    "1. One Hot Encoding: Sex and Title\n",
    "2. Label Encoder: Age Cut\n",
    "3. Robust Scaler: Fare_Per_Person"
   ]
  },
  {
   "cell_type": "markdown",
   "metadata": {},
   "source": [
    "#### Onehot Encoder"
   ]
  },
  {
   "cell_type": "code",
   "execution_count": 83,
   "metadata": {},
   "outputs": [],
   "source": [
    "#Transforming the categorical feature\n",
    "ohe = OneHotEncoder(sparse = False)\n",
    "encoded = ohe.fit_transform(df_train[['Sex','Title','Embarked']])"
   ]
  },
  {
   "cell_type": "code",
   "execution_count": 84,
   "metadata": {},
   "outputs": [
    {
     "data": {
      "text/plain": [
       "[array(['female', 'male'], dtype=object),\n",
       " array(['Master', 'Misc_Female', 'Misc_Male', 'Miss', 'Mr', 'Mrs'],\n",
       "       dtype=object),\n",
       " array(['C', 'Q', 'S'], dtype=object)]"
      ]
     },
     "execution_count": 84,
     "metadata": {},
     "output_type": "execute_result"
    }
   ],
   "source": [
    "#Checking the array catagories\n",
    "ohe.categories_"
   ]
  },
  {
   "cell_type": "code",
   "execution_count": 85,
   "metadata": {},
   "outputs": [
    {
     "data": {
      "text/plain": [
       "array([[0., 1., 0., ..., 0., 0., 1.],\n",
       "       [1., 0., 0., ..., 1., 0., 0.],\n",
       "       [1., 0., 0., ..., 0., 0., 1.],\n",
       "       ...,\n",
       "       [1., 0., 0., ..., 0., 0., 1.],\n",
       "       [0., 1., 0., ..., 1., 0., 0.],\n",
       "       [0., 1., 0., ..., 0., 1., 0.]])"
      ]
     },
     "execution_count": 85,
     "metadata": {},
     "output_type": "execute_result"
    }
   ],
   "source": [
    "encoded"
   ]
  },
  {
   "cell_type": "code",
   "execution_count": 86,
   "metadata": {},
   "outputs": [],
   "source": [
    "#converting the encoded to data frame\n",
    "column = ['female', 'male','Master', 'Misc_Female', 'Misc_Male', 'Miss', 'Mr', 'Mrs','C', 'Q', 'S']\n",
    "a = pd.DataFrame(encoded, columns=column)"
   ]
  },
  {
   "cell_type": "code",
   "execution_count": 87,
   "metadata": {},
   "outputs": [],
   "source": [
    "#merge the two dataframe\n",
    "df_train = df_train.join(a)"
   ]
  },
  {
   "cell_type": "code",
   "execution_count": 88,
   "metadata": {},
   "outputs": [
    {
     "data": {
      "text/html": [
       "<div>\n",
       "<style scoped>\n",
       "    .dataframe tbody tr th:only-of-type {\n",
       "        vertical-align: middle;\n",
       "    }\n",
       "\n",
       "    .dataframe tbody tr th {\n",
       "        vertical-align: top;\n",
       "    }\n",
       "\n",
       "    .dataframe thead th {\n",
       "        text-align: right;\n",
       "    }\n",
       "</style>\n",
       "<table border=\"1\" class=\"dataframe\">\n",
       "  <thead>\n",
       "    <tr style=\"text-align: right;\">\n",
       "      <th></th>\n",
       "      <th>Survived</th>\n",
       "      <th>Pclass</th>\n",
       "      <th>Sex</th>\n",
       "      <th>Age_Cut</th>\n",
       "      <th>Family_Size</th>\n",
       "      <th>Title</th>\n",
       "      <th>Fare_PerPerson</th>\n",
       "      <th>Embarked</th>\n",
       "      <th>female</th>\n",
       "      <th>male</th>\n",
       "      <th>Master</th>\n",
       "      <th>Misc_Female</th>\n",
       "      <th>Misc_Male</th>\n",
       "      <th>Miss</th>\n",
       "      <th>Mr</th>\n",
       "      <th>Mrs</th>\n",
       "      <th>C</th>\n",
       "      <th>Q</th>\n",
       "      <th>S</th>\n",
       "    </tr>\n",
       "  </thead>\n",
       "  <tbody>\n",
       "    <tr>\n",
       "      <th>0</th>\n",
       "      <td>0</td>\n",
       "      <td>3</td>\n",
       "      <td>male</td>\n",
       "      <td>Young Adult</td>\n",
       "      <td>1</td>\n",
       "      <td>Mr</td>\n",
       "      <td>7.2500</td>\n",
       "      <td>S</td>\n",
       "      <td>0.0</td>\n",
       "      <td>1.0</td>\n",
       "      <td>0.0</td>\n",
       "      <td>0.0</td>\n",
       "      <td>0.0</td>\n",
       "      <td>0.0</td>\n",
       "      <td>1.0</td>\n",
       "      <td>0.0</td>\n",
       "      <td>0.0</td>\n",
       "      <td>0.0</td>\n",
       "      <td>1.0</td>\n",
       "    </tr>\n",
       "    <tr>\n",
       "      <th>1</th>\n",
       "      <td>1</td>\n",
       "      <td>1</td>\n",
       "      <td>female</td>\n",
       "      <td>Adult</td>\n",
       "      <td>1</td>\n",
       "      <td>Mrs</td>\n",
       "      <td>71.2833</td>\n",
       "      <td>C</td>\n",
       "      <td>1.0</td>\n",
       "      <td>0.0</td>\n",
       "      <td>0.0</td>\n",
       "      <td>0.0</td>\n",
       "      <td>0.0</td>\n",
       "      <td>0.0</td>\n",
       "      <td>0.0</td>\n",
       "      <td>1.0</td>\n",
       "      <td>1.0</td>\n",
       "      <td>0.0</td>\n",
       "      <td>0.0</td>\n",
       "    </tr>\n",
       "    <tr>\n",
       "      <th>2</th>\n",
       "      <td>1</td>\n",
       "      <td>3</td>\n",
       "      <td>female</td>\n",
       "      <td>Young Adult</td>\n",
       "      <td>0</td>\n",
       "      <td>Miss</td>\n",
       "      <td>7.9250</td>\n",
       "      <td>S</td>\n",
       "      <td>1.0</td>\n",
       "      <td>0.0</td>\n",
       "      <td>0.0</td>\n",
       "      <td>0.0</td>\n",
       "      <td>0.0</td>\n",
       "      <td>1.0</td>\n",
       "      <td>0.0</td>\n",
       "      <td>0.0</td>\n",
       "      <td>0.0</td>\n",
       "      <td>0.0</td>\n",
       "      <td>1.0</td>\n",
       "    </tr>\n",
       "  </tbody>\n",
       "</table>\n",
       "</div>"
      ],
      "text/plain": [
       "   Survived  Pclass     Sex      Age_Cut  Family_Size Title  Fare_PerPerson  \\\n",
       "0         0       3    male  Young Adult            1    Mr          7.2500   \n",
       "1         1       1  female        Adult            1   Mrs         71.2833   \n",
       "2         1       3  female  Young Adult            0  Miss          7.9250   \n",
       "\n",
       "  Embarked  female  male  Master  Misc_Female  Misc_Male  Miss   Mr  Mrs    C  \\\n",
       "0        S     0.0   1.0     0.0          0.0        0.0   0.0  1.0  0.0  0.0   \n",
       "1        C     1.0   0.0     0.0          0.0        0.0   0.0  0.0  1.0  1.0   \n",
       "2        S     1.0   0.0     0.0          0.0        0.0   1.0  0.0  0.0  0.0   \n",
       "\n",
       "     Q    S  \n",
       "0  0.0  1.0  \n",
       "1  0.0  0.0  \n",
       "2  0.0  1.0  "
      ]
     },
     "execution_count": 88,
     "metadata": {},
     "output_type": "execute_result"
    }
   ],
   "source": [
    "df_train.head(3)"
   ]
  },
  {
   "cell_type": "code",
   "execution_count": 89,
   "metadata": {},
   "outputs": [],
   "source": [
    "#Dropping all unused features\n",
    "df_train.drop(['Sex','Title','Embarked'], axis =1, inplace = True)"
   ]
  },
  {
   "cell_type": "code",
   "execution_count": 90,
   "metadata": {},
   "outputs": [
    {
     "data": {
      "text/html": [
       "<div>\n",
       "<style scoped>\n",
       "    .dataframe tbody tr th:only-of-type {\n",
       "        vertical-align: middle;\n",
       "    }\n",
       "\n",
       "    .dataframe tbody tr th {\n",
       "        vertical-align: top;\n",
       "    }\n",
       "\n",
       "    .dataframe thead th {\n",
       "        text-align: right;\n",
       "    }\n",
       "</style>\n",
       "<table border=\"1\" class=\"dataframe\">\n",
       "  <thead>\n",
       "    <tr style=\"text-align: right;\">\n",
       "      <th></th>\n",
       "      <th>Survived</th>\n",
       "      <th>Pclass</th>\n",
       "      <th>Age_Cut</th>\n",
       "      <th>Family_Size</th>\n",
       "      <th>Fare_PerPerson</th>\n",
       "      <th>female</th>\n",
       "      <th>male</th>\n",
       "      <th>Master</th>\n",
       "      <th>Misc_Female</th>\n",
       "      <th>Misc_Male</th>\n",
       "      <th>Miss</th>\n",
       "      <th>Mr</th>\n",
       "      <th>Mrs</th>\n",
       "      <th>C</th>\n",
       "      <th>Q</th>\n",
       "      <th>S</th>\n",
       "    </tr>\n",
       "  </thead>\n",
       "  <tbody>\n",
       "    <tr>\n",
       "      <th>0</th>\n",
       "      <td>0</td>\n",
       "      <td>3</td>\n",
       "      <td>Young Adult</td>\n",
       "      <td>1</td>\n",
       "      <td>7.2500</td>\n",
       "      <td>0.0</td>\n",
       "      <td>1.0</td>\n",
       "      <td>0.0</td>\n",
       "      <td>0.0</td>\n",
       "      <td>0.0</td>\n",
       "      <td>0.0</td>\n",
       "      <td>1.0</td>\n",
       "      <td>0.0</td>\n",
       "      <td>0.0</td>\n",
       "      <td>0.0</td>\n",
       "      <td>1.0</td>\n",
       "    </tr>\n",
       "    <tr>\n",
       "      <th>1</th>\n",
       "      <td>1</td>\n",
       "      <td>1</td>\n",
       "      <td>Adult</td>\n",
       "      <td>1</td>\n",
       "      <td>71.2833</td>\n",
       "      <td>1.0</td>\n",
       "      <td>0.0</td>\n",
       "      <td>0.0</td>\n",
       "      <td>0.0</td>\n",
       "      <td>0.0</td>\n",
       "      <td>0.0</td>\n",
       "      <td>0.0</td>\n",
       "      <td>1.0</td>\n",
       "      <td>1.0</td>\n",
       "      <td>0.0</td>\n",
       "      <td>0.0</td>\n",
       "    </tr>\n",
       "    <tr>\n",
       "      <th>2</th>\n",
       "      <td>1</td>\n",
       "      <td>3</td>\n",
       "      <td>Young Adult</td>\n",
       "      <td>0</td>\n",
       "      <td>7.9250</td>\n",
       "      <td>1.0</td>\n",
       "      <td>0.0</td>\n",
       "      <td>0.0</td>\n",
       "      <td>0.0</td>\n",
       "      <td>0.0</td>\n",
       "      <td>1.0</td>\n",
       "      <td>0.0</td>\n",
       "      <td>0.0</td>\n",
       "      <td>0.0</td>\n",
       "      <td>0.0</td>\n",
       "      <td>1.0</td>\n",
       "    </tr>\n",
       "  </tbody>\n",
       "</table>\n",
       "</div>"
      ],
      "text/plain": [
       "   Survived  Pclass      Age_Cut  Family_Size  Fare_PerPerson  female  male  \\\n",
       "0         0       3  Young Adult            1          7.2500     0.0   1.0   \n",
       "1         1       1        Adult            1         71.2833     1.0   0.0   \n",
       "2         1       3  Young Adult            0          7.9250     1.0   0.0   \n",
       "\n",
       "   Master  Misc_Female  Misc_Male  Miss   Mr  Mrs    C    Q    S  \n",
       "0     0.0          0.0        0.0   0.0  1.0  0.0  0.0  0.0  1.0  \n",
       "1     0.0          0.0        0.0   0.0  0.0  1.0  1.0  0.0  0.0  \n",
       "2     0.0          0.0        0.0   1.0  0.0  0.0  0.0  0.0  1.0  "
      ]
     },
     "execution_count": 90,
     "metadata": {},
     "output_type": "execute_result"
    }
   ],
   "source": [
    "df_train.head(3)"
   ]
  },
  {
   "cell_type": "markdown",
   "metadata": {},
   "source": [
    "#### Label Encoder"
   ]
  },
  {
   "cell_type": "code",
   "execution_count": 91,
   "metadata": {},
   "outputs": [],
   "source": [
    "df_train.Age_Cut = LabelEncoder().fit_transform(df_train.Age_Cut)"
   ]
  },
  {
   "cell_type": "code",
   "execution_count": 92,
   "metadata": {},
   "outputs": [
    {
     "data": {
      "text/html": [
       "<div>\n",
       "<style scoped>\n",
       "    .dataframe tbody tr th:only-of-type {\n",
       "        vertical-align: middle;\n",
       "    }\n",
       "\n",
       "    .dataframe tbody tr th {\n",
       "        vertical-align: top;\n",
       "    }\n",
       "\n",
       "    .dataframe thead th {\n",
       "        text-align: right;\n",
       "    }\n",
       "</style>\n",
       "<table border=\"1\" class=\"dataframe\">\n",
       "  <thead>\n",
       "    <tr style=\"text-align: right;\">\n",
       "      <th></th>\n",
       "      <th>Survived</th>\n",
       "      <th>Pclass</th>\n",
       "      <th>Age_Cut</th>\n",
       "      <th>Family_Size</th>\n",
       "      <th>Fare_PerPerson</th>\n",
       "      <th>female</th>\n",
       "      <th>male</th>\n",
       "      <th>Master</th>\n",
       "      <th>Misc_Female</th>\n",
       "      <th>Misc_Male</th>\n",
       "      <th>Miss</th>\n",
       "      <th>Mr</th>\n",
       "      <th>Mrs</th>\n",
       "      <th>C</th>\n",
       "      <th>Q</th>\n",
       "      <th>S</th>\n",
       "    </tr>\n",
       "  </thead>\n",
       "  <tbody>\n",
       "    <tr>\n",
       "      <th>0</th>\n",
       "      <td>0</td>\n",
       "      <td>3</td>\n",
       "      <td>3</td>\n",
       "      <td>1</td>\n",
       "      <td>7.2500</td>\n",
       "      <td>0.0</td>\n",
       "      <td>1.0</td>\n",
       "      <td>0.0</td>\n",
       "      <td>0.0</td>\n",
       "      <td>0.0</td>\n",
       "      <td>0.0</td>\n",
       "      <td>1.0</td>\n",
       "      <td>0.0</td>\n",
       "      <td>0.0</td>\n",
       "      <td>0.0</td>\n",
       "      <td>1.0</td>\n",
       "    </tr>\n",
       "    <tr>\n",
       "      <th>1</th>\n",
       "      <td>1</td>\n",
       "      <td>1</td>\n",
       "      <td>0</td>\n",
       "      <td>1</td>\n",
       "      <td>71.2833</td>\n",
       "      <td>1.0</td>\n",
       "      <td>0.0</td>\n",
       "      <td>0.0</td>\n",
       "      <td>0.0</td>\n",
       "      <td>0.0</td>\n",
       "      <td>0.0</td>\n",
       "      <td>0.0</td>\n",
       "      <td>1.0</td>\n",
       "      <td>1.0</td>\n",
       "      <td>0.0</td>\n",
       "      <td>0.0</td>\n",
       "    </tr>\n",
       "    <tr>\n",
       "      <th>2</th>\n",
       "      <td>1</td>\n",
       "      <td>3</td>\n",
       "      <td>3</td>\n",
       "      <td>0</td>\n",
       "      <td>7.9250</td>\n",
       "      <td>1.0</td>\n",
       "      <td>0.0</td>\n",
       "      <td>0.0</td>\n",
       "      <td>0.0</td>\n",
       "      <td>0.0</td>\n",
       "      <td>1.0</td>\n",
       "      <td>0.0</td>\n",
       "      <td>0.0</td>\n",
       "      <td>0.0</td>\n",
       "      <td>0.0</td>\n",
       "      <td>1.0</td>\n",
       "    </tr>\n",
       "    <tr>\n",
       "      <th>3</th>\n",
       "      <td>1</td>\n",
       "      <td>1</td>\n",
       "      <td>0</td>\n",
       "      <td>1</td>\n",
       "      <td>26.5500</td>\n",
       "      <td>1.0</td>\n",
       "      <td>0.0</td>\n",
       "      <td>0.0</td>\n",
       "      <td>0.0</td>\n",
       "      <td>0.0</td>\n",
       "      <td>0.0</td>\n",
       "      <td>0.0</td>\n",
       "      <td>1.0</td>\n",
       "      <td>0.0</td>\n",
       "      <td>0.0</td>\n",
       "      <td>1.0</td>\n",
       "    </tr>\n",
       "    <tr>\n",
       "      <th>4</th>\n",
       "      <td>0</td>\n",
       "      <td>3</td>\n",
       "      <td>0</td>\n",
       "      <td>0</td>\n",
       "      <td>8.0500</td>\n",
       "      <td>0.0</td>\n",
       "      <td>1.0</td>\n",
       "      <td>0.0</td>\n",
       "      <td>0.0</td>\n",
       "      <td>0.0</td>\n",
       "      <td>0.0</td>\n",
       "      <td>1.0</td>\n",
       "      <td>0.0</td>\n",
       "      <td>0.0</td>\n",
       "      <td>0.0</td>\n",
       "      <td>1.0</td>\n",
       "    </tr>\n",
       "  </tbody>\n",
       "</table>\n",
       "</div>"
      ],
      "text/plain": [
       "   Survived  Pclass  Age_Cut  Family_Size  Fare_PerPerson  female  male  \\\n",
       "0         0       3        3            1          7.2500     0.0   1.0   \n",
       "1         1       1        0            1         71.2833     1.0   0.0   \n",
       "2         1       3        3            0          7.9250     1.0   0.0   \n",
       "3         1       1        0            1         26.5500     1.0   0.0   \n",
       "4         0       3        0            0          8.0500     0.0   1.0   \n",
       "\n",
       "   Master  Misc_Female  Misc_Male  Miss   Mr  Mrs    C    Q    S  \n",
       "0     0.0          0.0        0.0   0.0  1.0  0.0  0.0  0.0  1.0  \n",
       "1     0.0          0.0        0.0   0.0  0.0  1.0  1.0  0.0  0.0  \n",
       "2     0.0          0.0        0.0   1.0  0.0  0.0  0.0  0.0  1.0  \n",
       "3     0.0          0.0        0.0   0.0  0.0  1.0  0.0  0.0  1.0  \n",
       "4     0.0          0.0        0.0   0.0  1.0  0.0  0.0  0.0  1.0  "
      ]
     },
     "execution_count": 92,
     "metadata": {},
     "output_type": "execute_result"
    }
   ],
   "source": [
    "df_train.head()"
   ]
  },
  {
   "cell_type": "markdown",
   "metadata": {},
   "source": [
    "#### Robust Scaler"
   ]
  },
  {
   "cell_type": "code",
   "execution_count": 93,
   "metadata": {},
   "outputs": [],
   "source": [
    "#Transforming the numerical features\n",
    "rs = RobustScaler()\n",
    "scaling = rs.fit_transform(df_train[['Fare_PerPerson']])"
   ]
  },
  {
   "cell_type": "code",
   "execution_count": 94,
   "metadata": {},
   "outputs": [],
   "source": [
    "#converting the scaling to data frame\n",
    "column = ['Fare_PerPerson_scale']\n",
    "c = pd.DataFrame(scaling, columns=column)"
   ]
  },
  {
   "cell_type": "code",
   "execution_count": 95,
   "metadata": {},
   "outputs": [],
   "source": [
    "#merge the two dataframe\n",
    "df_train = df_train.join(c)"
   ]
  },
  {
   "cell_type": "code",
   "execution_count": 96,
   "metadata": {},
   "outputs": [],
   "source": [
    "#Dropping all unused features\n",
    "df_train.drop(['Fare_PerPerson'], axis =1, inplace = True)"
   ]
  },
  {
   "cell_type": "code",
   "execution_count": 97,
   "metadata": {},
   "outputs": [
    {
     "data": {
      "text/plain": [
       "Survived                0\n",
       "Pclass                  0\n",
       "Age_Cut                 0\n",
       "Family_Size             0\n",
       "female                  0\n",
       "male                    0\n",
       "Master                  0\n",
       "Misc_Female             0\n",
       "Misc_Male               0\n",
       "Miss                    0\n",
       "Mr                      0\n",
       "Mrs                     0\n",
       "C                       0\n",
       "Q                       0\n",
       "S                       0\n",
       "Fare_PerPerson_scale    0\n",
       "dtype: int64"
      ]
     },
     "execution_count": 97,
     "metadata": {},
     "output_type": "execute_result"
    }
   ],
   "source": [
    "df_train.isnull().sum()"
   ]
  },
  {
   "cell_type": "markdown",
   "metadata": {},
   "source": [
    "## 6c. Preprocessing the testing set"
   ]
  },
  {
   "cell_type": "code",
   "execution_count": 98,
   "metadata": {},
   "outputs": [
    {
     "data": {
      "text/plain": [
       "PassengerId      0\n",
       "Pclass           0\n",
       "Name             0\n",
       "Sex              0\n",
       "Age             86\n",
       "SibSp            0\n",
       "Parch            0\n",
       "Ticket           0\n",
       "Fare             1\n",
       "Cabin          327\n",
       "Embarked         0\n",
       "dtype: int64"
      ]
     },
     "execution_count": 98,
     "metadata": {},
     "output_type": "execute_result"
    }
   ],
   "source": [
    "test.isnull().sum()"
   ]
  },
  {
   "cell_type": "markdown",
   "metadata": {},
   "source": [
    "#### 1. Dealing with fares and ticket"
   ]
  },
  {
   "cell_type": "code",
   "execution_count": 99,
   "metadata": {},
   "outputs": [
    {
     "data": {
      "text/html": [
       "<div>\n",
       "<style scoped>\n",
       "    .dataframe tbody tr th:only-of-type {\n",
       "        vertical-align: middle;\n",
       "    }\n",
       "\n",
       "    .dataframe tbody tr th {\n",
       "        vertical-align: top;\n",
       "    }\n",
       "\n",
       "    .dataframe thead th {\n",
       "        text-align: right;\n",
       "    }\n",
       "</style>\n",
       "<table border=\"1\" class=\"dataframe\">\n",
       "  <thead>\n",
       "    <tr style=\"text-align: right;\">\n",
       "      <th></th>\n",
       "      <th>PassengerId</th>\n",
       "      <th>Pclass</th>\n",
       "      <th>Name</th>\n",
       "      <th>Sex</th>\n",
       "      <th>Age</th>\n",
       "      <th>SibSp</th>\n",
       "      <th>Parch</th>\n",
       "      <th>Ticket</th>\n",
       "      <th>Fare</th>\n",
       "      <th>Cabin</th>\n",
       "      <th>Embarked</th>\n",
       "    </tr>\n",
       "  </thead>\n",
       "  <tbody>\n",
       "    <tr>\n",
       "      <th>152</th>\n",
       "      <td>1044</td>\n",
       "      <td>3</td>\n",
       "      <td>Storey, Mr. Thomas</td>\n",
       "      <td>male</td>\n",
       "      <td>60.5</td>\n",
       "      <td>0</td>\n",
       "      <td>0</td>\n",
       "      <td>3701</td>\n",
       "      <td>NaN</td>\n",
       "      <td>NaN</td>\n",
       "      <td>S</td>\n",
       "    </tr>\n",
       "  </tbody>\n",
       "</table>\n",
       "</div>"
      ],
      "text/plain": [
       "     PassengerId  Pclass                Name   Sex   Age  SibSp  Parch Ticket  \\\n",
       "152         1044       3  Storey, Mr. Thomas  male  60.5      0      0   3701   \n",
       "\n",
       "     Fare Cabin Embarked  \n",
       "152   NaN   NaN        S  "
      ]
     },
     "execution_count": 99,
     "metadata": {},
     "output_type": "execute_result"
    }
   ],
   "source": [
    "test.loc[test['Fare'].isnull()]"
   ]
  },
  {
   "cell_type": "code",
   "execution_count": 100,
   "metadata": {},
   "outputs": [],
   "source": [
    "#Mean Imputation\n",
    "test['Fare_Mean'] = test['Fare'].fillna(test.Fare.mean())\n",
    "\n",
    "#Median Imputation\n",
    "test['Fare_Median'] = test['Fare'].fillna(test.Fare.median())\n",
    "\n",
    "#Random Imputation\n",
    "random_value_fare=test['Fare'].dropna().sample(test['Fare'].isnull().sum(),random_state=0)\n",
    "#pandas need to have same index in order to merge the dataset\n",
    "random_value_fare.index=test[test['Fare'].isnull()].index\n",
    "test['Fare_Random'] = test['Fare'].fillna(random_value_fare)"
   ]
  },
  {
   "cell_type": "code",
   "execution_count": 101,
   "metadata": {},
   "outputs": [
    {
     "data": {
      "image/png": "[encoded data removed]",
      "text/plain": [
       "<Figure size 576x432 with 1 Axes>"
      ]
     },
     "metadata": {},
     "output_type": "display_data"
    }
   ],
   "source": [
    "#Compare the distribution among original distribution, and using median and random imputation\n",
    "plt.figure(figsize=(8,6))\n",
    "sns.kdeplot(test['Fare'], shade =True, label = 'Fare' )\n",
    "sns.kdeplot(test['Fare_Median'], shade =True, label = 'Fare_Median')\n",
    "sns.kdeplot(test['Fare_Random'], shade = True, label = 'Fare_Random')\n",
    "\n",
    "plt.legend()\n",
    "plt.show()"
   ]
  },
  {
   "cell_type": "code",
   "execution_count": 102,
   "metadata": {},
   "outputs": [],
   "source": [
    "#Create a Ticket_Count feature to calculate Fare Per Passenger\n",
    "test['Ticket_Count']=test.groupby('Ticket')['Fare_Random'].transform('count')"
   ]
  },
  {
   "cell_type": "code",
   "execution_count": 103,
   "metadata": {},
   "outputs": [],
   "source": [
    "#Create the Fare_Per Person feature\n",
    "test['Fare_PerPerson'] = test['Fare_Random'] / test['Ticket_Count']"
   ]
  },
  {
   "cell_type": "code",
   "execution_count": 104,
   "metadata": {},
   "outputs": [
    {
     "data": {
      "text/html": [
       "<div>\n",
       "<style scoped>\n",
       "    .dataframe tbody tr th:only-of-type {\n",
       "        vertical-align: middle;\n",
       "    }\n",
       "\n",
       "    .dataframe tbody tr th {\n",
       "        vertical-align: top;\n",
       "    }\n",
       "\n",
       "    .dataframe thead th {\n",
       "        text-align: right;\n",
       "    }\n",
       "</style>\n",
       "<table border=\"1\" class=\"dataframe\">\n",
       "  <thead>\n",
       "    <tr style=\"text-align: right;\">\n",
       "      <th></th>\n",
       "      <th>PassengerId</th>\n",
       "      <th>Pclass</th>\n",
       "      <th>Name</th>\n",
       "      <th>Sex</th>\n",
       "      <th>Age</th>\n",
       "      <th>SibSp</th>\n",
       "      <th>Parch</th>\n",
       "      <th>Ticket</th>\n",
       "      <th>Fare</th>\n",
       "      <th>Cabin</th>\n",
       "      <th>Embarked</th>\n",
       "      <th>Fare_Mean</th>\n",
       "      <th>Fare_Median</th>\n",
       "      <th>Fare_Random</th>\n",
       "      <th>Ticket_Count</th>\n",
       "      <th>Fare_PerPerson</th>\n",
       "    </tr>\n",
       "  </thead>\n",
       "  <tbody>\n",
       "    <tr>\n",
       "      <th>413</th>\n",
       "      <td>1305</td>\n",
       "      <td>3</td>\n",
       "      <td>Spector, Mr. Woolf</td>\n",
       "      <td>male</td>\n",
       "      <td>NaN</td>\n",
       "      <td>0</td>\n",
       "      <td>0</td>\n",
       "      <td>A.5. 3236</td>\n",
       "      <td>8.0500</td>\n",
       "      <td>NaN</td>\n",
       "      <td>S</td>\n",
       "      <td>8.0500</td>\n",
       "      <td>8.0500</td>\n",
       "      <td>8.0500</td>\n",
       "      <td>1</td>\n",
       "      <td>8.0500</td>\n",
       "    </tr>\n",
       "    <tr>\n",
       "      <th>414</th>\n",
       "      <td>1306</td>\n",
       "      <td>1</td>\n",
       "      <td>Oliva y Ocana, Dona. Fermina</td>\n",
       "      <td>female</td>\n",
       "      <td>39.0</td>\n",
       "      <td>0</td>\n",
       "      <td>0</td>\n",
       "      <td>PC 17758</td>\n",
       "      <td>108.9000</td>\n",
       "      <td>C105</td>\n",
       "      <td>C</td>\n",
       "      <td>108.9000</td>\n",
       "      <td>108.9000</td>\n",
       "      <td>108.9000</td>\n",
       "      <td>1</td>\n",
       "      <td>108.9000</td>\n",
       "    </tr>\n",
       "    <tr>\n",
       "      <th>415</th>\n",
       "      <td>1307</td>\n",
       "      <td>3</td>\n",
       "      <td>Saether, Mr. Simon Sivertsen</td>\n",
       "      <td>male</td>\n",
       "      <td>38.5</td>\n",
       "      <td>0</td>\n",
       "      <td>0</td>\n",
       "      <td>SOTON/O.Q. 3101262</td>\n",
       "      <td>7.2500</td>\n",
       "      <td>NaN</td>\n",
       "      <td>S</td>\n",
       "      <td>7.2500</td>\n",
       "      <td>7.2500</td>\n",
       "      <td>7.2500</td>\n",
       "      <td>1</td>\n",
       "      <td>7.2500</td>\n",
       "    </tr>\n",
       "    <tr>\n",
       "      <th>416</th>\n",
       "      <td>1308</td>\n",
       "      <td>3</td>\n",
       "      <td>Ware, Mr. Frederick</td>\n",
       "      <td>male</td>\n",
       "      <td>NaN</td>\n",
       "      <td>0</td>\n",
       "      <td>0</td>\n",
       "      <td>359309</td>\n",
       "      <td>8.0500</td>\n",
       "      <td>NaN</td>\n",
       "      <td>S</td>\n",
       "      <td>8.0500</td>\n",
       "      <td>8.0500</td>\n",
       "      <td>8.0500</td>\n",
       "      <td>1</td>\n",
       "      <td>8.0500</td>\n",
       "    </tr>\n",
       "    <tr>\n",
       "      <th>417</th>\n",
       "      <td>1309</td>\n",
       "      <td>3</td>\n",
       "      <td>Peter, Master. Michael J</td>\n",
       "      <td>male</td>\n",
       "      <td>NaN</td>\n",
       "      <td>1</td>\n",
       "      <td>1</td>\n",
       "      <td>2668</td>\n",
       "      <td>22.3583</td>\n",
       "      <td>NaN</td>\n",
       "      <td>C</td>\n",
       "      <td>22.3583</td>\n",
       "      <td>22.3583</td>\n",
       "      <td>22.3583</td>\n",
       "      <td>1</td>\n",
       "      <td>22.3583</td>\n",
       "    </tr>\n",
       "  </tbody>\n",
       "</table>\n",
       "</div>"
      ],
      "text/plain": [
       "     PassengerId  Pclass                          Name     Sex   Age  SibSp  \\\n",
       "413         1305       3            Spector, Mr. Woolf    male   NaN      0   \n",
       "414         1306       1  Oliva y Ocana, Dona. Fermina  female  39.0      0   \n",
       "415         1307       3  Saether, Mr. Simon Sivertsen    male  38.5      0   \n",
       "416         1308       3           Ware, Mr. Frederick    male   NaN      0   \n",
       "417         1309       3      Peter, Master. Michael J    male   NaN      1   \n",
       "\n",
       "     Parch              Ticket      Fare Cabin Embarked  Fare_Mean  \\\n",
       "413      0           A.5. 3236    8.0500   NaN        S     8.0500   \n",
       "414      0            PC 17758  108.9000  C105        C   108.9000   \n",
       "415      0  SOTON/O.Q. 3101262    7.2500   NaN        S     7.2500   \n",
       "416      0              359309    8.0500   NaN        S     8.0500   \n",
       "417      1                2668   22.3583   NaN        C    22.3583   \n",
       "\n",
       "     Fare_Median  Fare_Random  Ticket_Count  Fare_PerPerson  \n",
       "413       8.0500       8.0500             1          8.0500  \n",
       "414     108.9000     108.9000             1        108.9000  \n",
       "415       7.2500       7.2500             1          7.2500  \n",
       "416       8.0500       8.0500             1          8.0500  \n",
       "417      22.3583      22.3583             1         22.3583  "
      ]
     },
     "execution_count": 104,
     "metadata": {},
     "output_type": "execute_result"
    }
   ],
   "source": [
    "test.tail()"
   ]
  },
  {
   "cell_type": "markdown",
   "metadata": {},
   "source": [
    "#### 2. Dealing with age feature"
   ]
  },
  {
   "cell_type": "code",
   "execution_count": 105,
   "metadata": {},
   "outputs": [],
   "source": [
    "#Random Imputation\n",
    "random_value=test['Age'].dropna().sample(test['Age'].isnull().sum(),random_state=0)\n",
    "#pandas need to have same index in order to merge the dataset\n",
    "random_value.index=test[test['Age'].isnull()].index\n",
    "test['Age_Random'] = test['Age'].fillna(random_value)"
   ]
  },
  {
   "cell_type": "code",
   "execution_count": 106,
   "metadata": {},
   "outputs": [],
   "source": [
    "#Discretizing the Age feature, other alternatives can use binarizer, digitize in the numpy library\n",
    "\n",
    "age_cat_test =['Infant','Children','Young Adult','Adult']\n",
    "test['Age_Cut'] = pd.cut(test['Age_Random'],(0,2,18,30,80), labels = age_cat)"
   ]
  },
  {
   "cell_type": "code",
   "execution_count": 107,
   "metadata": {},
   "outputs": [
    {
     "data": {
      "text/plain": [
       "PassengerId         0\n",
       "Pclass              0\n",
       "Name                0\n",
       "Sex                 0\n",
       "Age                86\n",
       "SibSp               0\n",
       "Parch               0\n",
       "Ticket              0\n",
       "Fare                1\n",
       "Cabin             327\n",
       "Embarked            0\n",
       "Fare_Mean           0\n",
       "Fare_Median         0\n",
       "Fare_Random         0\n",
       "Ticket_Count        0\n",
       "Fare_PerPerson      0\n",
       "Age_Random          0\n",
       "Age_Cut             0\n",
       "dtype: int64"
      ]
     },
     "execution_count": 107,
     "metadata": {},
     "output_type": "execute_result"
    }
   ],
   "source": [
    "test.isnull().sum()"
   ]
  },
  {
   "cell_type": "markdown",
   "metadata": {},
   "source": [
    "#### 3. Create Family_Size feature"
   ]
  },
  {
   "cell_type": "code",
   "execution_count": 108,
   "metadata": {},
   "outputs": [],
   "source": [
    "# Create column of number of Family members onboard\n",
    "test['Family_Size'] = test.Parch + test.SibSp"
   ]
  },
  {
   "cell_type": "markdown",
   "metadata": {},
   "source": [
    "#### 4. Creating Title feature"
   ]
  },
  {
   "cell_type": "code",
   "execution_count": 109,
   "metadata": {},
   "outputs": [
    {
     "data": {
      "image/png": "[encoded data removed]",
      "text/plain": [
       "<Figure size 432x288 with 1 Axes>"
      ]
     },
     "metadata": {},
     "output_type": "display_data"
    }
   ],
   "source": [
    "#Import the regex \n",
    "import re\n",
    "\n",
    "#Extract tht Passengers Title, store the Title in a column and plot a barplot\n",
    "test['Title'] = test.Name.apply(lambda x: re.search(' ([A-Z][a-z]+)\\.', x).group(1))\n",
    "sns.countplot(x='Title', data=test);\n",
    "plt.xticks(rotation=90);"
   ]
  },
  {
   "cell_type": "code",
   "execution_count": 110,
   "metadata": {},
   "outputs": [],
   "source": [
    "# Replace with appropriate title\n",
    "test['Title'] = test['Title'].replace({'Mlle':'Miss', 'Mme':'Mrs', 'Ms':'Miss'})\n",
    "test['Title'] = test['Title'].replace(['Don', 'Dona','Rev', 'Dr','Major', 'Lady', 'Sir', 'Col', 'Capt', 'Countess', 'Jonkheer'],'Misc')"
   ]
  },
  {
   "cell_type": "code",
   "execution_count": 111,
   "metadata": {},
   "outputs": [],
   "source": [
    "# Replace the misc title according to their gender\n",
    "test['Title'] = np.where(((test.Sex == 'male') & (test.Title == 'Misc')),'Misc_Male',test.Title)\n",
    "test['Title'] = np.where(((test.Sex == 'female') & (test.Title == 'Misc')),'Misc_Female',test.Title)"
   ]
  },
  {
   "cell_type": "code",
   "execution_count": 112,
   "metadata": {},
   "outputs": [
    {
     "data": {
      "image/png": "[encoded data removed]",
      "text/plain": [
       "<Figure size 360x360 with 1 Axes>"
      ]
     },
     "metadata": {},
     "output_type": "display_data"
    }
   ],
   "source": [
    "# Plot the new category for Title feature\n",
    "sns.catplot(y ='Title', kind = \"count\",data = test,order=test['Title'].value_counts().index)\n",
    "plt.xticks(rotation=90);"
   ]
  },
  {
   "cell_type": "code",
   "execution_count": 113,
   "metadata": {},
   "outputs": [
    {
     "data": {
      "text/html": [
       "<div>\n",
       "<style scoped>\n",
       "    .dataframe tbody tr th:only-of-type {\n",
       "        vertical-align: middle;\n",
       "    }\n",
       "\n",
       "    .dataframe tbody tr th {\n",
       "        vertical-align: top;\n",
       "    }\n",
       "\n",
       "    .dataframe thead th {\n",
       "        text-align: right;\n",
       "    }\n",
       "</style>\n",
       "<table border=\"1\" class=\"dataframe\">\n",
       "  <thead>\n",
       "    <tr style=\"text-align: right;\">\n",
       "      <th></th>\n",
       "      <th>PassengerId</th>\n",
       "      <th>Pclass</th>\n",
       "      <th>Name</th>\n",
       "      <th>Sex</th>\n",
       "      <th>Age</th>\n",
       "      <th>SibSp</th>\n",
       "      <th>Parch</th>\n",
       "      <th>Ticket</th>\n",
       "      <th>Fare</th>\n",
       "      <th>Cabin</th>\n",
       "      <th>Embarked</th>\n",
       "      <th>Fare_Mean</th>\n",
       "      <th>Fare_Median</th>\n",
       "      <th>Fare_Random</th>\n",
       "      <th>Ticket_Count</th>\n",
       "      <th>Fare_PerPerson</th>\n",
       "      <th>Age_Random</th>\n",
       "      <th>Age_Cut</th>\n",
       "      <th>Family_Size</th>\n",
       "      <th>Title</th>\n",
       "    </tr>\n",
       "  </thead>\n",
       "  <tbody>\n",
       "    <tr>\n",
       "      <th>0</th>\n",
       "      <td>892</td>\n",
       "      <td>3</td>\n",
       "      <td>Kelly, Mr. James</td>\n",
       "      <td>male</td>\n",
       "      <td>34.5</td>\n",
       "      <td>0</td>\n",
       "      <td>0</td>\n",
       "      <td>330911</td>\n",
       "      <td>7.8292</td>\n",
       "      <td>NaN</td>\n",
       "      <td>Q</td>\n",
       "      <td>7.8292</td>\n",
       "      <td>7.8292</td>\n",
       "      <td>7.8292</td>\n",
       "      <td>1</td>\n",
       "      <td>7.8292</td>\n",
       "      <td>34.5</td>\n",
       "      <td>Adult</td>\n",
       "      <td>0</td>\n",
       "      <td>Mr</td>\n",
       "    </tr>\n",
       "    <tr>\n",
       "      <th>1</th>\n",
       "      <td>893</td>\n",
       "      <td>3</td>\n",
       "      <td>Wilkes, Mrs. James (Ellen Needs)</td>\n",
       "      <td>female</td>\n",
       "      <td>47.0</td>\n",
       "      <td>1</td>\n",
       "      <td>0</td>\n",
       "      <td>363272</td>\n",
       "      <td>7.0000</td>\n",
       "      <td>NaN</td>\n",
       "      <td>S</td>\n",
       "      <td>7.0000</td>\n",
       "      <td>7.0000</td>\n",
       "      <td>7.0000</td>\n",
       "      <td>1</td>\n",
       "      <td>7.0000</td>\n",
       "      <td>47.0</td>\n",
       "      <td>Adult</td>\n",
       "      <td>1</td>\n",
       "      <td>Mrs</td>\n",
       "    </tr>\n",
       "    <tr>\n",
       "      <th>2</th>\n",
       "      <td>894</td>\n",
       "      <td>2</td>\n",
       "      <td>Myles, Mr. Thomas Francis</td>\n",
       "      <td>male</td>\n",
       "      <td>62.0</td>\n",
       "      <td>0</td>\n",
       "      <td>0</td>\n",
       "      <td>240276</td>\n",
       "      <td>9.6875</td>\n",
       "      <td>NaN</td>\n",
       "      <td>Q</td>\n",
       "      <td>9.6875</td>\n",
       "      <td>9.6875</td>\n",
       "      <td>9.6875</td>\n",
       "      <td>1</td>\n",
       "      <td>9.6875</td>\n",
       "      <td>62.0</td>\n",
       "      <td>Adult</td>\n",
       "      <td>0</td>\n",
       "      <td>Mr</td>\n",
       "    </tr>\n",
       "    <tr>\n",
       "      <th>3</th>\n",
       "      <td>895</td>\n",
       "      <td>3</td>\n",
       "      <td>Wirz, Mr. Albert</td>\n",
       "      <td>male</td>\n",
       "      <td>27.0</td>\n",
       "      <td>0</td>\n",
       "      <td>0</td>\n",
       "      <td>315154</td>\n",
       "      <td>8.6625</td>\n",
       "      <td>NaN</td>\n",
       "      <td>S</td>\n",
       "      <td>8.6625</td>\n",
       "      <td>8.6625</td>\n",
       "      <td>8.6625</td>\n",
       "      <td>1</td>\n",
       "      <td>8.6625</td>\n",
       "      <td>27.0</td>\n",
       "      <td>Young Adult</td>\n",
       "      <td>0</td>\n",
       "      <td>Mr</td>\n",
       "    </tr>\n",
       "    <tr>\n",
       "      <th>4</th>\n",
       "      <td>896</td>\n",
       "      <td>3</td>\n",
       "      <td>Hirvonen, Mrs. Alexander (Helga E Lindqvist)</td>\n",
       "      <td>female</td>\n",
       "      <td>22.0</td>\n",
       "      <td>1</td>\n",
       "      <td>1</td>\n",
       "      <td>3101298</td>\n",
       "      <td>12.2875</td>\n",
       "      <td>NaN</td>\n",
       "      <td>S</td>\n",
       "      <td>12.2875</td>\n",
       "      <td>12.2875</td>\n",
       "      <td>12.2875</td>\n",
       "      <td>1</td>\n",
       "      <td>12.2875</td>\n",
       "      <td>22.0</td>\n",
       "      <td>Young Adult</td>\n",
       "      <td>2</td>\n",
       "      <td>Mrs</td>\n",
       "    </tr>\n",
       "  </tbody>\n",
       "</table>\n",
       "</div>"
      ],
      "text/plain": [
       "   PassengerId  Pclass                                          Name     Sex  \\\n",
       "0          892       3                              Kelly, Mr. James    male   \n",
       "1          893       3              Wilkes, Mrs. James (Ellen Needs)  female   \n",
       "2          894       2                     Myles, Mr. Thomas Francis    male   \n",
       "3          895       3                              Wirz, Mr. Albert    male   \n",
       "4          896       3  Hirvonen, Mrs. Alexander (Helga E Lindqvist)  female   \n",
       "\n",
       "    Age  SibSp  Parch   Ticket     Fare Cabin Embarked  Fare_Mean  \\\n",
       "0  34.5      0      0   330911   7.8292   NaN        Q     7.8292   \n",
       "1  47.0      1      0   363272   7.0000   NaN        S     7.0000   \n",
       "2  62.0      0      0   240276   9.6875   NaN        Q     9.6875   \n",
       "3  27.0      0      0   315154   8.6625   NaN        S     8.6625   \n",
       "4  22.0      1      1  3101298  12.2875   NaN        S    12.2875   \n",
       "\n",
       "   Fare_Median  Fare_Random  Ticket_Count  Fare_PerPerson  Age_Random  \\\n",
       "0       7.8292       7.8292             1          7.8292        34.5   \n",
       "1       7.0000       7.0000             1          7.0000        47.0   \n",
       "2       9.6875       9.6875             1          9.6875        62.0   \n",
       "3       8.6625       8.6625             1          8.6625        27.0   \n",
       "4      12.2875      12.2875             1         12.2875        22.0   \n",
       "\n",
       "       Age_Cut  Family_Size Title  \n",
       "0        Adult            0    Mr  \n",
       "1        Adult            1   Mrs  \n",
       "2        Adult            0    Mr  \n",
       "3  Young Adult            0    Mr  \n",
       "4  Young Adult            2   Mrs  "
      ]
     },
     "execution_count": 113,
     "metadata": {},
     "output_type": "execute_result"
    }
   ],
   "source": [
    "test.head()"
   ]
  },
  {
   "cell_type": "code",
   "execution_count": 114,
   "metadata": {},
   "outputs": [],
   "source": [
    "df_test = test[['PassengerId','Pclass','Sex','Age_Cut','Family_Size',\"Title\",'Fare_PerPerson','Embarked']]"
   ]
  },
  {
   "cell_type": "code",
   "execution_count": 115,
   "metadata": {},
   "outputs": [
    {
     "data": {
      "text/html": [
       "<div>\n",
       "<style scoped>\n",
       "    .dataframe tbody tr th:only-of-type {\n",
       "        vertical-align: middle;\n",
       "    }\n",
       "\n",
       "    .dataframe tbody tr th {\n",
       "        vertical-align: top;\n",
       "    }\n",
       "\n",
       "    .dataframe thead th {\n",
       "        text-align: right;\n",
       "    }\n",
       "</style>\n",
       "<table border=\"1\" class=\"dataframe\">\n",
       "  <thead>\n",
       "    <tr style=\"text-align: right;\">\n",
       "      <th></th>\n",
       "      <th>PassengerId</th>\n",
       "      <th>Pclass</th>\n",
       "      <th>Sex</th>\n",
       "      <th>Age_Cut</th>\n",
       "      <th>Family_Size</th>\n",
       "      <th>Title</th>\n",
       "      <th>Fare_PerPerson</th>\n",
       "      <th>Embarked</th>\n",
       "    </tr>\n",
       "  </thead>\n",
       "  <tbody>\n",
       "    <tr>\n",
       "      <th>0</th>\n",
       "      <td>892</td>\n",
       "      <td>3</td>\n",
       "      <td>male</td>\n",
       "      <td>Adult</td>\n",
       "      <td>0</td>\n",
       "      <td>Mr</td>\n",
       "      <td>7.8292</td>\n",
       "      <td>Q</td>\n",
       "    </tr>\n",
       "    <tr>\n",
       "      <th>1</th>\n",
       "      <td>893</td>\n",
       "      <td>3</td>\n",
       "      <td>female</td>\n",
       "      <td>Adult</td>\n",
       "      <td>1</td>\n",
       "      <td>Mrs</td>\n",
       "      <td>7.0000</td>\n",
       "      <td>S</td>\n",
       "    </tr>\n",
       "    <tr>\n",
       "      <th>2</th>\n",
       "      <td>894</td>\n",
       "      <td>2</td>\n",
       "      <td>male</td>\n",
       "      <td>Adult</td>\n",
       "      <td>0</td>\n",
       "      <td>Mr</td>\n",
       "      <td>9.6875</td>\n",
       "      <td>Q</td>\n",
       "    </tr>\n",
       "  </tbody>\n",
       "</table>\n",
       "</div>"
      ],
      "text/plain": [
       "   PassengerId  Pclass     Sex Age_Cut  Family_Size Title  Fare_PerPerson  \\\n",
       "0          892       3    male   Adult            0    Mr          7.8292   \n",
       "1          893       3  female   Adult            1   Mrs          7.0000   \n",
       "2          894       2    male   Adult            0    Mr          9.6875   \n",
       "\n",
       "  Embarked  \n",
       "0        Q  \n",
       "1        S  \n",
       "2        Q  "
      ]
     },
     "execution_count": 115,
     "metadata": {},
     "output_type": "execute_result"
    }
   ],
   "source": [
    "df_test.head(3)"
   ]
  },
  {
   "cell_type": "code",
   "execution_count": 116,
   "metadata": {},
   "outputs": [
    {
     "data": {
      "text/plain": [
       "PassengerId          int64\n",
       "Pclass               int64\n",
       "Sex                 object\n",
       "Age_Cut           category\n",
       "Family_Size          int64\n",
       "Title               object\n",
       "Fare_PerPerson     float64\n",
       "Embarked            object\n",
       "dtype: object"
      ]
     },
     "execution_count": 116,
     "metadata": {},
     "output_type": "execute_result"
    }
   ],
   "source": [
    "df_test.dtypes"
   ]
  },
  {
   "cell_type": "markdown",
   "metadata": {},
   "source": [
    "## 6d. Encoding and scaling the testing set"
   ]
  },
  {
   "cell_type": "code",
   "execution_count": 117,
   "metadata": {},
   "outputs": [],
   "source": [
    "from sklearn.compose import make_column_transformer"
   ]
  },
  {
   "cell_type": "code",
   "execution_count": 118,
   "metadata": {},
   "outputs": [],
   "source": [
    "#Create transformer\n",
    "age_category = ['Infant','Children','Young Adult','Adult'],\n",
    "ct = make_column_transformer((OneHotEncoder(dtype='int64'),['Sex', 'Title','Embarked']),\n",
    "                            (OrdinalEncoder(categories = age_category, dtype='int64'),['Age_Cut']),\n",
    "                             (RobustScaler(), ['Fare_PerPerson']), \n",
    "                                remainder='passthrough')"
   ]
  },
  {
   "cell_type": "code",
   "execution_count": 119,
   "metadata": {},
   "outputs": [],
   "source": [
    "ct_df_test = ct.fit_transform(df_test)"
   ]
  },
  {
   "cell_type": "code",
   "execution_count": 120,
   "metadata": {},
   "outputs": [
    {
     "data": {
      "text/plain": [
       "array([[ 0.00000000e+00,  1.00000000e+00,  0.00000000e+00,\n",
       "         0.00000000e+00,  0.00000000e+00,  0.00000000e+00,\n",
       "         1.00000000e+00,  0.00000000e+00,  0.00000000e+00,\n",
       "         1.00000000e+00,  0.00000000e+00,  3.00000000e+00,\n",
       "        -2.41808321e-01,  8.92000000e+02,  3.00000000e+00,\n",
       "         0.00000000e+00],\n",
       "       [ 1.00000000e+00,  0.00000000e+00,  0.00000000e+00,\n",
       "         0.00000000e+00,  0.00000000e+00,  0.00000000e+00,\n",
       "         0.00000000e+00,  1.00000000e+00,  0.00000000e+00,\n",
       "         0.00000000e+00,  1.00000000e+00,  3.00000000e+00,\n",
       "        -2.86160528e-01,  8.93000000e+02,  3.00000000e+00,\n",
       "         1.00000000e+00],\n",
       "       [ 0.00000000e+00,  1.00000000e+00,  0.00000000e+00,\n",
       "         0.00000000e+00,  0.00000000e+00,  0.00000000e+00,\n",
       "         1.00000000e+00,  0.00000000e+00,  0.00000000e+00,\n",
       "         1.00000000e+00,  0.00000000e+00,  3.00000000e+00,\n",
       "        -1.42411665e-01,  8.94000000e+02,  2.00000000e+00,\n",
       "         0.00000000e+00],\n",
       "       [ 0.00000000e+00,  1.00000000e+00,  0.00000000e+00,\n",
       "         0.00000000e+00,  0.00000000e+00,  0.00000000e+00,\n",
       "         1.00000000e+00,  0.00000000e+00,  0.00000000e+00,\n",
       "         0.00000000e+00,  1.00000000e+00,  2.00000000e+00,\n",
       "        -1.97236813e-01,  8.95000000e+02,  3.00000000e+00,\n",
       "         0.00000000e+00],\n",
       "       [ 1.00000000e+00,  0.00000000e+00,  0.00000000e+00,\n",
       "         0.00000000e+00,  0.00000000e+00,  0.00000000e+00,\n",
       "         0.00000000e+00,  1.00000000e+00,  0.00000000e+00,\n",
       "         0.00000000e+00,  1.00000000e+00,  2.00000000e+00,\n",
       "        -3.34299682e-03,  8.96000000e+02,  3.00000000e+00,\n",
       "         2.00000000e+00]])"
      ]
     },
     "execution_count": 120,
     "metadata": {},
     "output_type": "execute_result"
    }
   ],
   "source": [
    "ct_df_test[:5]"
   ]
  },
  {
   "cell_type": "code",
   "execution_count": 121,
   "metadata": {},
   "outputs": [],
   "source": [
    "import sys\n",
    "np.set_printoptions(threshold=sys.maxsize)"
   ]
  },
  {
   "cell_type": "code",
   "execution_count": 122,
   "metadata": {},
   "outputs": [
    {
     "data": {
      "text/html": [
       "<div>\n",
       "<style scoped>\n",
       "    .dataframe tbody tr th:only-of-type {\n",
       "        vertical-align: middle;\n",
       "    }\n",
       "\n",
       "    .dataframe tbody tr th {\n",
       "        vertical-align: top;\n",
       "    }\n",
       "\n",
       "    .dataframe thead th {\n",
       "        text-align: right;\n",
       "    }\n",
       "</style>\n",
       "<table border=\"1\" class=\"dataframe\">\n",
       "  <thead>\n",
       "    <tr style=\"text-align: right;\">\n",
       "      <th></th>\n",
       "      <th>female</th>\n",
       "      <th>male</th>\n",
       "      <th>Master</th>\n",
       "      <th>Misc_Female</th>\n",
       "      <th>Misc_Male</th>\n",
       "      <th>Miss</th>\n",
       "      <th>Mr</th>\n",
       "      <th>Mrs</th>\n",
       "      <th>Cherbourg</th>\n",
       "      <th>Queenstown</th>\n",
       "      <th>Southampton</th>\n",
       "      <th>Age_Cut</th>\n",
       "      <th>Fare_PerPerson</th>\n",
       "      <th>PassengerId</th>\n",
       "      <th>Pclass</th>\n",
       "      <th>Family_Size</th>\n",
       "    </tr>\n",
       "  </thead>\n",
       "  <tbody>\n",
       "    <tr>\n",
       "      <th>0</th>\n",
       "      <td>0.0</td>\n",
       "      <td>1.0</td>\n",
       "      <td>0.0</td>\n",
       "      <td>0.0</td>\n",
       "      <td>0.0</td>\n",
       "      <td>0.0</td>\n",
       "      <td>1.0</td>\n",
       "      <td>0.0</td>\n",
       "      <td>0.0</td>\n",
       "      <td>1.0</td>\n",
       "      <td>0.0</td>\n",
       "      <td>3.0</td>\n",
       "      <td>-0.241808</td>\n",
       "      <td>892.0</td>\n",
       "      <td>3.0</td>\n",
       "      <td>0.0</td>\n",
       "    </tr>\n",
       "    <tr>\n",
       "      <th>1</th>\n",
       "      <td>1.0</td>\n",
       "      <td>0.0</td>\n",
       "      <td>0.0</td>\n",
       "      <td>0.0</td>\n",
       "      <td>0.0</td>\n",
       "      <td>0.0</td>\n",
       "      <td>0.0</td>\n",
       "      <td>1.0</td>\n",
       "      <td>0.0</td>\n",
       "      <td>0.0</td>\n",
       "      <td>1.0</td>\n",
       "      <td>3.0</td>\n",
       "      <td>-0.286161</td>\n",
       "      <td>893.0</td>\n",
       "      <td>3.0</td>\n",
       "      <td>1.0</td>\n",
       "    </tr>\n",
       "    <tr>\n",
       "      <th>2</th>\n",
       "      <td>0.0</td>\n",
       "      <td>1.0</td>\n",
       "      <td>0.0</td>\n",
       "      <td>0.0</td>\n",
       "      <td>0.0</td>\n",
       "      <td>0.0</td>\n",
       "      <td>1.0</td>\n",
       "      <td>0.0</td>\n",
       "      <td>0.0</td>\n",
       "      <td>1.0</td>\n",
       "      <td>0.0</td>\n",
       "      <td>3.0</td>\n",
       "      <td>-0.142412</td>\n",
       "      <td>894.0</td>\n",
       "      <td>2.0</td>\n",
       "      <td>0.0</td>\n",
       "    </tr>\n",
       "    <tr>\n",
       "      <th>3</th>\n",
       "      <td>0.0</td>\n",
       "      <td>1.0</td>\n",
       "      <td>0.0</td>\n",
       "      <td>0.0</td>\n",
       "      <td>0.0</td>\n",
       "      <td>0.0</td>\n",
       "      <td>1.0</td>\n",
       "      <td>0.0</td>\n",
       "      <td>0.0</td>\n",
       "      <td>0.0</td>\n",
       "      <td>1.0</td>\n",
       "      <td>2.0</td>\n",
       "      <td>-0.197237</td>\n",
       "      <td>895.0</td>\n",
       "      <td>3.0</td>\n",
       "      <td>0.0</td>\n",
       "    </tr>\n",
       "    <tr>\n",
       "      <th>4</th>\n",
       "      <td>1.0</td>\n",
       "      <td>0.0</td>\n",
       "      <td>0.0</td>\n",
       "      <td>0.0</td>\n",
       "      <td>0.0</td>\n",
       "      <td>0.0</td>\n",
       "      <td>0.0</td>\n",
       "      <td>1.0</td>\n",
       "      <td>0.0</td>\n",
       "      <td>0.0</td>\n",
       "      <td>1.0</td>\n",
       "      <td>2.0</td>\n",
       "      <td>-0.003343</td>\n",
       "      <td>896.0</td>\n",
       "      <td>3.0</td>\n",
       "      <td>2.0</td>\n",
       "    </tr>\n",
       "    <tr>\n",
       "      <th>5</th>\n",
       "      <td>0.0</td>\n",
       "      <td>1.0</td>\n",
       "      <td>0.0</td>\n",
       "      <td>0.0</td>\n",
       "      <td>0.0</td>\n",
       "      <td>0.0</td>\n",
       "      <td>1.0</td>\n",
       "      <td>0.0</td>\n",
       "      <td>0.0</td>\n",
       "      <td>0.0</td>\n",
       "      <td>1.0</td>\n",
       "      <td>1.0</td>\n",
       "      <td>-0.167150</td>\n",
       "      <td>897.0</td>\n",
       "      <td>3.0</td>\n",
       "      <td>0.0</td>\n",
       "    </tr>\n",
       "    <tr>\n",
       "      <th>6</th>\n",
       "      <td>1.0</td>\n",
       "      <td>0.0</td>\n",
       "      <td>0.0</td>\n",
       "      <td>0.0</td>\n",
       "      <td>0.0</td>\n",
       "      <td>1.0</td>\n",
       "      <td>0.0</td>\n",
       "      <td>0.0</td>\n",
       "      <td>0.0</td>\n",
       "      <td>1.0</td>\n",
       "      <td>0.0</td>\n",
       "      <td>2.0</td>\n",
       "      <td>-0.252506</td>\n",
       "      <td>898.0</td>\n",
       "      <td>3.0</td>\n",
       "      <td>0.0</td>\n",
       "    </tr>\n",
       "    <tr>\n",
       "      <th>7</th>\n",
       "      <td>0.0</td>\n",
       "      <td>1.0</td>\n",
       "      <td>0.0</td>\n",
       "      <td>0.0</td>\n",
       "      <td>0.0</td>\n",
       "      <td>0.0</td>\n",
       "      <td>1.0</td>\n",
       "      <td>0.0</td>\n",
       "      <td>0.0</td>\n",
       "      <td>0.0</td>\n",
       "      <td>1.0</td>\n",
       "      <td>2.0</td>\n",
       "      <td>0.890574</td>\n",
       "      <td>899.0</td>\n",
       "      <td>2.0</td>\n",
       "      <td>2.0</td>\n",
       "    </tr>\n",
       "    <tr>\n",
       "      <th>8</th>\n",
       "      <td>1.0</td>\n",
       "      <td>0.0</td>\n",
       "      <td>0.0</td>\n",
       "      <td>0.0</td>\n",
       "      <td>0.0</td>\n",
       "      <td>0.0</td>\n",
       "      <td>0.0</td>\n",
       "      <td>1.0</td>\n",
       "      <td>1.0</td>\n",
       "      <td>0.0</td>\n",
       "      <td>0.0</td>\n",
       "      <td>1.0</td>\n",
       "      <td>-0.273901</td>\n",
       "      <td>900.0</td>\n",
       "      <td>3.0</td>\n",
       "      <td>0.0</td>\n",
       "    </tr>\n",
       "    <tr>\n",
       "      <th>9</th>\n",
       "      <td>0.0</td>\n",
       "      <td>1.0</td>\n",
       "      <td>0.0</td>\n",
       "      <td>0.0</td>\n",
       "      <td>0.0</td>\n",
       "      <td>0.0</td>\n",
       "      <td>1.0</td>\n",
       "      <td>0.0</td>\n",
       "      <td>0.0</td>\n",
       "      <td>0.0</td>\n",
       "      <td>1.0</td>\n",
       "      <td>2.0</td>\n",
       "      <td>0.631158</td>\n",
       "      <td>901.0</td>\n",
       "      <td>3.0</td>\n",
       "      <td>2.0</td>\n",
       "    </tr>\n",
       "  </tbody>\n",
       "</table>\n",
       "</div>"
      ],
      "text/plain": [
       "   female  male  Master  Misc_Female  Misc_Male  Miss   Mr  Mrs  Cherbourg  \\\n",
       "0     0.0   1.0     0.0          0.0        0.0   0.0  1.0  0.0        0.0   \n",
       "1     1.0   0.0     0.0          0.0        0.0   0.0  0.0  1.0        0.0   \n",
       "2     0.0   1.0     0.0          0.0        0.0   0.0  1.0  0.0        0.0   \n",
       "3     0.0   1.0     0.0          0.0        0.0   0.0  1.0  0.0        0.0   \n",
       "4     1.0   0.0     0.0          0.0        0.0   0.0  0.0  1.0        0.0   \n",
       "5     0.0   1.0     0.0          0.0        0.0   0.0  1.0  0.0        0.0   \n",
       "6     1.0   0.0     0.0          0.0        0.0   1.0  0.0  0.0        0.0   \n",
       "7     0.0   1.0     0.0          0.0        0.0   0.0  1.0  0.0        0.0   \n",
       "8     1.0   0.0     0.0          0.0        0.0   0.0  0.0  1.0        1.0   \n",
       "9     0.0   1.0     0.0          0.0        0.0   0.0  1.0  0.0        0.0   \n",
       "\n",
       "   Queenstown  Southampton  Age_Cut  Fare_PerPerson  PassengerId  Pclass  \\\n",
       "0         1.0          0.0      3.0       -0.241808        892.0     3.0   \n",
       "1         0.0          1.0      3.0       -0.286161        893.0     3.0   \n",
       "2         1.0          0.0      3.0       -0.142412        894.0     2.0   \n",
       "3         0.0          1.0      2.0       -0.197237        895.0     3.0   \n",
       "4         0.0          1.0      2.0       -0.003343        896.0     3.0   \n",
       "5         0.0          1.0      1.0       -0.167150        897.0     3.0   \n",
       "6         1.0          0.0      2.0       -0.252506        898.0     3.0   \n",
       "7         0.0          1.0      2.0        0.890574        899.0     2.0   \n",
       "8         0.0          0.0      1.0       -0.273901        900.0     3.0   \n",
       "9         0.0          1.0      2.0        0.631158        901.0     3.0   \n",
       "\n",
       "   Family_Size  \n",
       "0          0.0  \n",
       "1          1.0  \n",
       "2          0.0  \n",
       "3          0.0  \n",
       "4          2.0  \n",
       "5          0.0  \n",
       "6          0.0  \n",
       "7          2.0  \n",
       "8          0.0  \n",
       "9          2.0  "
      ]
     },
     "execution_count": 122,
     "metadata": {},
     "output_type": "execute_result"
    }
   ],
   "source": [
    "column = ['female','male','Master', 'Misc_Female', 'Misc_Male', 'Miss', 'Mr', 'Mrs','Cherbourg','Queenstown','Southampton','Age_Cut','Fare_PerPerson','PassengerId','Pclass','Family_Size']\n",
    "df_test_final = pd.DataFrame(ct_df_test, columns = column)\n",
    "df_test_final.head(10)"
   ]
  },
  {
   "cell_type": "code",
   "execution_count": 123,
   "metadata": {},
   "outputs": [
    {
     "data": {
      "text/html": [
       "<div>\n",
       "<style scoped>\n",
       "    .dataframe tbody tr th:only-of-type {\n",
       "        vertical-align: middle;\n",
       "    }\n",
       "\n",
       "    .dataframe tbody tr th {\n",
       "        vertical-align: top;\n",
       "    }\n",
       "\n",
       "    .dataframe thead th {\n",
       "        text-align: right;\n",
       "    }\n",
       "</style>\n",
       "<table border=\"1\" class=\"dataframe\">\n",
       "  <thead>\n",
       "    <tr style=\"text-align: right;\">\n",
       "      <th></th>\n",
       "      <th>PassengerId</th>\n",
       "      <th>Pclass</th>\n",
       "      <th>Sex</th>\n",
       "      <th>Age_Cut</th>\n",
       "      <th>Family_Size</th>\n",
       "      <th>Title</th>\n",
       "      <th>Fare_PerPerson</th>\n",
       "      <th>Embarked</th>\n",
       "    </tr>\n",
       "  </thead>\n",
       "  <tbody>\n",
       "    <tr>\n",
       "      <th>0</th>\n",
       "      <td>892</td>\n",
       "      <td>3</td>\n",
       "      <td>male</td>\n",
       "      <td>Adult</td>\n",
       "      <td>0</td>\n",
       "      <td>Mr</td>\n",
       "      <td>7.8292</td>\n",
       "      <td>Q</td>\n",
       "    </tr>\n",
       "    <tr>\n",
       "      <th>1</th>\n",
       "      <td>893</td>\n",
       "      <td>3</td>\n",
       "      <td>female</td>\n",
       "      <td>Adult</td>\n",
       "      <td>1</td>\n",
       "      <td>Mrs</td>\n",
       "      <td>7.0000</td>\n",
       "      <td>S</td>\n",
       "    </tr>\n",
       "    <tr>\n",
       "      <th>2</th>\n",
       "      <td>894</td>\n",
       "      <td>2</td>\n",
       "      <td>male</td>\n",
       "      <td>Adult</td>\n",
       "      <td>0</td>\n",
       "      <td>Mr</td>\n",
       "      <td>9.6875</td>\n",
       "      <td>Q</td>\n",
       "    </tr>\n",
       "    <tr>\n",
       "      <th>3</th>\n",
       "      <td>895</td>\n",
       "      <td>3</td>\n",
       "      <td>male</td>\n",
       "      <td>Young Adult</td>\n",
       "      <td>0</td>\n",
       "      <td>Mr</td>\n",
       "      <td>8.6625</td>\n",
       "      <td>S</td>\n",
       "    </tr>\n",
       "    <tr>\n",
       "      <th>4</th>\n",
       "      <td>896</td>\n",
       "      <td>3</td>\n",
       "      <td>female</td>\n",
       "      <td>Young Adult</td>\n",
       "      <td>2</td>\n",
       "      <td>Mrs</td>\n",
       "      <td>12.2875</td>\n",
       "      <td>S</td>\n",
       "    </tr>\n",
       "    <tr>\n",
       "      <th>5</th>\n",
       "      <td>897</td>\n",
       "      <td>3</td>\n",
       "      <td>male</td>\n",
       "      <td>Children</td>\n",
       "      <td>0</td>\n",
       "      <td>Mr</td>\n",
       "      <td>9.2250</td>\n",
       "      <td>S</td>\n",
       "    </tr>\n",
       "    <tr>\n",
       "      <th>6</th>\n",
       "      <td>898</td>\n",
       "      <td>3</td>\n",
       "      <td>female</td>\n",
       "      <td>Young Adult</td>\n",
       "      <td>0</td>\n",
       "      <td>Miss</td>\n",
       "      <td>7.6292</td>\n",
       "      <td>Q</td>\n",
       "    </tr>\n",
       "    <tr>\n",
       "      <th>7</th>\n",
       "      <td>899</td>\n",
       "      <td>2</td>\n",
       "      <td>male</td>\n",
       "      <td>Young Adult</td>\n",
       "      <td>2</td>\n",
       "      <td>Mr</td>\n",
       "      <td>29.0000</td>\n",
       "      <td>S</td>\n",
       "    </tr>\n",
       "    <tr>\n",
       "      <th>8</th>\n",
       "      <td>900</td>\n",
       "      <td>3</td>\n",
       "      <td>female</td>\n",
       "      <td>Children</td>\n",
       "      <td>0</td>\n",
       "      <td>Mrs</td>\n",
       "      <td>7.2292</td>\n",
       "      <td>C</td>\n",
       "    </tr>\n",
       "    <tr>\n",
       "      <th>9</th>\n",
       "      <td>901</td>\n",
       "      <td>3</td>\n",
       "      <td>male</td>\n",
       "      <td>Young Adult</td>\n",
       "      <td>2</td>\n",
       "      <td>Mr</td>\n",
       "      <td>24.1500</td>\n",
       "      <td>S</td>\n",
       "    </tr>\n",
       "  </tbody>\n",
       "</table>\n",
       "</div>"
      ],
      "text/plain": [
       "   PassengerId  Pclass     Sex      Age_Cut  Family_Size Title  \\\n",
       "0          892       3    male        Adult            0    Mr   \n",
       "1          893       3  female        Adult            1   Mrs   \n",
       "2          894       2    male        Adult            0    Mr   \n",
       "3          895       3    male  Young Adult            0    Mr   \n",
       "4          896       3  female  Young Adult            2   Mrs   \n",
       "5          897       3    male     Children            0    Mr   \n",
       "6          898       3  female  Young Adult            0  Miss   \n",
       "7          899       2    male  Young Adult            2    Mr   \n",
       "8          900       3  female     Children            0   Mrs   \n",
       "9          901       3    male  Young Adult            2    Mr   \n",
       "\n",
       "   Fare_PerPerson Embarked  \n",
       "0          7.8292        Q  \n",
       "1          7.0000        S  \n",
       "2          9.6875        Q  \n",
       "3          8.6625        S  \n",
       "4         12.2875        S  \n",
       "5          9.2250        S  \n",
       "6          7.6292        Q  \n",
       "7         29.0000        S  \n",
       "8          7.2292        C  \n",
       "9         24.1500        S  "
      ]
     },
     "execution_count": 123,
     "metadata": {},
     "output_type": "execute_result"
    }
   ],
   "source": [
    "df_test.head(10)"
   ]
  },
  {
   "cell_type": "code",
   "execution_count": 124,
   "metadata": {},
   "outputs": [
    {
     "data": {
      "text/plain": [
       "female            float64\n",
       "male              float64\n",
       "Master            float64\n",
       "Misc_Female       float64\n",
       "Misc_Male         float64\n",
       "Miss              float64\n",
       "Mr                float64\n",
       "Mrs               float64\n",
       "Cherbourg         float64\n",
       "Queenstown        float64\n",
       "Southampton       float64\n",
       "Age_Cut           float64\n",
       "Fare_PerPerson    float64\n",
       "PassengerId       float64\n",
       "Pclass            float64\n",
       "Family_Size       float64\n",
       "dtype: object"
      ]
     },
     "execution_count": 124,
     "metadata": {},
     "output_type": "execute_result"
    }
   ],
   "source": [
    "df_test_final.dtypes"
   ]
  },
  {
   "cell_type": "markdown",
   "metadata": {},
   "source": [
    "## 6e. Final look on the training and testing dataset"
   ]
  },
  {
   "cell_type": "code",
   "execution_count": 125,
   "metadata": {},
   "outputs": [
    {
     "data": {
      "text/html": [
       "<div>\n",
       "<style scoped>\n",
       "    .dataframe tbody tr th:only-of-type {\n",
       "        vertical-align: middle;\n",
       "    }\n",
       "\n",
       "    .dataframe tbody tr th {\n",
       "        vertical-align: top;\n",
       "    }\n",
       "\n",
       "    .dataframe thead th {\n",
       "        text-align: right;\n",
       "    }\n",
       "</style>\n",
       "<table border=\"1\" class=\"dataframe\">\n",
       "  <thead>\n",
       "    <tr style=\"text-align: right;\">\n",
       "      <th></th>\n",
       "      <th>Survived</th>\n",
       "      <th>Pclass</th>\n",
       "      <th>Age_Cut</th>\n",
       "      <th>Family_Size</th>\n",
       "      <th>female</th>\n",
       "      <th>male</th>\n",
       "      <th>Master</th>\n",
       "      <th>Misc_Female</th>\n",
       "      <th>Misc_Male</th>\n",
       "      <th>Miss</th>\n",
       "      <th>Mr</th>\n",
       "      <th>Mrs</th>\n",
       "      <th>C</th>\n",
       "      <th>Q</th>\n",
       "      <th>S</th>\n",
       "      <th>Fare_PerPerson_scale</th>\n",
       "    </tr>\n",
       "  </thead>\n",
       "  <tbody>\n",
       "    <tr>\n",
       "      <th>0</th>\n",
       "      <td>0</td>\n",
       "      <td>3</td>\n",
       "      <td>3</td>\n",
       "      <td>1</td>\n",
       "      <td>0.0</td>\n",
       "      <td>1.0</td>\n",
       "      <td>0.0</td>\n",
       "      <td>0.0</td>\n",
       "      <td>0.0</td>\n",
       "      <td>0.0</td>\n",
       "      <td>1.0</td>\n",
       "      <td>0.0</td>\n",
       "      <td>0.0</td>\n",
       "      <td>0.0</td>\n",
       "      <td>1.0</td>\n",
       "      <td>-0.096819</td>\n",
       "    </tr>\n",
       "    <tr>\n",
       "      <th>1</th>\n",
       "      <td>1</td>\n",
       "      <td>1</td>\n",
       "      <td>0</td>\n",
       "      <td>1</td>\n",
       "      <td>1.0</td>\n",
       "      <td>0.0</td>\n",
       "      <td>0.0</td>\n",
       "      <td>0.0</td>\n",
       "      <td>0.0</td>\n",
       "      <td>0.0</td>\n",
       "      <td>0.0</td>\n",
       "      <td>1.0</td>\n",
       "      <td>1.0</td>\n",
       "      <td>0.0</td>\n",
       "      <td>0.0</td>\n",
       "      <td>3.777952</td>\n",
       "    </tr>\n",
       "    <tr>\n",
       "      <th>2</th>\n",
       "      <td>1</td>\n",
       "      <td>3</td>\n",
       "      <td>3</td>\n",
       "      <td>0</td>\n",
       "      <td>1.0</td>\n",
       "      <td>0.0</td>\n",
       "      <td>0.0</td>\n",
       "      <td>0.0</td>\n",
       "      <td>0.0</td>\n",
       "      <td>1.0</td>\n",
       "      <td>0.0</td>\n",
       "      <td>0.0</td>\n",
       "      <td>0.0</td>\n",
       "      <td>0.0</td>\n",
       "      <td>1.0</td>\n",
       "      <td>-0.055973</td>\n",
       "    </tr>\n",
       "    <tr>\n",
       "      <th>3</th>\n",
       "      <td>1</td>\n",
       "      <td>1</td>\n",
       "      <td>0</td>\n",
       "      <td>1</td>\n",
       "      <td>1.0</td>\n",
       "      <td>0.0</td>\n",
       "      <td>0.0</td>\n",
       "      <td>0.0</td>\n",
       "      <td>0.0</td>\n",
       "      <td>0.0</td>\n",
       "      <td>0.0</td>\n",
       "      <td>1.0</td>\n",
       "      <td>0.0</td>\n",
       "      <td>0.0</td>\n",
       "      <td>1.0</td>\n",
       "      <td>1.071059</td>\n",
       "    </tr>\n",
       "    <tr>\n",
       "      <th>4</th>\n",
       "      <td>0</td>\n",
       "      <td>3</td>\n",
       "      <td>0</td>\n",
       "      <td>0</td>\n",
       "      <td>0.0</td>\n",
       "      <td>1.0</td>\n",
       "      <td>0.0</td>\n",
       "      <td>0.0</td>\n",
       "      <td>0.0</td>\n",
       "      <td>0.0</td>\n",
       "      <td>1.0</td>\n",
       "      <td>0.0</td>\n",
       "      <td>0.0</td>\n",
       "      <td>0.0</td>\n",
       "      <td>1.0</td>\n",
       "      <td>-0.048409</td>\n",
       "    </tr>\n",
       "  </tbody>\n",
       "</table>\n",
       "</div>"
      ],
      "text/plain": [
       "   Survived  Pclass  Age_Cut  Family_Size  female  male  Master  Misc_Female  \\\n",
       "0         0       3        3            1     0.0   1.0     0.0          0.0   \n",
       "1         1       1        0            1     1.0   0.0     0.0          0.0   \n",
       "2         1       3        3            0     1.0   0.0     0.0          0.0   \n",
       "3         1       1        0            1     1.0   0.0     0.0          0.0   \n",
       "4         0       3        0            0     0.0   1.0     0.0          0.0   \n",
       "\n",
       "   Misc_Male  Miss   Mr  Mrs    C    Q    S  Fare_PerPerson_scale  \n",
       "0        0.0   0.0  1.0  0.0  0.0  0.0  1.0             -0.096819  \n",
       "1        0.0   0.0  0.0  1.0  1.0  0.0  0.0              3.777952  \n",
       "2        0.0   1.0  0.0  0.0  0.0  0.0  1.0             -0.055973  \n",
       "3        0.0   0.0  0.0  1.0  0.0  0.0  1.0              1.071059  \n",
       "4        0.0   0.0  1.0  0.0  0.0  0.0  1.0             -0.048409  "
      ]
     },
     "execution_count": 125,
     "metadata": {},
     "output_type": "execute_result"
    }
   ],
   "source": [
    "df_train.head()"
   ]
  },
  {
   "cell_type": "code",
   "execution_count": 126,
   "metadata": {},
   "outputs": [
    {
     "data": {
      "text/html": [
       "<div>\n",
       "<style scoped>\n",
       "    .dataframe tbody tr th:only-of-type {\n",
       "        vertical-align: middle;\n",
       "    }\n",
       "\n",
       "    .dataframe tbody tr th {\n",
       "        vertical-align: top;\n",
       "    }\n",
       "\n",
       "    .dataframe thead th {\n",
       "        text-align: right;\n",
       "    }\n",
       "</style>\n",
       "<table border=\"1\" class=\"dataframe\">\n",
       "  <thead>\n",
       "    <tr style=\"text-align: right;\">\n",
       "      <th></th>\n",
       "      <th>female</th>\n",
       "      <th>male</th>\n",
       "      <th>Master</th>\n",
       "      <th>Misc_Female</th>\n",
       "      <th>Misc_Male</th>\n",
       "      <th>Miss</th>\n",
       "      <th>Mr</th>\n",
       "      <th>Mrs</th>\n",
       "      <th>Cherbourg</th>\n",
       "      <th>Queenstown</th>\n",
       "      <th>Southampton</th>\n",
       "      <th>Age_Cut</th>\n",
       "      <th>Fare_PerPerson</th>\n",
       "      <th>PassengerId</th>\n",
       "      <th>Pclass</th>\n",
       "      <th>Family_Size</th>\n",
       "    </tr>\n",
       "  </thead>\n",
       "  <tbody>\n",
       "    <tr>\n",
       "      <th>0</th>\n",
       "      <td>0.0</td>\n",
       "      <td>1.0</td>\n",
       "      <td>0.0</td>\n",
       "      <td>0.0</td>\n",
       "      <td>0.0</td>\n",
       "      <td>0.0</td>\n",
       "      <td>1.0</td>\n",
       "      <td>0.0</td>\n",
       "      <td>0.0</td>\n",
       "      <td>1.0</td>\n",
       "      <td>0.0</td>\n",
       "      <td>3.0</td>\n",
       "      <td>-0.241808</td>\n",
       "      <td>892.0</td>\n",
       "      <td>3.0</td>\n",
       "      <td>0.0</td>\n",
       "    </tr>\n",
       "    <tr>\n",
       "      <th>1</th>\n",
       "      <td>1.0</td>\n",
       "      <td>0.0</td>\n",
       "      <td>0.0</td>\n",
       "      <td>0.0</td>\n",
       "      <td>0.0</td>\n",
       "      <td>0.0</td>\n",
       "      <td>0.0</td>\n",
       "      <td>1.0</td>\n",
       "      <td>0.0</td>\n",
       "      <td>0.0</td>\n",
       "      <td>1.0</td>\n",
       "      <td>3.0</td>\n",
       "      <td>-0.286161</td>\n",
       "      <td>893.0</td>\n",
       "      <td>3.0</td>\n",
       "      <td>1.0</td>\n",
       "    </tr>\n",
       "    <tr>\n",
       "      <th>2</th>\n",
       "      <td>0.0</td>\n",
       "      <td>1.0</td>\n",
       "      <td>0.0</td>\n",
       "      <td>0.0</td>\n",
       "      <td>0.0</td>\n",
       "      <td>0.0</td>\n",
       "      <td>1.0</td>\n",
       "      <td>0.0</td>\n",
       "      <td>0.0</td>\n",
       "      <td>1.0</td>\n",
       "      <td>0.0</td>\n",
       "      <td>3.0</td>\n",
       "      <td>-0.142412</td>\n",
       "      <td>894.0</td>\n",
       "      <td>2.0</td>\n",
       "      <td>0.0</td>\n",
       "    </tr>\n",
       "    <tr>\n",
       "      <th>3</th>\n",
       "      <td>0.0</td>\n",
       "      <td>1.0</td>\n",
       "      <td>0.0</td>\n",
       "      <td>0.0</td>\n",
       "      <td>0.0</td>\n",
       "      <td>0.0</td>\n",
       "      <td>1.0</td>\n",
       "      <td>0.0</td>\n",
       "      <td>0.0</td>\n",
       "      <td>0.0</td>\n",
       "      <td>1.0</td>\n",
       "      <td>2.0</td>\n",
       "      <td>-0.197237</td>\n",
       "      <td>895.0</td>\n",
       "      <td>3.0</td>\n",
       "      <td>0.0</td>\n",
       "    </tr>\n",
       "    <tr>\n",
       "      <th>4</th>\n",
       "      <td>1.0</td>\n",
       "      <td>0.0</td>\n",
       "      <td>0.0</td>\n",
       "      <td>0.0</td>\n",
       "      <td>0.0</td>\n",
       "      <td>0.0</td>\n",
       "      <td>0.0</td>\n",
       "      <td>1.0</td>\n",
       "      <td>0.0</td>\n",
       "      <td>0.0</td>\n",
       "      <td>1.0</td>\n",
       "      <td>2.0</td>\n",
       "      <td>-0.003343</td>\n",
       "      <td>896.0</td>\n",
       "      <td>3.0</td>\n",
       "      <td>2.0</td>\n",
       "    </tr>\n",
       "  </tbody>\n",
       "</table>\n",
       "</div>"
      ],
      "text/plain": [
       "   female  male  Master  Misc_Female  Misc_Male  Miss   Mr  Mrs  Cherbourg  \\\n",
       "0     0.0   1.0     0.0          0.0        0.0   0.0  1.0  0.0        0.0   \n",
       "1     1.0   0.0     0.0          0.0        0.0   0.0  0.0  1.0        0.0   \n",
       "2     0.0   1.0     0.0          0.0        0.0   0.0  1.0  0.0        0.0   \n",
       "3     0.0   1.0     0.0          0.0        0.0   0.0  1.0  0.0        0.0   \n",
       "4     1.0   0.0     0.0          0.0        0.0   0.0  0.0  1.0        0.0   \n",
       "\n",
       "   Queenstown  Southampton  Age_Cut  Fare_PerPerson  PassengerId  Pclass  \\\n",
       "0         1.0          0.0      3.0       -0.241808        892.0     3.0   \n",
       "1         0.0          1.0      3.0       -0.286161        893.0     3.0   \n",
       "2         1.0          0.0      3.0       -0.142412        894.0     2.0   \n",
       "3         0.0          1.0      2.0       -0.197237        895.0     3.0   \n",
       "4         0.0          1.0      2.0       -0.003343        896.0     3.0   \n",
       "\n",
       "   Family_Size  \n",
       "0          0.0  \n",
       "1          1.0  \n",
       "2          0.0  \n",
       "3          0.0  \n",
       "4          2.0  "
      ]
     },
     "execution_count": 126,
     "metadata": {},
     "output_type": "execute_result"
    }
   ],
   "source": [
    "df_test_final.head()"
   ]
  },
  {
   "cell_type": "code",
   "execution_count": 127,
   "metadata": {},
   "outputs": [],
   "source": [
    "#rearranging the feature column according to train dataset\n",
    "\n",
    "df_test_final = df_test_final[['Pclass','Age_Cut','Family_Size','female','male','Master','Misc_Female','Misc_Male','Miss','Mr','Mrs','Cherbourg','Queenstown','Southampton','Fare_PerPerson']]"
   ]
  },
  {
   "cell_type": "code",
   "execution_count": 128,
   "metadata": {},
   "outputs": [
    {
     "data": {
      "text/html": [
       "<div>\n",
       "<style scoped>\n",
       "    .dataframe tbody tr th:only-of-type {\n",
       "        vertical-align: middle;\n",
       "    }\n",
       "\n",
       "    .dataframe tbody tr th {\n",
       "        vertical-align: top;\n",
       "    }\n",
       "\n",
       "    .dataframe thead th {\n",
       "        text-align: right;\n",
       "    }\n",
       "</style>\n",
       "<table border=\"1\" class=\"dataframe\">\n",
       "  <thead>\n",
       "    <tr style=\"text-align: right;\">\n",
       "      <th></th>\n",
       "      <th>Pclass</th>\n",
       "      <th>Age_Cut</th>\n",
       "      <th>Family_Size</th>\n",
       "      <th>female</th>\n",
       "      <th>male</th>\n",
       "      <th>Master</th>\n",
       "      <th>Misc_Female</th>\n",
       "      <th>Misc_Male</th>\n",
       "      <th>Miss</th>\n",
       "      <th>Mr</th>\n",
       "      <th>Mrs</th>\n",
       "      <th>Cherbourg</th>\n",
       "      <th>Queenstown</th>\n",
       "      <th>Southampton</th>\n",
       "      <th>Fare_PerPerson</th>\n",
       "    </tr>\n",
       "  </thead>\n",
       "  <tbody>\n",
       "    <tr>\n",
       "      <th>0</th>\n",
       "      <td>3.0</td>\n",
       "      <td>3.0</td>\n",
       "      <td>0.0</td>\n",
       "      <td>0.0</td>\n",
       "      <td>1.0</td>\n",
       "      <td>0.0</td>\n",
       "      <td>0.0</td>\n",
       "      <td>0.0</td>\n",
       "      <td>0.0</td>\n",
       "      <td>1.0</td>\n",
       "      <td>0.0</td>\n",
       "      <td>0.0</td>\n",
       "      <td>1.0</td>\n",
       "      <td>0.0</td>\n",
       "      <td>-0.241808</td>\n",
       "    </tr>\n",
       "    <tr>\n",
       "      <th>1</th>\n",
       "      <td>3.0</td>\n",
       "      <td>3.0</td>\n",
       "      <td>1.0</td>\n",
       "      <td>1.0</td>\n",
       "      <td>0.0</td>\n",
       "      <td>0.0</td>\n",
       "      <td>0.0</td>\n",
       "      <td>0.0</td>\n",
       "      <td>0.0</td>\n",
       "      <td>0.0</td>\n",
       "      <td>1.0</td>\n",
       "      <td>0.0</td>\n",
       "      <td>0.0</td>\n",
       "      <td>1.0</td>\n",
       "      <td>-0.286161</td>\n",
       "    </tr>\n",
       "    <tr>\n",
       "      <th>2</th>\n",
       "      <td>2.0</td>\n",
       "      <td>3.0</td>\n",
       "      <td>0.0</td>\n",
       "      <td>0.0</td>\n",
       "      <td>1.0</td>\n",
       "      <td>0.0</td>\n",
       "      <td>0.0</td>\n",
       "      <td>0.0</td>\n",
       "      <td>0.0</td>\n",
       "      <td>1.0</td>\n",
       "      <td>0.0</td>\n",
       "      <td>0.0</td>\n",
       "      <td>1.0</td>\n",
       "      <td>0.0</td>\n",
       "      <td>-0.142412</td>\n",
       "    </tr>\n",
       "    <tr>\n",
       "      <th>3</th>\n",
       "      <td>3.0</td>\n",
       "      <td>2.0</td>\n",
       "      <td>0.0</td>\n",
       "      <td>0.0</td>\n",
       "      <td>1.0</td>\n",
       "      <td>0.0</td>\n",
       "      <td>0.0</td>\n",
       "      <td>0.0</td>\n",
       "      <td>0.0</td>\n",
       "      <td>1.0</td>\n",
       "      <td>0.0</td>\n",
       "      <td>0.0</td>\n",
       "      <td>0.0</td>\n",
       "      <td>1.0</td>\n",
       "      <td>-0.197237</td>\n",
       "    </tr>\n",
       "    <tr>\n",
       "      <th>4</th>\n",
       "      <td>3.0</td>\n",
       "      <td>2.0</td>\n",
       "      <td>2.0</td>\n",
       "      <td>1.0</td>\n",
       "      <td>0.0</td>\n",
       "      <td>0.0</td>\n",
       "      <td>0.0</td>\n",
       "      <td>0.0</td>\n",
       "      <td>0.0</td>\n",
       "      <td>0.0</td>\n",
       "      <td>1.0</td>\n",
       "      <td>0.0</td>\n",
       "      <td>0.0</td>\n",
       "      <td>1.0</td>\n",
       "      <td>-0.003343</td>\n",
       "    </tr>\n",
       "  </tbody>\n",
       "</table>\n",
       "</div>"
      ],
      "text/plain": [
       "   Pclass  Age_Cut  Family_Size  female  male  Master  Misc_Female  Misc_Male  \\\n",
       "0     3.0      3.0          0.0     0.0   1.0     0.0          0.0        0.0   \n",
       "1     3.0      3.0          1.0     1.0   0.0     0.0          0.0        0.0   \n",
       "2     2.0      3.0          0.0     0.0   1.0     0.0          0.0        0.0   \n",
       "3     3.0      2.0          0.0     0.0   1.0     0.0          0.0        0.0   \n",
       "4     3.0      2.0          2.0     1.0   0.0     0.0          0.0        0.0   \n",
       "\n",
       "   Miss   Mr  Mrs  Cherbourg  Queenstown  Southampton  Fare_PerPerson  \n",
       "0   0.0  1.0  0.0        0.0         1.0          0.0       -0.241808  \n",
       "1   0.0  0.0  1.0        0.0         0.0          1.0       -0.286161  \n",
       "2   0.0  1.0  0.0        0.0         1.0          0.0       -0.142412  \n",
       "3   0.0  1.0  0.0        0.0         0.0          1.0       -0.197237  \n",
       "4   0.0  0.0  1.0        0.0         0.0          1.0       -0.003343  "
      ]
     },
     "execution_count": 128,
     "metadata": {},
     "output_type": "execute_result"
    }
   ],
   "source": [
    "df_test_final.head()"
   ]
  },
  {
   "cell_type": "code",
   "execution_count": 129,
   "metadata": {},
   "outputs": [
    {
     "data": {
      "text/plain": [
       "(891, 16)"
      ]
     },
     "execution_count": 129,
     "metadata": {},
     "output_type": "execute_result"
    }
   ],
   "source": [
    "df_train.shape"
   ]
  },
  {
   "cell_type": "code",
   "execution_count": 130,
   "metadata": {},
   "outputs": [
    {
     "data": {
      "text/plain": [
       "(418, 15)"
      ]
     },
     "execution_count": 130,
     "metadata": {},
     "output_type": "execute_result"
    }
   ],
   "source": [
    "df_test_final.shape"
   ]
  },
  {
   "cell_type": "code",
   "execution_count": 131,
   "metadata": {},
   "outputs": [
    {
     "data": {
      "text/plain": [
       "Pclass            0\n",
       "Age_Cut           0\n",
       "Family_Size       0\n",
       "female            0\n",
       "male              0\n",
       "Master            0\n",
       "Misc_Female       0\n",
       "Misc_Male         0\n",
       "Miss              0\n",
       "Mr                0\n",
       "Mrs               0\n",
       "Cherbourg         0\n",
       "Queenstown        0\n",
       "Southampton       0\n",
       "Fare_PerPerson    0\n",
       "dtype: int64"
      ]
     },
     "execution_count": 131,
     "metadata": {},
     "output_type": "execute_result"
    }
   ],
   "source": [
    "df_test_final.isnull().sum()"
   ]
  },
  {
   "cell_type": "markdown",
   "metadata": {
    "papermill": {
     "duration": 0.133872,
     "end_time": "2021-09-21T09:14:45.191279",
     "exception": false,
     "start_time": "2021-09-21T09:14:45.057407",
     "status": "completed"
    },
    "tags": []
   },
   "source": [
    "# 7. Machine Learning Model"
   ]
  },
  {
   "cell_type": "markdown",
   "metadata": {},
   "source": [
    "### Choosing the dataframe for the machine learning algorithm"
   ]
  },
  {
   "cell_type": "code",
   "execution_count": 132,
   "metadata": {
    "execution": {
     "iopub.execute_input": "2021-09-21T09:14:45.468040Z",
     "iopub.status.busy": "2021-09-21T09:14:45.467328Z",
     "iopub.status.idle": "2021-09-21T09:14:45.470786Z",
     "shell.execute_reply": "2021-09-21T09:14:45.470222Z",
     "shell.execute_reply.started": "2021-09-21T09:07:49.956103Z"
    },
    "papermill": {
     "duration": 0.144735,
     "end_time": "2021-09-21T09:14:45.470927",
     "exception": false,
     "start_time": "2021-09-21T09:14:45.326192",
     "status": "completed"
    },
    "tags": []
   },
   "outputs": [],
   "source": [
    "# Separate the dataframe into predictor and target feature\n",
    "X = df_train.drop('Survived',axis = 1)\n",
    "Y = df_train.Survived"
   ]
  },
  {
   "cell_type": "markdown",
   "metadata": {},
   "source": [
    "### Split the selected dataframe to train and validation set"
   ]
  },
  {
   "cell_type": "code",
   "execution_count": 133,
   "metadata": {
    "execution": {
     "iopub.execute_input": "2021-09-21T09:14:45.748320Z",
     "iopub.status.busy": "2021-09-21T09:14:45.746434Z",
     "iopub.status.idle": "2021-09-21T09:14:45.751528Z",
     "shell.execute_reply": "2021-09-21T09:14:45.752305Z",
     "shell.execute_reply.started": "2021-09-21T09:07:49.971763Z"
    },
    "papermill": {
     "duration": 0.147442,
     "end_time": "2021-09-21T09:14:45.752551",
     "exception": false,
     "start_time": "2021-09-21T09:14:45.605109",
     "status": "completed"
    },
    "tags": []
   },
   "outputs": [
    {
     "name": "stdout",
     "output_type": "stream",
     "text": [
      "Train set: (712, 15) (712,)\n",
      "Validation set: (179, 15) (179,)\n"
     ]
    }
   ],
   "source": [
    "# split the dataset with a ratio of 80:20\n",
    "\n",
    "from sklearn.model_selection import train_test_split\n",
    "X_train, X_valid, Y_train, Y_valid = train_test_split( X, Y, test_size=0.2, random_state=0)\n",
    "print ('Train set:', X_train.shape,  Y_train.shape)\n",
    "print ('Validation set:', X_valid.shape,  Y_valid.shape)"
   ]
  },
  {
   "cell_type": "markdown",
   "metadata": {},
   "source": [
    "### Fit the training set and observe the accuracy score on training and validation set"
   ]
  },
  {
   "cell_type": "code",
   "execution_count": 134,
   "metadata": {},
   "outputs": [],
   "source": [
    "# The date time will contains hour,minute, second and microsecond\n",
    "from datetime import datetime"
   ]
  },
  {
   "cell_type": "code",
   "execution_count": 135,
   "metadata": {},
   "outputs": [
    {
     "name": "stdout",
     "output_type": "stream",
     "text": [
      "Logistic Regression Accuracy Score:\n",
      "----------------\n",
      "Training set: 83.99 %\n",
      "Validation set: 81.01 %\n",
      "Running time: 0:00:00.040890\n"
     ]
    }
   ],
   "source": [
    "#Logistic Regression\n",
    "\n",
    "start_time = datetime.now()\n",
    "log = LogisticRegression(random_state=0)\n",
    "log.fit(X_train, Y_train)\n",
    "trainscore_log = round(log.score(X_train,Y_train)*100,2)\n",
    "validscore_log = round(log.score(X_valid,Y_valid)*100,2)\n",
    "end_time = datetime.now()\n",
    "\n",
    "print('Logistic Regression Accuracy Score:')\n",
    "print('----------------')\n",
    "print('Training set:', str(trainscore_log), '%')\n",
    "print('Validation set:', str(validscore_log), '%')\n",
    "print('Running time: {}'.format(end_time - start_time))"
   ]
  },
  {
   "cell_type": "code",
   "execution_count": 136,
   "metadata": {},
   "outputs": [
    {
     "name": "stdout",
     "output_type": "stream",
     "text": [
      "K Neighbours Accuracy Score:\n",
      "----------------\n",
      "Training set: 84.83 %\n",
      "Validation set: 84.36 %\n",
      "Running time: 0:00:00.049867\n"
     ]
    }
   ],
   "source": [
    "#K Neighbours\n",
    "\n",
    "start_time = datetime.now()\n",
    "knn = KNeighborsClassifier(n_neighbors = 5, metric ='minkowski', p=2)\n",
    "knn.fit(X_train, Y_train)\n",
    "trainscore_knn = round(knn.score(X_train,Y_train)*100,2)\n",
    "validscore_knn = round(knn.score(X_valid,Y_valid)*100,2)\n",
    "end_time = datetime.now()\n",
    "\n",
    "print('K Neighbours Accuracy Score:')\n",
    "print('----------------')\n",
    "print('Training set:', str(trainscore_knn), '%')\n",
    "print('Validation set:', str(validscore_knn), '%')\n",
    "print('Running time: {}'.format(end_time - start_time))"
   ]
  },
  {
   "cell_type": "code",
   "execution_count": 137,
   "metadata": {},
   "outputs": [
    {
     "name": "stdout",
     "output_type": "stream",
     "text": [
      "SVC Linear Kernel Accuracy Score:\n",
      "----------------\n",
      "Training set: 82.72 %\n",
      "Validation set: 82.68 %\n",
      "Running time: 0:00:00.034907\n"
     ]
    }
   ],
   "source": [
    "#Support Vector Machine - Linear Kernel\n",
    "\n",
    "start_time = datetime.now()\n",
    "svc_lin = SVC(kernel='linear',random_state=0)\n",
    "svc_lin.fit(X_train, Y_train)\n",
    "trainscore_svc_lin = round(svc_lin.score(X_train,Y_train)*100,2)\n",
    "validscore_svc_lin = round(svc_lin.score(X_valid,Y_valid)*100,2)\n",
    "end_time = datetime.now()\n",
    "\n",
    "print('SVC Linear Kernel Accuracy Score:')\n",
    "print('----------------')\n",
    "print('Training set:', str(trainscore_svc_lin), '%')\n",
    "print('Validation set:', str(validscore_svc_lin), '%')\n",
    "print('Running time: {}'.format(end_time - start_time))"
   ]
  },
  {
   "cell_type": "code",
   "execution_count": 138,
   "metadata": {},
   "outputs": [
    {
     "name": "stdout",
     "output_type": "stream",
     "text": [
      "SVC RBF Kernel Accuracy Score:\n",
      "----------------\n",
      "Training set: 83.71 %\n",
      "Validation set: 82.68 %\n",
      "Running time: 0:00:00.037898\n"
     ]
    }
   ],
   "source": [
    "#Support Vector Machine - RBF Kernel\n",
    "\n",
    "start_time = datetime.now()\n",
    "svc_rbf = SVC(kernel='rbf',random_state=0)\n",
    "svc_rbf.fit(X_train, Y_train)\n",
    "trainscore_svc_rbf = round(svc_rbf.score(X_train,Y_train)*100,2)\n",
    "validscore_svc_rbf = round(svc_rbf.score(X_valid,Y_valid)*100,2)\n",
    "end_time = datetime.now()\n",
    "\n",
    "print('SVC RBF Kernel Accuracy Score:')\n",
    "print('----------------')\n",
    "print('Training set:', str(trainscore_svc_rbf), '%')\n",
    "print('Validation set:', str(validscore_svc_rbf), '%')\n",
    "print('Running time: {}'.format(end_time - start_time))"
   ]
  },
  {
   "cell_type": "code",
   "execution_count": 139,
   "metadata": {},
   "outputs": [
    {
     "name": "stdout",
     "output_type": "stream",
     "text": [
      "Gaussian Naive Bayes Accuracy Score:\n",
      "----------------\n",
      "Training set: 80.48 %\n",
      "Validation set: 82.68 %\n",
      "Running time: 0:00:00.011960\n"
     ]
    }
   ],
   "source": [
    "#Gaussian Naive Bayes\n",
    "\n",
    "start_time = datetime.now()\n",
    "gauss = GaussianNB()\n",
    "gauss.fit(X_train, Y_train)\n",
    "trainscore_gauss = round(gauss.score(X_train,Y_train)*100,2)\n",
    "validscore_gauss = round(gauss.score(X_valid,Y_valid)*100,2)\n",
    "end_time = datetime.now()\n",
    "\n",
    "print('Gaussian Naive Bayes Accuracy Score:')\n",
    "print('----------------')\n",
    "print('Training set:', str(trainscore_gauss), '%')\n",
    "print('Validation set:', str(validscore_gauss), '%')\n",
    "print('Running time: {}'.format(end_time - start_time))"
   ]
  },
  {
   "cell_type": "code",
   "execution_count": 140,
   "metadata": {},
   "outputs": [
    {
     "name": "stdout",
     "output_type": "stream",
     "text": [
      "Decision Trees Accuracy Score:\n",
      "----------------\n",
      "Training set: 94.8 %\n",
      "Validation set: 83.8 %\n",
      "Running time: 0:00:00.008975\n"
     ]
    }
   ],
   "source": [
    "#Decision Trees\n",
    "\n",
    "start_time = datetime.now()\n",
    "tree = DecisionTreeClassifier(criterion ='entropy', random_state =0)\n",
    "tree.fit(X_train, Y_train)\n",
    "trainscore_tree = round(tree.score(X_train,Y_train)*100,2)\n",
    "validscore_tree = round(tree.score(X_valid,Y_valid)*100,2)\n",
    "end_time = datetime.now()\n",
    "\n",
    "print('Decision Trees Accuracy Score:')\n",
    "print('----------------')\n",
    "print('Training set:', str(trainscore_tree), '%')\n",
    "print('Validation set:', str(validscore_tree), '%')\n",
    "print('Running time: {}'.format(end_time - start_time))"
   ]
  },
  {
   "cell_type": "code",
   "execution_count": 141,
   "metadata": {},
   "outputs": [
    {
     "name": "stdout",
     "output_type": "stream",
     "text": [
      "Random Forest Accuracy Score:\n",
      "----------------\n",
      "Training set: 92.98 %\n",
      "Validation set: 83.24 %\n",
      "Running time: 0:00:00.036901\n"
     ]
    }
   ],
   "source": [
    "#Random Forest\n",
    "\n",
    "start_time = datetime.now()\n",
    "forest = RandomForestClassifier(n_estimators = 10, random_state=0, criterion='entropy')\n",
    "forest.fit(X_train, Y_train)\n",
    "trainscore_forest = round(forest.score(X_train,Y_train)*100,2)\n",
    "validscore_forest = round(forest.score(X_valid,Y_valid)*100,2)\n",
    "end_time = datetime.now()\n",
    "\n",
    "print('Random Forest Accuracy Score:')\n",
    "print('----------------')\n",
    "print('Training set:', str(trainscore_forest), '%')\n",
    "print('Validation set:', str(validscore_forest), '%')\n",
    "print('Running time: {}'.format(end_time - start_time))"
   ]
  },
  {
   "cell_type": "code",
   "execution_count": 142,
   "metadata": {},
   "outputs": [
    {
     "name": "stdout",
     "output_type": "stream",
     "text": [
      "Gradient Boost Accuracy Score:\n",
      "----------------\n",
      "Training set: 88.76 %\n",
      "Validation set: 84.36 %\n",
      "Running time: 0:00:00.099433\n"
     ]
    }
   ],
   "source": [
    "#Gradient Boost\n",
    "\n",
    "start_time = datetime.now()\n",
    "gboost = GradientBoostingClassifier(random_state=0)\n",
    "gboost.fit(X_train, Y_train)\n",
    "trainscore_gboost = round(gboost.score(X_train,Y_train)*100,2)\n",
    "validscore_gboost = round(gboost.score(X_valid,Y_valid)*100,2)\n",
    "end_time = datetime.now()\n",
    "\n",
    "print('Gradient Boost Accuracy Score:')\n",
    "print('----------------')\n",
    "print('Training set:', str(trainscore_gboost), '%')\n",
    "print('Validation set:', str(validscore_gboost), '%')\n",
    "print('Running time: {}'.format(end_time - start_time))"
   ]
  },
  {
   "cell_type": "code",
   "execution_count": 143,
   "metadata": {},
   "outputs": [
    {
     "name": "stdout",
     "output_type": "stream",
     "text": [
      "[16:33:02] WARNING: C:/Users/Administrator/workspace/xgboost-win64_release_1.4.0/src/learner.cc:1095: Starting in XGBoost 1.3.0, the default evaluation metric used with the objective 'binary:logistic' was changed from 'error' to 'logloss'. Explicitly set eval_metric if you'd like to restore the old behavior.\n",
      "XGBoost Accuracy Score:\n",
      "----------------\n",
      "Training set: 93.54 %\n",
      "Validation set: 83.8 %\n",
      "Running time: 0:00:01.087504\n"
     ]
    }
   ],
   "source": [
    "#XGBoost Classifier\n",
    "\n",
    "start_time = datetime.now()\n",
    "xgboost = XGBClassifier(random_state=0, use_label_encoder=False)\n",
    "xgboost.fit(X_train, Y_train)\n",
    "trainscore_xgboost = round(xgboost.score(X_train,Y_train)*100,2)\n",
    "validscore_xgboost = round(xgboost.score(X_valid,Y_valid)*100,2)\n",
    "end_time = datetime.now()\n",
    "\n",
    "print('XGBoost Accuracy Score:')\n",
    "print('----------------')\n",
    "print('Training set:', str(trainscore_xgboost), '%')\n",
    "print('Validation set:', str(validscore_xgboost), '%')\n",
    "print('Running time: {}'.format(end_time - start_time))"
   ]
  },
  {
   "cell_type": "markdown",
   "metadata": {},
   "source": [
    "### Fit the training set and observe the accuracy score using the cross validation"
   ]
  },
  {
   "cell_type": "code",
   "execution_count": 144,
   "metadata": {},
   "outputs": [],
   "source": [
    "# Create a function with potential machine learning algorithm\n",
    "def ml_models_cv(X, Y, CV):\n",
    "    \n",
    "    #LogisticRegression\n",
    "    log = LogisticRegression(random_state=0)\n",
    "    log1 = cross_val_score(log,X,Y, cv=CV, n_jobs=-1)\n",
    "        \n",
    "    #KNeighbors\n",
    "    knn = KNeighborsClassifier(n_neighbors = 5, metric ='minkowski', p=2)\n",
    "    knn1 = cross_val_score(knn,X,Y, cv=CV, n_jobs=-1)\n",
    "        \n",
    "    #Support Vector Machine - Linear Kernel\n",
    "    svc_lin = SVC(kernel='linear',random_state=0)\n",
    "    svc_lin1 = cross_val_score(svc_lin,X,Y, cv=CV, n_jobs=-1)\n",
    "        \n",
    "    #Support Vector Machine - RBF Kernel\n",
    "    svc_rbf = SVC(kernel='rbf',random_state=0)\n",
    "    svc_rbf1 = cross_val_score(svc_rbf,X,Y, cv=CV, n_jobs=-1)\n",
    "        \n",
    "    #Gaussian Naive Bayes\n",
    "    gauss = GaussianNB()\n",
    "    gauss1 = cross_val_score(gauss,X,Y, cv=CV, n_jobs=-1)\n",
    "        \n",
    "    #Decision Trees\n",
    "    tree = DecisionTreeClassifier(max_depth = 5, criterion ='entropy', random_state =0)\n",
    "    tree1 = cross_val_score(tree,X,Y, cv=CV, n_jobs=-1)\n",
    "        \n",
    "    #Random Forest\n",
    "    forest = RandomForestClassifier(n_estimators = 5,criterion ='entropy', random_state=0)\n",
    "    forest1 = cross_val_score(forest,X,Y, cv=CV, n_jobs=-1)\n",
    "    \n",
    "    #Gradient Boost\n",
    "    gboost = GradientBoostingClassifier(random_state=0)\n",
    "    gboost1 = cross_val_score(gboost,X,Y, cv=CV, n_jobs=-1)\n",
    "    \n",
    "    #XG Boost\n",
    "    xgboost = XGBClassifier(random_state=0)\n",
    "    xgboost1 = cross_val_score(xgboost,X,Y, cv=CV, n_jobs=-1)\n",
    "    \n",
    "    #Print the accuracy for each model\n",
    "    print('Model Training Accuracy with a Cross Validation of', str(CV), 'fold')\n",
    "    print('[0]Logistic Regression: ', round(log1.mean()*100,2), '%')\n",
    "    print('[1]K Neighbours: ', round(knn1.mean()*100,2), '%')\n",
    "    print('[2]SVC Linear Vector: ', round(svc_lin1.mean()*100,2), '%')\n",
    "    print('[3]SVC RBF Vector: ', round(svc_rbf1.mean()*100,2), '%')\n",
    "    print('[4]Gaussian Naive Bayes: ', round(gauss1.mean()*100,2), '%')\n",
    "    print('[5]Decision Trees: ', round(tree1.mean()*100,2), '%')\n",
    "    print('[6]Random Forest: ', round(forest1.mean()*100,2), '%')\n",
    "    print('[7]Gradient Boost: ', round(gboost1.mean()*100,2), '%')\n",
    "    print('[8]XG Boost: ', round(xgboost1.mean()*100,2), '%')\n",
    "    \n",
    "    return log1,knn1,svc_lin1,svc_rbf1, gauss1, tree1, forest1, gboost1, xgboost1"
   ]
  },
  {
   "cell_type": "code",
   "execution_count": 145,
   "metadata": {},
   "outputs": [
    {
     "name": "stdout",
     "output_type": "stream",
     "text": [
      "Model Training Accuracy with a Cross Validation of 10 fold\n",
      "[0]Logistic Regression:  81.93 %\n",
      "[1]K Neighbours:  81.6 %\n",
      "[2]SVC Linear Vector:  82.27 %\n",
      "[3]SVC RBF Vector:  83.17 %\n",
      "[4]Gaussian Naive Bayes:  78.12 %\n",
      "[5]Decision Trees:  81.71 %\n",
      "[6]Random Forest:  79.01 %\n",
      "[7]Gradient Boost:  82.72 %\n",
      "[8]XG Boost:  81.03 %\n"
     ]
    }
   ],
   "source": [
    "models_cv = ml_models_cv(X,Y,10)"
   ]
  },
  {
   "cell_type": "markdown",
   "metadata": {},
   "source": [
    "# 8. Hyper Parameter Tuning"
   ]
  },
  {
   "cell_type": "markdown",
   "metadata": {},
   "source": [
    "### Model 1: Logistic Regression"
   ]
  },
  {
   "cell_type": "code",
   "execution_count": 146,
   "metadata": {},
   "outputs": [
    {
     "data": {
      "text/plain": [
       "dict_keys(['C', 'class_weight', 'dual', 'fit_intercept', 'intercept_scaling', 'l1_ratio', 'max_iter', 'multi_class', 'n_jobs', 'penalty', 'random_state', 'solver', 'tol', 'verbose', 'warm_start'])"
      ]
     },
     "execution_count": 146,
     "metadata": {},
     "output_type": "execute_result"
    }
   ],
   "source": [
    "#View parameter for Logistic Regression\n",
    "log = LogisticRegression()\n",
    "log.get_params().keys()"
   ]
  },
  {
   "cell_type": "code",
   "execution_count": 147,
   "metadata": {},
   "outputs": [],
   "source": [
    "#Define the paramter for logistic regression\n",
    "parameters_log = { 'penalty' : ['l1','l2','elasticnet','none'],\n",
    "                   'C' : [0.01,0.1,1,10,100],\n",
    "                   'solver' : ['lbfgs','newton-cg','liblinear'],\n",
    "                    'max_iter' : [100,1000,2500,5000]}\n",
    "\n",
    "#Setup GridSearchCV\n",
    "grid_log = GridSearchCV(log, param_grid = parameters_log, cv = 10, verbose=True, n_jobs=-1)"
   ]
  },
  {
   "cell_type": "code",
   "execution_count": 148,
   "metadata": {},
   "outputs": [
    {
     "name": "stdout",
     "output_type": "stream",
     "text": [
      "Fitting 10 folds for each of 240 candidates, totalling 2400 fits\n"
     ]
    },
    {
     "name": "stderr",
     "output_type": "stream",
     "text": [
      "[Parallel(n_jobs=-1)]: Using backend LokyBackend with 8 concurrent workers.\n",
      "[Parallel(n_jobs=-1)]: Done  60 tasks      | elapsed:    0.1s\n",
      "[Parallel(n_jobs=-1)]: Done 2274 tasks      | elapsed:    4.9s\n",
      "[Parallel(n_jobs=-1)]: Done 2400 out of 2400 | elapsed:    5.1s finished\n"
     ]
    },
    {
     "data": {
      "text/plain": [
       "GridSearchCV(cv=10, estimator=LogisticRegression(), n_jobs=-1,\n",
       "             param_grid={'C': [0.01, 0.1, 1, 10, 100],\n",
       "                         'max_iter': [100, 1000, 2500, 5000],\n",
       "                         'penalty': ['l1', 'l2', 'elasticnet', 'none'],\n",
       "                         'solver': ['lbfgs', 'newton-cg', 'liblinear']},\n",
       "             verbose=True)"
      ]
     },
     "execution_count": 148,
     "metadata": {},
     "output_type": "execute_result"
    }
   ],
   "source": [
    "grid_log.fit(X,Y)"
   ]
  },
  {
   "cell_type": "code",
   "execution_count": 149,
   "metadata": {},
   "outputs": [
    {
     "data": {
      "text/plain": [
       "{'C': 1, 'max_iter': 100, 'penalty': 'l1', 'solver': 'liblinear'}"
      ]
     },
     "execution_count": 149,
     "metadata": {},
     "output_type": "execute_result"
    }
   ],
   "source": [
    "grid_log.best_params_"
   ]
  },
  {
   "cell_type": "code",
   "execution_count": 150,
   "metadata": {},
   "outputs": [
    {
     "data": {
      "text/plain": [
       "LogisticRegression(C=1, penalty='l1', solver='liblinear')"
      ]
     },
     "execution_count": 150,
     "metadata": {},
     "output_type": "execute_result"
    }
   ],
   "source": [
    "grid_log.best_estimator_"
   ]
  },
  {
   "cell_type": "markdown",
   "metadata": {},
   "source": [
    "### Model 2: K Neighbours"
   ]
  },
  {
   "cell_type": "code",
   "execution_count": 151,
   "metadata": {},
   "outputs": [
    {
     "data": {
      "text/plain": [
       "dict_keys(['algorithm', 'leaf_size', 'metric', 'metric_params', 'n_jobs', 'n_neighbors', 'p', 'weights'])"
      ]
     },
     "execution_count": 151,
     "metadata": {},
     "output_type": "execute_result"
    }
   ],
   "source": [
    "#View parameter for K Neighbors\n",
    "knn = KNeighborsClassifier()\n",
    "knn.get_params().keys()"
   ]
  },
  {
   "cell_type": "code",
   "execution_count": 152,
   "metadata": {},
   "outputs": [],
   "source": [
    "#Define the paramter for K Neighbors\n",
    "parameters_knn = {'n_neighbors' : np.arange(1,200)}\n",
    "\n",
    "#Setup GridSearchCV\n",
    "knn = KNeighborsClassifier()\n",
    "grid_knn = GridSearchCV(knn, param_grid = parameters_knn, cv=10, n_jobs=-1)"
   ]
  },
  {
   "cell_type": "code",
   "execution_count": 153,
   "metadata": {},
   "outputs": [
    {
     "data": {
      "text/plain": [
       "GridSearchCV(cv=10, estimator=KNeighborsClassifier(), n_jobs=-1,\n",
       "             param_grid={'n_neighbors': array([  1,   2,   3,   4,   5,   6,   7,   8,   9,  10,  11,  12,  13,\n",
       "        14,  15,  16,  17,  18,  19,  20,  21,  22,  23,  24,  25,  26,\n",
       "        27,  28,  29,  30,  31,  32,  33,  34,  35,  36,  37,  38,  39,\n",
       "        40,  41,  42,  43,  44,  45,  46,  47,  48,  49,  50,  51,  52,\n",
       "        53,  54,  55,  56,  57,  58,  59,  60,  61,  62,  63,  64,  65,\n",
       "        66,  67,  68,  69,  70,  71,  72,  73,  74,  75,  76,  77,  78,\n",
       "        79,  80,  81,  82,  83,  84,  85,  86,  87,  88,...\n",
       "       105, 106, 107, 108, 109, 110, 111, 112, 113, 114, 115, 116, 117,\n",
       "       118, 119, 120, 121, 122, 123, 124, 125, 126, 127, 128, 129, 130,\n",
       "       131, 132, 133, 134, 135, 136, 137, 138, 139, 140, 141, 142, 143,\n",
       "       144, 145, 146, 147, 148, 149, 150, 151, 152, 153, 154, 155, 156,\n",
       "       157, 158, 159, 160, 161, 162, 163, 164, 165, 166, 167, 168, 169,\n",
       "       170, 171, 172, 173, 174, 175, 176, 177, 178, 179, 180, 181, 182,\n",
       "       183, 184, 185, 186, 187, 188, 189, 190, 191, 192, 193, 194, 195,\n",
       "       196, 197, 198, 199])})"
      ]
     },
     "execution_count": 153,
     "metadata": {},
     "output_type": "execute_result"
    }
   ],
   "source": [
    "grid_knn.fit(X,Y)"
   ]
  },
  {
   "cell_type": "code",
   "execution_count": 154,
   "metadata": {},
   "outputs": [
    {
     "data": {
      "text/plain": [
       "{'n_neighbors': 9}"
      ]
     },
     "execution_count": 154,
     "metadata": {},
     "output_type": "execute_result"
    }
   ],
   "source": [
    "grid_knn.best_params_"
   ]
  },
  {
   "cell_type": "markdown",
   "metadata": {},
   "source": [
    "### Model 3 & 4: Support Vector Machine"
   ]
  },
  {
   "cell_type": "code",
   "execution_count": 155,
   "metadata": {},
   "outputs": [
    {
     "data": {
      "text/plain": [
       "dict_keys(['C', 'break_ties', 'cache_size', 'class_weight', 'coef0', 'decision_function_shape', 'degree', 'gamma', 'kernel', 'max_iter', 'probability', 'random_state', 'shrinking', 'tol', 'verbose'])"
      ]
     },
     "execution_count": 155,
     "metadata": {},
     "output_type": "execute_result"
    }
   ],
   "source": [
    "#View parameter for SVC\n",
    "SVC().get_params().keys()"
   ]
  },
  {
   "cell_type": "code",
   "execution_count": 156,
   "metadata": {},
   "outputs": [],
   "source": [
    "#Define the parameters for SVC\n",
    "parameters_svc = {'C': [0.01,0.1,1,10,100], 'gamma': [1,0.1,0.01, 0.001], 'kernel':['rbf','kernel']}\n",
    "\n",
    "#Setup GridSearchCV\n",
    "svc = SVC(gamma='auto',random_state=0)\n",
    "grid_svc = GridSearchCV(estimator = svc_rbf, param_grid = parameters_svc, cv=10, verbose=2, n_jobs=-1)"
   ]
  },
  {
   "cell_type": "code",
   "execution_count": 157,
   "metadata": {},
   "outputs": [
    {
     "name": "stdout",
     "output_type": "stream",
     "text": [
      "Fitting 10 folds for each of 40 candidates, totalling 400 fits\n"
     ]
    },
    {
     "name": "stderr",
     "output_type": "stream",
     "text": [
      "[Parallel(n_jobs=-1)]: Using backend LokyBackend with 8 concurrent workers.\n",
      "[Parallel(n_jobs=-1)]: Done  34 tasks      | elapsed:    0.1s\n",
      "[Parallel(n_jobs=-1)]: Done 400 out of 400 | elapsed:    1.9s finished\n"
     ]
    },
    {
     "data": {
      "text/plain": [
       "GridSearchCV(cv=10, estimator=SVC(random_state=0), n_jobs=-1,\n",
       "             param_grid={'C': [0.01, 0.1, 1, 10, 100],\n",
       "                         'gamma': [1, 0.1, 0.01, 0.001],\n",
       "                         'kernel': ['rbf', 'kernel']},\n",
       "             verbose=2)"
      ]
     },
     "execution_count": 157,
     "metadata": {},
     "output_type": "execute_result"
    }
   ],
   "source": [
    "grid_svc.fit(X,Y)"
   ]
  },
  {
   "cell_type": "code",
   "execution_count": 158,
   "metadata": {},
   "outputs": [
    {
     "data": {
      "text/plain": [
       "{'C': 10, 'gamma': 0.01, 'kernel': 'rbf'}"
      ]
     },
     "execution_count": 158,
     "metadata": {},
     "output_type": "execute_result"
    }
   ],
   "source": [
    "grid_svc.best_params_"
   ]
  },
  {
   "cell_type": "code",
   "execution_count": 159,
   "metadata": {},
   "outputs": [
    {
     "data": {
      "text/plain": [
       "SVC(C=10, gamma=0.01, random_state=0)"
      ]
     },
     "execution_count": 159,
     "metadata": {},
     "output_type": "execute_result"
    }
   ],
   "source": [
    "grid_svc.best_estimator_"
   ]
  },
  {
   "cell_type": "markdown",
   "metadata": {},
   "source": [
    "### Model 5: Gaussian Naive Bayes"
   ]
  },
  {
   "cell_type": "code",
   "execution_count": 160,
   "metadata": {},
   "outputs": [
    {
     "data": {
      "text/plain": [
       "dict_keys(['priors', 'var_smoothing'])"
      ]
     },
     "execution_count": 160,
     "metadata": {},
     "output_type": "execute_result"
    }
   ],
   "source": [
    "#View parameter for Gaussian\n",
    "gauss = GaussianNB()\n",
    "gauss.get_params().keys()"
   ]
  },
  {
   "cell_type": "code",
   "execution_count": 161,
   "metadata": {},
   "outputs": [],
   "source": [
    "#Define the parameters for Gaussian\n",
    "parameters_gauss = {'var_smoothing': np.logspace(0,-9, num=100)}\n",
    "\n",
    "#Setup GridSearchCV\n",
    "gauss = GaussianNB()\n",
    "grid_gauss = GridSearchCV(estimator = gauss, param_grid = parameters_gauss, cv=10, verbose=2, n_jobs=-1)"
   ]
  },
  {
   "cell_type": "code",
   "execution_count": 162,
   "metadata": {},
   "outputs": [
    {
     "name": "stderr",
     "output_type": "stream",
     "text": [
      "[Parallel(n_jobs=-1)]: Using backend LokyBackend with 8 concurrent workers.\n"
     ]
    },
    {
     "name": "stdout",
     "output_type": "stream",
     "text": [
      "Fitting 10 folds for each of 100 candidates, totalling 1000 fits\n"
     ]
    },
    {
     "name": "stderr",
     "output_type": "stream",
     "text": [
      "[Parallel(n_jobs=-1)]: Done  34 tasks      | elapsed:    0.0s\n",
      "[Parallel(n_jobs=-1)]: Done 892 tasks      | elapsed:    1.6s\n",
      "[Parallel(n_jobs=-1)]: Done 1000 out of 1000 | elapsed:    1.8s finished\n"
     ]
    },
    {
     "data": {
      "text/plain": [
       "GridSearchCV(cv=10, estimator=GaussianNB(), n_jobs=-1,\n",
       "             param_grid={'var_smoothing': array([1.00000000e+00, 8.11130831e-01, 6.57933225e-01, 5.33669923e-01,\n",
       "       4.32876128e-01, 3.51119173e-01, 2.84803587e-01, 2.31012970e-01,\n",
       "       1.87381742e-01, 1.51991108e-01, 1.23284674e-01, 1.00000000e-01,\n",
       "       8.11130831e-02, 6.57933225e-02, 5.33669923e-02, 4.32876128e-02,\n",
       "       3.51119173e-02, 2.848035...\n",
       "       1.23284674e-07, 1.00000000e-07, 8.11130831e-08, 6.57933225e-08,\n",
       "       5.33669923e-08, 4.32876128e-08, 3.51119173e-08, 2.84803587e-08,\n",
       "       2.31012970e-08, 1.87381742e-08, 1.51991108e-08, 1.23284674e-08,\n",
       "       1.00000000e-08, 8.11130831e-09, 6.57933225e-09, 5.33669923e-09,\n",
       "       4.32876128e-09, 3.51119173e-09, 2.84803587e-09, 2.31012970e-09,\n",
       "       1.87381742e-09, 1.51991108e-09, 1.23284674e-09, 1.00000000e-09])},\n",
       "             verbose=2)"
      ]
     },
     "execution_count": 162,
     "metadata": {},
     "output_type": "execute_result"
    }
   ],
   "source": [
    "grid_gauss.fit(X,Y)"
   ]
  },
  {
   "cell_type": "code",
   "execution_count": 163,
   "metadata": {},
   "outputs": [
    {
     "data": {
      "text/plain": [
       "{'var_smoothing': 3.5111917342151277e-08}"
      ]
     },
     "execution_count": 163,
     "metadata": {},
     "output_type": "execute_result"
    }
   ],
   "source": [
    "grid_gauss.best_params_"
   ]
  },
  {
   "cell_type": "code",
   "execution_count": 164,
   "metadata": {},
   "outputs": [
    {
     "data": {
      "text/plain": [
       "GaussianNB(var_smoothing=3.5111917342151277e-08)"
      ]
     },
     "execution_count": 164,
     "metadata": {},
     "output_type": "execute_result"
    }
   ],
   "source": [
    "grid_gauss.best_estimator_"
   ]
  },
  {
   "cell_type": "markdown",
   "metadata": {},
   "source": [
    "### Model 6: Decision Trees"
   ]
  },
  {
   "cell_type": "code",
   "execution_count": 165,
   "metadata": {},
   "outputs": [
    {
     "data": {
      "text/plain": [
       "dict_keys(['ccp_alpha', 'class_weight', 'criterion', 'max_depth', 'max_features', 'max_leaf_nodes', 'min_impurity_decrease', 'min_impurity_split', 'min_samples_leaf', 'min_samples_split', 'min_weight_fraction_leaf', 'presort', 'random_state', 'splitter'])"
      ]
     },
     "execution_count": 165,
     "metadata": {},
     "output_type": "execute_result"
    }
   ],
   "source": [
    "#View parameters for Decision Trees\n",
    "tree = DecisionTreeClassifier()\n",
    "tree.get_params().keys()"
   ]
  },
  {
   "cell_type": "code",
   "execution_count": 166,
   "metadata": {},
   "outputs": [],
   "source": [
    "#Define the parameters for Decision Trees\n",
    "parameters_tree = {'max_depth': [2, 3, 5, 10, 20],\n",
    "                   'min_samples_leaf': [5, 10, 20, 50, 100],\n",
    "                   'criterion': [\"gini\", \"entropy\"]\n",
    "                  }\n",
    "\n",
    "#Setup GridSearchCV\n",
    "tree = DecisionTreeClassifier(random_state = 0)\n",
    "grid_tree = GridSearchCV(tree, param_grid = parameters_tree, cv=10, verbose=2, n_jobs=-1)"
   ]
  },
  {
   "cell_type": "code",
   "execution_count": 167,
   "metadata": {},
   "outputs": [
    {
     "name": "stderr",
     "output_type": "stream",
     "text": [
      "[Parallel(n_jobs=-1)]: Using backend LokyBackend with 8 concurrent workers.\n"
     ]
    },
    {
     "name": "stdout",
     "output_type": "stream",
     "text": [
      "Fitting 10 folds for each of 50 candidates, totalling 500 fits\n"
     ]
    },
    {
     "name": "stderr",
     "output_type": "stream",
     "text": [
      "[Parallel(n_jobs=-1)]: Done  34 tasks      | elapsed:    0.1s\n",
      "[Parallel(n_jobs=-1)]: Done 500 out of 500 | elapsed:    0.8s finished\n"
     ]
    },
    {
     "data": {
      "text/plain": [
       "GridSearchCV(cv=10, estimator=DecisionTreeClassifier(random_state=0), n_jobs=-1,\n",
       "             param_grid={'criterion': ['gini', 'entropy'],\n",
       "                         'max_depth': [2, 3, 5, 10, 20],\n",
       "                         'min_samples_leaf': [5, 10, 20, 50, 100]},\n",
       "             verbose=2)"
      ]
     },
     "execution_count": 167,
     "metadata": {},
     "output_type": "execute_result"
    }
   ],
   "source": [
    "grid_tree.fit(X,Y)"
   ]
  },
  {
   "cell_type": "code",
   "execution_count": 168,
   "metadata": {},
   "outputs": [
    {
     "data": {
      "text/plain": [
       "{'criterion': 'entropy', 'max_depth': 20, 'min_samples_leaf': 5}"
      ]
     },
     "execution_count": 168,
     "metadata": {},
     "output_type": "execute_result"
    }
   ],
   "source": [
    "grid_tree.best_params_"
   ]
  },
  {
   "cell_type": "markdown",
   "metadata": {},
   "source": [
    "### Model 7: Random Forest"
   ]
  },
  {
   "cell_type": "code",
   "execution_count": 169,
   "metadata": {},
   "outputs": [
    {
     "data": {
      "text/plain": [
       "dict_keys(['bootstrap', 'ccp_alpha', 'class_weight', 'criterion', 'max_depth', 'max_features', 'max_leaf_nodes', 'max_samples', 'min_impurity_decrease', 'min_impurity_split', 'min_samples_leaf', 'min_samples_split', 'min_weight_fraction_leaf', 'n_estimators', 'n_jobs', 'oob_score', 'random_state', 'verbose', 'warm_start'])"
      ]
     },
     "execution_count": 169,
     "metadata": {},
     "output_type": "execute_result"
    }
   ],
   "source": [
    "#View parameters for Random Forest\n",
    "forest = RandomForestClassifier()\n",
    "forest.get_params().keys()"
   ]
  },
  {
   "cell_type": "code",
   "execution_count": 170,
   "metadata": {},
   "outputs": [],
   "source": [
    "#Define the parameters for Random Forest\n",
    "parameters_forest = {'max_depth': [2, 3, 5, 10, 20],\n",
    "                   'min_samples_leaf': [5, 10, 20, 50, 100],\n",
    "                   'max_features' : ['auto', 'sqrt'],\n",
    "                   'criterion': [\"gini\", \"entropy\"],\n",
    "                   'bootstrap' : [True,False]\n",
    "                  }\n",
    "\n",
    "#Setup GridSearchCV\n",
    "forest = RandomForestClassifier(random_state = 0)\n",
    "grid_forest = GridSearchCV(forest, param_grid = parameters_forest, cv=10, verbose=2, n_jobs=-1)"
   ]
  },
  {
   "cell_type": "code",
   "execution_count": 171,
   "metadata": {},
   "outputs": [
    {
     "name": "stderr",
     "output_type": "stream",
     "text": [
      "[Parallel(n_jobs=-1)]: Using backend LokyBackend with 8 concurrent workers.\n"
     ]
    },
    {
     "name": "stdout",
     "output_type": "stream",
     "text": [
      "Fitting 10 folds for each of 200 candidates, totalling 2000 fits\n"
     ]
    },
    {
     "name": "stderr",
     "output_type": "stream",
     "text": [
      "[Parallel(n_jobs=-1)]: Done  25 tasks      | elapsed:    1.3s\n",
      "[Parallel(n_jobs=-1)]: Done 146 tasks      | elapsed:    6.7s\n",
      "[Parallel(n_jobs=-1)]: Done 349 tasks      | elapsed:   16.6s\n",
      "[Parallel(n_jobs=-1)]: Done 632 tasks      | elapsed:   30.6s\n",
      "[Parallel(n_jobs=-1)]: Done 997 tasks      | elapsed:   49.6s\n",
      "[Parallel(n_jobs=-1)]: Done 1442 tasks      | elapsed:  1.1min\n",
      "[Parallel(n_jobs=-1)]: Done 1969 tasks      | elapsed:  1.5min\n",
      "[Parallel(n_jobs=-1)]: Done 2000 out of 2000 | elapsed:  1.5min finished\n"
     ]
    },
    {
     "data": {
      "text/plain": [
       "GridSearchCV(cv=10, estimator=RandomForestClassifier(random_state=0), n_jobs=-1,\n",
       "             param_grid={'bootstrap': [True, False],\n",
       "                         'criterion': ['gini', 'entropy'],\n",
       "                         'max_depth': [2, 3, 5, 10, 20],\n",
       "                         'max_features': ['auto', 'sqrt'],\n",
       "                         'min_samples_leaf': [5, 10, 20, 50, 100]},\n",
       "             verbose=2)"
      ]
     },
     "execution_count": 171,
     "metadata": {},
     "output_type": "execute_result"
    }
   ],
   "source": [
    "grid_forest.fit(X,Y)"
   ]
  },
  {
   "cell_type": "code",
   "execution_count": 172,
   "metadata": {},
   "outputs": [
    {
     "data": {
      "text/plain": [
       "{'bootstrap': True,\n",
       " 'criterion': 'entropy',\n",
       " 'max_depth': 20,\n",
       " 'max_features': 'auto',\n",
       " 'min_samples_leaf': 5}"
      ]
     },
     "execution_count": 172,
     "metadata": {},
     "output_type": "execute_result"
    }
   ],
   "source": [
    "grid_forest.best_params_"
   ]
  },
  {
   "cell_type": "markdown",
   "metadata": {},
   "source": [
    "### Model 8: Gradient Boost"
   ]
  },
  {
   "cell_type": "code",
   "execution_count": 173,
   "metadata": {},
   "outputs": [
    {
     "data": {
      "text/plain": [
       "dict_keys(['ccp_alpha', 'criterion', 'init', 'learning_rate', 'loss', 'max_depth', 'max_features', 'max_leaf_nodes', 'min_impurity_decrease', 'min_impurity_split', 'min_samples_leaf', 'min_samples_split', 'min_weight_fraction_leaf', 'n_estimators', 'n_iter_no_change', 'presort', 'random_state', 'subsample', 'tol', 'validation_fraction', 'verbose', 'warm_start'])"
      ]
     },
     "execution_count": 173,
     "metadata": {},
     "output_type": "execute_result"
    }
   ],
   "source": [
    "#View parameters for Gradient Boost\n",
    "gboost = GradientBoostingClassifier()\n",
    "gboost.get_params().keys()"
   ]
  },
  {
   "cell_type": "code",
   "execution_count": 174,
   "metadata": {},
   "outputs": [],
   "source": [
    "#Define the parameters for Gradient Boosting\n",
    "parameters_gboost = {'learning_rate':[0.15,0.1,0.10,0.05], \n",
    "                     'n_estimators' : [100,150,200,250,'none'],\n",
    "                    }\n",
    "\n",
    "#Setup GridSearchCV\n",
    "gboost = GradientBoostingClassifier(random_state = 0)\n",
    "grid_gboost = GridSearchCV(gboost, param_grid = parameters_gboost, cv=10, verbose=2, n_jobs=-1)"
   ]
  },
  {
   "cell_type": "code",
   "execution_count": 175,
   "metadata": {},
   "outputs": [
    {
     "name": "stdout",
     "output_type": "stream",
     "text": [
      "Fitting 10 folds for each of 20 candidates, totalling 200 fits\n"
     ]
    },
    {
     "name": "stderr",
     "output_type": "stream",
     "text": [
      "[Parallel(n_jobs=-1)]: Using backend LokyBackend with 8 concurrent workers.\n",
      "[Parallel(n_jobs=-1)]: Done  25 tasks      | elapsed:    1.0s\n",
      "[Parallel(n_jobs=-1)]: Done 146 tasks      | elapsed:    5.8s\n",
      "[Parallel(n_jobs=-1)]: Done 200 out of 200 | elapsed:    7.8s finished\n"
     ]
    },
    {
     "data": {
      "text/plain": [
       "GridSearchCV(cv=10, estimator=GradientBoostingClassifier(random_state=0),\n",
       "             n_jobs=-1,\n",
       "             param_grid={'learning_rate': [0.15, 0.1, 0.1, 0.05],\n",
       "                         'n_estimators': [100, 150, 200, 250, 'none']},\n",
       "             verbose=2)"
      ]
     },
     "execution_count": 175,
     "metadata": {},
     "output_type": "execute_result"
    }
   ],
   "source": [
    "grid_gboost.fit(X,Y)"
   ]
  },
  {
   "cell_type": "code",
   "execution_count": 176,
   "metadata": {},
   "outputs": [
    {
     "data": {
      "text/plain": [
       "{'learning_rate': 0.1, 'n_estimators': 150}"
      ]
     },
     "execution_count": 176,
     "metadata": {},
     "output_type": "execute_result"
    }
   ],
   "source": [
    "grid_gboost.best_params_"
   ]
  },
  {
   "cell_type": "markdown",
   "metadata": {},
   "source": [
    "### Model 9: XGBoost"
   ]
  },
  {
   "cell_type": "code",
   "execution_count": 177,
   "metadata": {},
   "outputs": [
    {
     "data": {
      "text/plain": [
       "dict_keys(['objective', 'use_label_encoder', 'base_score', 'booster', 'colsample_bylevel', 'colsample_bynode', 'colsample_bytree', 'gamma', 'gpu_id', 'importance_type', 'interaction_constraints', 'learning_rate', 'max_delta_step', 'max_depth', 'min_child_weight', 'missing', 'monotone_constraints', 'n_estimators', 'n_jobs', 'num_parallel_tree', 'random_state', 'reg_alpha', 'reg_lambda', 'scale_pos_weight', 'subsample', 'tree_method', 'validate_parameters', 'verbosity'])"
      ]
     },
     "execution_count": 177,
     "metadata": {},
     "output_type": "execute_result"
    }
   ],
   "source": [
    "#View parameters for XG Boost\n",
    "xgboost = XGBClassifier()\n",
    "xgboost.get_params().keys()"
   ]
  },
  {
   "cell_type": "code",
   "execution_count": 178,
   "metadata": {},
   "outputs": [],
   "source": [
    "#Define the parameters for Gradient Boosting\n",
    "parameters_xgboost = {'n_estimators': [450,500,550],\n",
    "    'colsample_bytree': [0.75,0.8,0.85],\n",
    "    'max_depth': [2, 3, 5, 10, 20],\n",
    "    'reg_alpha': [1],\n",
    "    'reg_lambda': [2, 5, 10],\n",
    "    'subsample': [0.55, 0.6, .65],\n",
    "    'learning_rate':[0.15,0.1,0.10,0.05],\n",
    "    'gamma':[.5,1,2],\n",
    "    'min_child_weight':[0.01]}\n",
    "\n",
    "#Setup GridSearchCV\n",
    "xgboost = XGBClassifier(random_state = 0, use_label_encoder=False)\n",
    "grid_xgboost = RandomizedSearchCV(xgboost, param_distributions = parameters_xgboost, cv=10, verbose=True, n_jobs=-1)"
   ]
  },
  {
   "cell_type": "code",
   "execution_count": 179,
   "metadata": {},
   "outputs": [
    {
     "name": "stdout",
     "output_type": "stream",
     "text": [
      "Fitting 10 folds for each of 10 candidates, totalling 100 fits\n"
     ]
    },
    {
     "name": "stderr",
     "output_type": "stream",
     "text": [
      "[Parallel(n_jobs=-1)]: Using backend LokyBackend with 8 concurrent workers.\n",
      "[Parallel(n_jobs=-1)]: Done  34 tasks      | elapsed:   10.2s\n",
      "[Parallel(n_jobs=-1)]: Done 100 out of 100 | elapsed:   26.2s finished\n"
     ]
    },
    {
     "name": "stdout",
     "output_type": "stream",
     "text": [
      "[16:35:30] WARNING: C:/Users/Administrator/workspace/xgboost-win64_release_1.4.0/src/learner.cc:1095: Starting in XGBoost 1.3.0, the default evaluation metric used with the objective 'binary:logistic' was changed from 'error' to 'logloss'. Explicitly set eval_metric if you'd like to restore the old behavior.\n"
     ]
    },
    {
     "data": {
      "text/plain": [
       "RandomizedSearchCV(cv=10,\n",
       "                   estimator=XGBClassifier(base_score=None, booster=None,\n",
       "                                           colsample_bylevel=None,\n",
       "                                           colsample_bynode=None,\n",
       "                                           colsample_bytree=None, gamma=None,\n",
       "                                           gpu_id=None, importance_type='gain',\n",
       "                                           interaction_constraints=None,\n",
       "                                           learning_rate=None,\n",
       "                                           max_delta_step=None, max_depth=None,\n",
       "                                           min_child_weight=None, missing=nan,\n",
       "                                           monotone_constraints=None,\n",
       "                                           n_estimators=100...\n",
       "                                           subsample=None, tree_method=None,\n",
       "                                           use_label_encoder=False,\n",
       "                                           validate_parameters=None,\n",
       "                                           verbosity=None),\n",
       "                   n_jobs=-1,\n",
       "                   param_distributions={'colsample_bytree': [0.75, 0.8, 0.85],\n",
       "                                        'gamma': [0.5, 1, 2],\n",
       "                                        'learning_rate': [0.15, 0.1, 0.1, 0.05],\n",
       "                                        'max_depth': [2, 3, 5, 10, 20],\n",
       "                                        'min_child_weight': [0.01],\n",
       "                                        'n_estimators': [450, 500, 550],\n",
       "                                        'reg_alpha': [1],\n",
       "                                        'reg_lambda': [2, 5, 10],\n",
       "                                        'subsample': [0.55, 0.6, 0.65]},\n",
       "                   verbose=True)"
      ]
     },
     "execution_count": 179,
     "metadata": {},
     "output_type": "execute_result"
    }
   ],
   "source": [
    "grid_xgboost.fit(X,Y)"
   ]
  },
  {
   "cell_type": "code",
   "execution_count": 180,
   "metadata": {},
   "outputs": [
    {
     "data": {
      "text/plain": [
       "{'subsample': 0.65,\n",
       " 'reg_lambda': 5,\n",
       " 'reg_alpha': 1,\n",
       " 'n_estimators': 500,\n",
       " 'min_child_weight': 0.01,\n",
       " 'max_depth': 3,\n",
       " 'learning_rate': 0.1,\n",
       " 'gamma': 0.5,\n",
       " 'colsample_bytree': 0.8}"
      ]
     },
     "execution_count": 180,
     "metadata": {},
     "output_type": "execute_result"
    }
   ],
   "source": [
    "grid_xgboost.best_params_"
   ]
  },
  {
   "cell_type": "markdown",
   "metadata": {},
   "source": [
    "## Testing accuracy for each model based on the tuning"
   ]
  },
  {
   "cell_type": "markdown",
   "metadata": {},
   "source": [
    "### Model 1: Logistic Regression"
   ]
  },
  {
   "cell_type": "code",
   "execution_count": 181,
   "metadata": {},
   "outputs": [
    {
     "name": "stdout",
     "output_type": "stream",
     "text": [
      "Logistic Regression Accuracy Score with Tuning:\n",
      "----------------\n",
      "Training set: 83.16 %\n",
      "Running time: 0:00:00.009973\n",
      "----------------\n",
      "Validation set with CV of 10: 82.38 %\n",
      "Running time: 0:00:00.022859\n"
     ]
    }
   ],
   "source": [
    "start_time = datetime.now()\n",
    "best_log = LogisticRegression(C=1, penalty='l1', random_state=0, solver='liblinear', max_iter=100)\n",
    "best_log.fit(X, Y)\n",
    "trainscore_best_log = round(best_log.score(X,Y)*100,2)\n",
    "end_time = datetime.now()\n",
    "\n",
    "start_time_cv = datetime.now()\n",
    "best_log_cv = cross_val_score(best_log,X,Y,cv=10, n_jobs=-1)\n",
    "validscore_best_log = round(best_log_cv.mean()*100,2)\n",
    "end_time_cv = datetime.now()\n",
    "\n",
    "print('Logistic Regression Accuracy Score with Tuning:')\n",
    "print('----------------')\n",
    "print('Training set:', str(trainscore_best_log), '%')\n",
    "print('Running time: {}'.format(end_time - start_time))\n",
    "print('----------------')\n",
    "print('Validation set with CV of 10:', str(validscore_best_log), '%')\n",
    "print('Running time: {}'.format(end_time_cv - start_time_cv))"
   ]
  },
  {
   "cell_type": "markdown",
   "metadata": {},
   "source": [
    "### Model 2: K Neighbours"
   ]
  },
  {
   "cell_type": "code",
   "execution_count": 182,
   "metadata": {},
   "outputs": [
    {
     "name": "stdout",
     "output_type": "stream",
     "text": [
      "K Neighbors Accuracy Score with Tuning:\n",
      "----------------\n",
      "Training set: 84.96 %\n",
      "Running time: 0:00:00.099447\n",
      "----------------\n",
      "Validation set with CV of 10: 83.05 %\n",
      "Running time: 0:00:00.053595\n"
     ]
    }
   ],
   "source": [
    "sstart_time = datetime.now()\n",
    "best_knn = KNeighborsClassifier(n_neighbors = 9, metric ='minkowski', p=2)\n",
    "best_knn.fit(X, Y)\n",
    "trainscore_best_knn = round(best_knn.score(X,Y)*100,2)\n",
    "end_time = datetime.now()\n",
    "\n",
    "start_time_cv = datetime.now()\n",
    "best_knn_cv = cross_val_score(best_knn,X,Y,cv=10, n_jobs=-1)\n",
    "validscore_best_knn = round(best_knn_cv.mean()*100,2)\n",
    "end_time_cv = datetime.now()\n",
    "\n",
    "print('K Neighbors Accuracy Score with Tuning:')\n",
    "print('----------------')\n",
    "print('Training set:', str(trainscore_best_knn), '%')\n",
    "print('Running time: {}'.format(end_time - start_time))\n",
    "print('----------------')\n",
    "print('Validation set with CV of 10:', str(validscore_best_knn), '%')\n",
    "print('Running time: {}'.format(end_time_cv - start_time_cv))"
   ]
  },
  {
   "cell_type": "markdown",
   "metadata": {},
   "source": [
    "### Model 3 & 4: Support Vector Classifier"
   ]
  },
  {
   "cell_type": "code",
   "execution_count": 183,
   "metadata": {},
   "outputs": [
    {
     "name": "stdout",
     "output_type": "stream",
     "text": [
      "Support Vector Classifier Accuracy Score with Tuning:\n",
      "----------------\n",
      "Training set: 83.39 %\n",
      "Running time: 0:00:00.206934\n",
      "----------------\n",
      "Validation set with CV of 10: 83.28 %\n",
      "Running time: 0:00:00.076971\n"
     ]
    }
   ],
   "source": [
    "tart_time = datetime.now()\n",
    "best_svc_rbf = SVC(C=10, gamma=0.01, random_state=0, kernel='rbf')\n",
    "best_svc_rbf.fit(X, Y)\n",
    "trainscore_best_svc_rbf = round(best_svc_rbf.score(X,Y)*100,2)\n",
    "end_time = datetime.now()\n",
    "\n",
    "start_time_cv = datetime.now()\n",
    "best_svc_rbf_cv = cross_val_score(best_svc_rbf,X,Y,cv=10, n_jobs=-1)\n",
    "validscore_best_svc_rbf = round(best_svc_rbf_cv.mean()*100,2)\n",
    "end_time_cv = datetime.now()\n",
    "\n",
    "print('Support Vector Classifier Accuracy Score with Tuning:')\n",
    "print('----------------')\n",
    "print('Training set:', str(trainscore_best_svc_rbf), '%')\n",
    "print('Running time: {}'.format(end_time - start_time))\n",
    "print('----------------')\n",
    "print('Validation set with CV of 10:', str(validscore_best_svc_rbf), '%')\n",
    "print('Running time: {}'.format(end_time_cv - start_time_cv))"
   ]
  },
  {
   "cell_type": "markdown",
   "metadata": {},
   "source": [
    "### Model 5: Gaussian Naive Bayes"
   ]
  },
  {
   "cell_type": "code",
   "execution_count": 184,
   "metadata": {},
   "outputs": [
    {
     "name": "stdout",
     "output_type": "stream",
     "text": [
      "Gaussian Naive Bayes Accuracy Score with Tuning:\n",
      "----------------\n",
      "Training set: 81.26 %\n",
      "Running time: 0:00:00\n",
      "----------------\n",
      "Validation set with CV of 10: 81.25 %\n",
      "Running time: 0:00:00.031244\n"
     ]
    }
   ],
   "source": [
    "start_time = datetime.now()\n",
    "best_gauss = GaussianNB(var_smoothing=3.5111917342151277e-08)\n",
    "best_gauss.fit(X, Y)\n",
    "trainscore_best_gauss = round(best_gauss.score(X,Y)*100,2)\n",
    "end_time = datetime.now()\n",
    "\n",
    "start_time_cv = datetime.now()\n",
    "best_gauss_cv = cross_val_score(best_gauss,X,Y,cv=10, n_jobs=-1)\n",
    "validscore_best_gauss = round(best_gauss_cv.mean()*100,2)\n",
    "end_time_cv = datetime.now()\n",
    "\n",
    "print('Gaussian Naive Bayes Accuracy Score with Tuning:')\n",
    "print('----------------')\n",
    "print('Training set:', str(trainscore_best_gauss), '%')\n",
    "print('Running time: {}'.format(end_time - start_time))\n",
    "print('----------------')\n",
    "print('Validation set with CV of 10:', str(validscore_best_gauss), '%')\n",
    "print('Running time: {}'.format(end_time_cv - start_time_cv))"
   ]
  },
  {
   "cell_type": "markdown",
   "metadata": {},
   "source": [
    "### Model 6: Decision Trees"
   ]
  },
  {
   "cell_type": "code",
   "execution_count": 185,
   "metadata": {},
   "outputs": [
    {
     "name": "stdout",
     "output_type": "stream",
     "text": [
      "Decision Trees Accuracy Score with Tuning:\n",
      "----------------\n",
      "Training set: 87.43 %\n",
      "Running time: 0:00:00.002091\n",
      "----------------\n",
      "Validation set with CV of 10: 83.17 %\n",
      "Running time: 0:00:00.031274\n"
     ]
    }
   ],
   "source": [
    "start_time = datetime.now()\n",
    "best_tree = DecisionTreeClassifier(random_state =0, criterion= 'entropy', max_depth = 20, min_samples_leaf = 5)\n",
    "best_tree.fit(X, Y)\n",
    "trainscore_best_tree = round(best_tree.score(X,Y)*100,2)\n",
    "end_time = datetime.now()\n",
    "\n",
    "start_time_cv = datetime.now()\n",
    "best_tree_cv = cross_val_score(best_tree,X,Y,cv=10, n_jobs=-1)\n",
    "validscore_best_tree = round(best_tree_cv.mean()*100,2)\n",
    "end_time_cv = datetime.now()\n",
    "\n",
    "print('Decision Trees Accuracy Score with Tuning:')\n",
    "print('----------------')\n",
    "print('Training set:', str(trainscore_best_tree), '%')\n",
    "print('Running time: {}'.format(end_time - start_time))\n",
    "print('----------------')\n",
    "print('Validation set with CV of 10:', str(validscore_best_tree), '%')\n",
    "print('Running time: {}'.format(end_time_cv - start_time_cv))"
   ]
  },
  {
   "cell_type": "markdown",
   "metadata": {},
   "source": [
    "### Model 7: Random Forest Classifier"
   ]
  },
  {
   "cell_type": "code",
   "execution_count": 186,
   "metadata": {},
   "outputs": [
    {
     "name": "stdout",
     "output_type": "stream",
     "text": [
      "Random Forest Accuracy Score with Tuning:\n",
      "----------------\n",
      "Training set: 86.08 %\n",
      "Running time: 0:00:00.188582\n",
      "----------------\n",
      "Validation set: 83.28 %\n",
      "Running time: 0:00:00.545866\n"
     ]
    }
   ],
   "source": [
    "start_time = datetime.now()\n",
    "best_forest = RandomForestClassifier(random_state=0, criterion = 'entropy', max_depth = 20, max_features='auto',min_samples_leaf=5)\n",
    "best_forest.fit(X, Y)\n",
    "trainscore_best_forest = round(best_forest.score(X,Y)*100,2)\n",
    "validscore_best_forest = round(best_forest.score(X,Y)*100,2)\n",
    "end_time = datetime.now()\n",
    "\n",
    "start_time_cv = datetime.now()\n",
    "best_forest_cv = cross_val_score(best_forest,X,Y,cv=10, n_jobs=-1)\n",
    "validscore_best_forest = round(best_forest_cv.mean()*100,2)\n",
    "end_time_cv = datetime.now()\n",
    "\n",
    "print('Random Forest Accuracy Score with Tuning:')\n",
    "print('----------------')\n",
    "print('Training set:', str(trainscore_best_forest), '%')\n",
    "print('Running time: {}'.format(end_time - start_time))\n",
    "print('----------------')\n",
    "print('Validation set:', str(validscore_best_forest), '%')\n",
    "print('Running time: {}'.format(end_time_cv - start_time_cv))"
   ]
  },
  {
   "cell_type": "code",
   "execution_count": 187,
   "metadata": {},
   "outputs": [
    {
     "data": {
      "text/plain": [
       "array([0.10236767, 0.0341719 , 0.07313471, 0.13523632, 0.13841659,\n",
       "       0.01911097, 0.        , 0.00688995, 0.03339938, 0.1415698 ,\n",
       "       0.04435698, 0.01411502, 0.00839901, 0.0165679 , 0.23226382])"
      ]
     },
     "execution_count": 187,
     "metadata": {},
     "output_type": "execute_result"
    }
   ],
   "source": [
    "best_forest.feature_importances_"
   ]
  },
  {
   "cell_type": "code",
   "execution_count": 188,
   "metadata": {},
   "outputs": [
    {
     "data": {
      "text/plain": [
       "<BarContainer object of 15 artists>"
      ]
     },
     "execution_count": 188,
     "metadata": {},
     "output_type": "execute_result"
    },
    {
     "data": {
      "image/png": "[encoded data removed]",
      "text/plain": [
       "<Figure size 432x288 with 1 Axes>"
      ]
     },
     "metadata": {},
     "output_type": "display_data"
    }
   ],
   "source": [
    "plt.barh(X.columns, best_forest.feature_importances_ )"
   ]
  },
  {
   "cell_type": "code",
   "execution_count": 189,
   "metadata": {},
   "outputs": [
    {
     "data": {
      "image/png": "[encoded data removed]",
      "text/plain": [
       "<Figure size 432x288 with 1 Axes>"
      ]
     },
     "metadata": {},
     "output_type": "display_data"
    }
   ],
   "source": [
    "sorted_idx = best_forest.feature_importances_.argsort()\n",
    "plt.barh(X.columns[sorted_idx], best_forest.feature_importances_[sorted_idx])\n",
    "plt.xlabel(\"Random Forest Feature Importance\");"
   ]
  },
  {
   "cell_type": "markdown",
   "metadata": {},
   "source": [
    "### Model 8: Gradient Boosting"
   ]
  },
  {
   "cell_type": "code",
   "execution_count": 190,
   "metadata": {},
   "outputs": [
    {
     "name": "stdout",
     "output_type": "stream",
     "text": [
      "Gradient Boosting Accuracy Score with Tuning:\n",
      "----------------\n",
      "Training set: 89.45 %\n",
      "Running time: 0:00:00.141624\n",
      "----------------\n",
      "Validation set: 83.05 %\n",
      "Running time: 0:00:00.423913\n"
     ]
    }
   ],
   "source": [
    "start_time = datetime.now()\n",
    "best_gboost = GradientBoostingClassifier(random_state = 0, learning_rate=0.1, n_estimators=150)\n",
    "best_gboost.fit(X, Y)\n",
    "trainscore_best_gboost = round(best_gboost.score(X,Y)*100,2)\n",
    "end_time = datetime.now()\n",
    "\n",
    "start_time_cv = datetime.now()\n",
    "best_gboost_cv = cross_val_score(best_gboost,X,Y,cv=10, n_jobs=-1)\n",
    "validscore_best_gboost = round(best_gboost_cv.mean()*100,2)\n",
    "end_time_cv = datetime.now()\n",
    "\n",
    "print('Gradient Boosting Accuracy Score with Tuning:')\n",
    "print('----------------')\n",
    "print('Training set:', str(trainscore_best_gboost), '%')\n",
    "print('Running time: {}'.format(end_time - start_time))\n",
    "print('----------------')\n",
    "print('Validation set:', str(validscore_best_gboost), '%')\n",
    "print('Running time: {}'.format(end_time_cv - start_time_cv))"
   ]
  },
  {
   "cell_type": "code",
   "execution_count": 198,
   "metadata": {},
   "outputs": [],
   "source": [
    "### Model 9: XG Boost"
   ]
  },
  {
   "cell_type": "code",
   "execution_count": 192,
   "metadata": {},
   "outputs": [
    {
     "name": "stdout",
     "output_type": "stream",
     "text": [
      "[16:35:32] WARNING: C:/Users/Administrator/workspace/xgboost-win64_release_1.4.0/src/learner.cc:1095: Starting in XGBoost 1.3.0, the default evaluation metric used with the objective 'binary:logistic' was changed from 'error' to 'logloss'. Explicitly set eval_metric if you'd like to restore the old behavior.\n",
      "XG Boost Accuracy Score with Tuning:\n",
      "----------------\n",
      "Training set: 88.89 %\n",
      "Running time: 0:00:00.540279\n",
      "----------------\n",
      "Validation set: 83.5 %\n",
      "Running time: 0:00:02.930208\n"
     ]
    }
   ],
   "source": [
    "start_time = datetime.now()\n",
    "best_xgboost = XGBClassifier(random_state = 0,subsample = 0.55,reg_lambda=2,reg_alpha=1,n_estimators=550,min_child_weight=0.01,max_depth=5,learning_rate=0.15,gamma=1,colsample_bytree=0.75, use_label_encoder=False)\n",
    "best_xgboost.fit(X, Y)\n",
    "trainscore_best_xgboost = round(best_xgboost.score(X,Y)*100,2)\n",
    "end_time = datetime.now()\n",
    "\n",
    "start_time_cv = datetime.now()\n",
    "best_xgboost_cv = cross_val_score(best_xgboost,X,Y,cv=10, n_jobs=-1)\n",
    "validscore_best_xgboost = round(best_xgboost_cv.mean()*100,2)\n",
    "end_time_cv = datetime.now()\n",
    "\n",
    "print('XG Boost Accuracy Score with Tuning:')\n",
    "print('----------------')\n",
    "print('Training set:', str(trainscore_best_xgboost), '%')\n",
    "print('Running time: {}'.format(end_time - start_time))\n",
    "print('----------------')\n",
    "print('Validation set:', str(validscore_best_xgboost), '%')\n",
    "print('Running time: {}'.format(end_time_cv - start_time_cv))"
   ]
  },
  {
   "cell_type": "markdown",
   "metadata": {},
   "source": [
    "# 9. Model Submission"
   ]
  },
  {
   "cell_type": "code",
   "execution_count": 193,
   "metadata": {},
   "outputs": [],
   "source": [
    "#Make predictions based on the features using the test data set\n",
    "\n",
    "predictions_log = best_log.predict(df_test_final)\n",
    "predictions_knn = best_knn.predict(df_test_final)\n",
    "predictions_svc_rbf = best_svc_rbf.predict(df_test_final)\n",
    "predictions_gauss = best_gauss.predict(df_test_final)\n",
    "predictions_tree = best_tree.predict(df_test_final)\n",
    "predictions_forest = best_forest.predict(df_test_final)\n",
    "predictions_gboost = best_gboost.predict(df_test_final)\n",
    "predictions_xgboost = best_xgboost.predict(df_test_final)"
   ]
  },
  {
   "cell_type": "code",
   "execution_count": 194,
   "metadata": {},
   "outputs": [],
   "source": [
    "#Convert the prediction output to dataframe\n",
    "\n",
    "#Prediction using logistic regression\n",
    "submission_array_log = {'PassengerId':df_test.PassengerId, 'Survived' :predictions_log}\n",
    "submission_dataframe_log = pd.DataFrame(data =submission_array_log)\n",
    "\n",
    "#Prediction using K Neighbours\n",
    "submission_array_knn = {'PassengerId':df_test.PassengerId, 'Survived' :predictions_knn}\n",
    "submission_dataframe_knn = pd.DataFrame(data =submission_array_knn)\n",
    "\n",
    "#Prediction using support vector classifier\n",
    "submission_array_svc_rbf = {'PassengerId':df_test.PassengerId, 'Survived' :predictions_svc_rbf}\n",
    "submission_dataframe_svc_rbf = pd.DataFrame(data =submission_array_svc_rbf)\n",
    "\n",
    "#Prediction using Gaussian Naive Bayes\n",
    "submission_array_gauss = {'PassengerId':df_test.PassengerId, 'Survived' :predictions_gauss}\n",
    "submission_dataframe_gauss = pd.DataFrame(data =submission_array_gauss)\n",
    "\n",
    "#Prediction using Decision Trees\n",
    "submission_array_tree = {'PassengerId':df_test.PassengerId, 'Survived' :predictions_tree}\n",
    "submission_dataframe_tree = pd.DataFrame(data =submission_array_tree)\n",
    "\n",
    "#Prediction using Random Forest\n",
    "submission_array_forest = {'PassengerId':df_test.PassengerId, 'Survived' :predictions_forest}\n",
    "submission_dataframe_forest = pd.DataFrame(data =submission_array_forest)\n",
    "\n",
    "#Prediction using Gradient Boost\n",
    "submission_array_gboost = {'PassengerId':df_test.PassengerId, 'Survived' :predictions_gboost}\n",
    "submission_dataframe_gboost = pd.DataFrame(data =submission_array_gboost)\n",
    "\n",
    "#Prediction using XG Boost Classifier\n",
    "submission_array_xgboost = {'PassengerId':df_test.PassengerId, 'Survived' :predictions_xgboost}\n",
    "submission_dataframe_xgboost = pd.DataFrame(data =submission_array_xgboost)"
   ]
  },
  {
   "cell_type": "code",
   "execution_count": 195,
   "metadata": {},
   "outputs": [],
   "source": [
    "#prepare submission files\n",
    "\n",
    "submission_dataframe_log.to_csv('submission_dataframe_log.csv', index =False)\n",
    "submission_dataframe_knn.to_csv('submission_dataframe_knn.csv', index =False)\n",
    "submission_dataframe_svc_rbf.to_csv('submission_dataframe_svc_rbf.csv', index =False)\n",
    "submission_dataframe_gauss.to_csv('submission_dataframe_gauss.csv', index =False)\n",
    "submission_dataframe_tree.to_csv('submission_dataframe_tree.csv', index =False)\n",
    "submission_dataframe_forest.to_csv('submission_dataframe_forest.csv', index =False)\n",
    "submission_dataframe_gboost.to_csv('submission_dataframe_gboost.csv', index =False)\n",
    "submission_dataframe_xgboost.to_csv('submission_dataframe_xgboost.csv', index =False)"
   ]
  }
 ],
 "metadata": {
  "kernelspec": {
   "display_name": "Python 3",
   "language": "python",
   "name": "python3"
  },
  "language_info": {
   "codemirror_mode": {
    "name": "ipython",
    "version": 3
   },
   "file_extension": ".py",
   "mimetype": "text/x-python",
   "name": "python",
   "nbconvert_exporter": "python",
   "pygments_lexer": "ipython3",
   "version": "3.8.5"
  },
  "papermill": {
   "default_parameters": {},
   "duration": 40.005503,
   "end_time": "2021-09-21T09:14:50.395636",
   "environment_variables": {},
   "exception": null,
   "input_path": "__notebook__.ipynb",
   "output_path": "__notebook__.ipynb",
   "parameters": {},
   "start_time": "2021-09-21T09:14:10.390133",
   "version": "2.3.3"
  }
 },
 "nbformat": 4,
 "nbformat_minor": 5
}
